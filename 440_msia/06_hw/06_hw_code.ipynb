{
 "cells": [
  {
   "cell_type": "code",
   "execution_count": 1,
   "metadata": {},
   "outputs": [
    {
     "name": "stdout",
     "output_type": "stream",
     "text": [
      "Critical Fractile: 0.5045454545454545\n",
      "Protection Level for Full-fare Seats (Q*): 46\n",
      "Booking Limit for Economy Seats (BL): 184\n"
     ]
    }
   ],
   "source": [
    "# Define the ticket prices for full-fare and economy class\n",
    "price_full_fare = 440\n",
    "price_economy = 218\n",
    "\n",
    "# Calculate the critical fractile\n",
    "critical_fractile = (price_full_fare - price_economy) / price_full_fare\n",
    "\n",
    "# Print the critical fractile\n",
    "print(f\"Critical Fractile: {critical_fractile}\")\n",
    "\n",
    "# Given empirical distribution table\n",
    "# This should ideally come from the empirical data provided\n",
    "# For this example, let's assume it's an array of tuples with demand and cumulative probability\n",
    "empirical_distribution = [\n",
    "    (40, 0.25), (41, 0.31), (42, 0.35), \n",
    "    (43, 0.36), (44, 0.42), (45, 0.49),\n",
    "    (46, 0.51), (47, 0.54), (48, 0.57), \n",
    "    (49, 0.62), (50, 0.65), (51, 0.70),\n",
    "    (52, 0.74), (53, 0.80), (54, 0.89), \n",
    "    (55, 1.00)\n",
    "]\n",
    "\n",
    "# Find the smallest cumulative probability that is greater than or equal to the critical fractile\n",
    "protection_level = next(demand for demand, cum_prob in empirical_distribution if cum_prob >= critical_fractile)\n",
    "\n",
    "# Total number of coach seats\n",
    "total_seats = 230\n",
    "\n",
    "# Calculate the booking limit for economy seats\n",
    "booking_limit_economy = total_seats - protection_level\n",
    "\n",
    "# Print the protection level and booking limit for economy seats\n",
    "print(f\"Protection Level for Full-fare Seats (Q*): {protection_level}\")\n",
    "print(f\"Booking Limit for Economy Seats (BL): {booking_limit_economy}\")"
   ]
  },
  {
   "cell_type": "markdown",
   "metadata": {},
   "source": [
    "# Airline Revenue Management Analysis\n",
    "\n",
    "## Protection Level and Booking Limit Calculation\n",
    "\n",
    "### Problem Statement\n",
    "An airline offers two fare classes for coach seats on a particular flight: full-fare class at \\$440/ticket and economy class at \\$218/ticket. There are 230 coach seats on the aircraft. The demand for full-fare seats has an empirical distribution with a mean of 43 and a standard deviation of 8.\n",
    "\n",
    "### a) Calculation of Protection Level and Booking Limit for Low-fare Seats\n",
    "\n",
    "1. **Critical Fractile Calculation**:\n",
    "   The critical fractile is calculated using the formula:\n",
    "   \n",
    "   $q = F^{-1}\\left(\\frac{p-c}{p}\\right)$\n",
    "   \n",
    "   Where $p$ is the full-fare price, $c$ is the economy fare price, and $F^{-1}$ represents the inverse of the cumulative distribution function of the demand.\n",
    "   \n",
    "   Given that $p = \\$440$ and $c = \\$218$, we compute the critical fractile as:\n",
    "   \n",
    "   $Critical\\ Fractile = \\frac{440 - 218}{440} \\approx 0.505$\n",
    "   \n",
    "2. **Protection Level**:\n",
    "   By comparing the critical fractile with the empirical distribution, we determine the protection level $Q^*$ as the full-fare demand $Q$ at the smallest cumulative probability greater than or equal to the critical fractile.\n",
    "   \n",
    "   Protection Level (Q^*): `46`\n",
    "\n",
    "3. **Booking Limit for Economy Seats**:\n",
    "   The booking limit for economy seats (BL) is calculated as the total number of coach seats minus the protection level.\n",
    "   \n",
    "   Booking Limit (BL): `184`\n",
    "\n",
    "### b) Impact of Last-minute Discounted Sales on Protection Level\n",
    "\n",
    "- **Expectation**: The protection level $Q^*$ is expected to be **Higher**.\n",
    "- **Justification**: The opportunity to sell unsold seats at the last minute at a reduced rate reduces the opportunity cost of reserving a seat for a full-fare customer. This can potentially increase the protection level since the risk of a seat remaining unsold is mitigated by the possibility of last-minute sales.\n"
   ]
  }
 ],
 "metadata": {
  "kernelspec": {
   "display_name": ".venv",
   "language": "python",
   "name": "python3"
  },
  "language_info": {
   "codemirror_mode": {
    "name": "ipython",
    "version": 3
   },
   "file_extension": ".py",
   "mimetype": "text/x-python",
   "name": "python",
   "nbconvert_exporter": "python",
   "pygments_lexer": "ipython3",
   "version": "3.10.7"
  }
 },
 "nbformat": 4,
 "nbformat_minor": 2
}
