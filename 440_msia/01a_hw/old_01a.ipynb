{
 "cells": [
  {
   "attachments": {},
   "cell_type": "markdown",
   "metadata": {},
   "source": [
    "## Question 1"
   ]
  },
  {
   "attachments": {},
   "cell_type": "markdown",
   "metadata": {},
   "source": [
    "#### <ins>Equation A</ins>\n",
    "The equation $x+y-z=0$ is valid in a linear program because it is a linear equation."
   ]
  },
  {
   "attachments": {},
   "cell_type": "markdown",
   "metadata": {},
   "source": [
    "#### <ins>Equation B</ins>\n",
    "The equation $x \\le \\frac{100}{y}$ is not valid in a linear program because it is a non-linear function.\n"
   ]
  },
  {
   "attachments": {},
   "cell_type": "markdown",
   "metadata": {},
   "source": [
    "#### <ins>Equation C</ins>\n",
    "The equation $3x+2y \\le \\sqrt{5}$ is valid in a linear program because it is a linear function.\n"
   ]
  },
  {
   "attachments": {},
   "cell_type": "markdown",
   "metadata": {},
   "source": [
    "#### <ins>Equation D</ins>\n",
    "The equation $\\sqrt{5}x+2y = 50$ is valid in a linear program because it is a linear function.\n"
   ]
  },
  {
   "attachments": {},
   "cell_type": "markdown",
   "metadata": {},
   "source": [
    "#### <ins>Equation E</ins>\n",
    "The equation $\\sqrt{5x}+10y = 100$ is not valid in a linear program because it is a non-linear function as a result of $\\sqrt{5x}$.\n"
   ]
  },
  {
   "attachments": {},
   "cell_type": "markdown",
   "metadata": {},
   "source": [
    "#### <ins>Equation F</ins>\n",
    "The equation $x^{2}+y^{2} \\ge 45$ is not valid in a linear program because it contains quadratic terms.\n"
   ]
  },
  {
   "attachments": {},
   "cell_type": "markdown",
   "metadata": {},
   "source": [
    "## Question 6"
   ]
  },
  {
   "cell_type": "code",
   "execution_count": 39,
   "metadata": {},
   "outputs": [
    {
     "name": "stdout",
     "output_type": "stream",
     "text": [
      "Gurobi Optimizer version 10.0.3 build v10.0.3rc0 (win64)\n",
      "\n",
      "CPU model: Intel(R) Core(TM) i9-10850K CPU @ 3.60GHz, instruction set [SSE2|AVX|AVX2]\n",
      "Thread count: 10 physical cores, 20 logical processors, using up to 20 threads\n",
      "\n",
      "Optimize a model with 3 rows, 15 columns and 20 nonzeros\n",
      "Model fingerprint: 0xab337bf2\n",
      "Variable types: 0 continuous, 15 integer (0 binary)\n",
      "Coefficient statistics:\n",
      "  Matrix range     [1e+00, 4e+00]\n",
      "  Objective range  [1e+00, 1e+00]\n",
      "  Bounds range     [0e+00, 0e+00]\n",
      "  RHS range        [2e+02, 3e+02]\n",
      "Found heuristic solution: objective 500.0000000\n",
      "Presolve removed 0 rows and 9 columns\n",
      "Presolve time: 0.00s\n",
      "Presolved: 3 rows, 6 columns, 10 nonzeros\n",
      "Variable types: 0 continuous, 6 integer (0 binary)\n",
      "\n",
      "Root relaxation: objective 2.625000e+02, 4 iterations, 0.00 seconds (0.00 work units)\n",
      "\n",
      "    Nodes    |    Current Node    |     Objective Bounds      |     Work\n",
      " Expl Unexpl |  Obj  Depth IntInf | Incumbent    BestBd   Gap | It/Node Time\n",
      "\n",
      "     0     0  262.50000    0    1  500.00000  262.50000  47.5%     -    0s\n",
      "H    0     0                     263.0000000  262.50000  0.19%     -    0s\n",
      "     0     0  262.50000    0    1  263.00000  262.50000  0.19%     -    0s\n",
      "\n",
      "Explored 1 nodes (4 simplex iterations) in 0.01 seconds (0.00 work units)\n",
      "Thread count was 20 (of 20 available processors)\n",
      "\n",
      "Solution count 2: 263 500 \n",
      "\n",
      "Optimal solution found (tolerance 1.00e-04)\n",
      "Best objective 2.630000000000e+02, best bound 2.630000000000e+02, gap 0.0000%\n",
      "\n",
      "Optimal Solution:\n",
      "x_(0, 0, 2): 150.0\n",
      "x_(1, 2, 0): 100.0\n",
      "x_(2, 0, 1): 1.0\n",
      "x_(4, 0, 0): 12.0\n",
      "Minimum number of 20-foot rolls needed: 263.0\n"
     ]
    }
   ],
   "source": [
    "import gurobipy as gp\n",
    "\n",
    "# Create a new model\n",
    "model = gp.Model(\"cutting_stock\")\n",
    "\n",
    "# Orders: [Width, Number of Rolls]\n",
    "orders = [(5, 150), (7, 200), (9, 300)]\n",
    "\n",
    "# Generate all combinations to cut 20-foot rolls into widths of 5, 7, and 9 feet\n",
    "possible_cuts = []\n",
    "for cut_5 in range(5):\n",
    "    for cut_7 in range(3):\n",
    "        for cut_9 in range(3):\n",
    "            if cut_5 * 5 + cut_7 * 7 + cut_9 * 9 <= 20:\n",
    "                possible_cuts.append((cut_5, cut_7, cut_9))\n",
    "\n",
    "# Decision Variables\n",
    "x = {}\n",
    "for i, cut in enumerate(possible_cuts):\n",
    "    x[i] = model.addVar(vtype=gp.GRB.INTEGER, name=f\"x_{cut}\")\n",
    "\n",
    "# Objective Function: Minimize the total number of 20-foot rolls\n",
    "model.setObjective(sum(x[i] for i in x), gp.GRB.MINIMIZE)\n",
    "\n",
    "# Constraints: Meet the total demand for each order\n",
    "for j, (width, demand) in enumerate(orders):\n",
    "    model.addConstr(\n",
    "        sum(x[i] * possible_cuts[i][j] for i in range(len(possible_cuts))) >= demand, \n",
    "        name=f\"demand_{j}\"\n",
    "    )\n",
    "\n",
    "# Solve the model\n",
    "model.optimize()\n",
    "\n",
    "# Output Results\n",
    "print(\"\\nOptimal Solution:\")\n",
    "for v in model.getVars():\n",
    "    if v.x > 0:  # Only show cuts that are actually used\n",
    "        print(f\"{v.varName}: {v.x}\")\n",
    "print(f\"Minimum number of 20-foot rolls needed: {model.objVal}\")"
   ]
  },
  {
   "cell_type": "code",
   "execution_count": 11,
   "metadata": {},
   "outputs": [
    {
     "name": "stdout",
     "output_type": "stream",
     "text": [
      "orders_1 : 150\n",
      "orders_2 : 200\n",
      "orders_3 : 300\n",
      "num_5 : -0\n",
      "num_7 : -0\n",
      "num_9 : -0\n",
      "Number of Rolls Used : 243\n",
      "--------\n",
      " roll \n",
      "Remaining Slack  20.0\n",
      "--------\n",
      " width_5 \n",
      "Remaining Slack  -0.0\n",
      "--------\n",
      " width_7 \n",
      "Remaining Slack  -0.0\n",
      "--------\n",
      " width_9 \n",
      "Remaining Slack  -0.0\n"
     ]
    }
   ],
   "source": [
    "import gurobipy as gp\n",
    "\n",
    "model = gp.Model('Cutting_Stock')\n",
    "\n",
    "# Create the decision variables\n",
    "a = model.addVar(vtype=gp.GRB.INTEGER, name='orders_1')\n",
    "b = model.addVar(vtype=gp.GRB.INTEGER, name='orders_2')\n",
    "c = model.addVar(vtype=gp.GRB.INTEGER, name='orders_3')\n",
    "\n",
    "combinations = generate_combinations()\n",
    "combo_vars = {}\n",
    "for i, combo in enumerate(combinations):\n",
    "    var_name = f'roll_{i+1}'\n",
    "    combo_vars[var_name] = model.addVar(vtype=gp.GRB.INTEGER, name=var_name)\n",
    "\n",
    "# Order constraints\n",
    "width_5 = model.addConstr(a >= 150, 'width_5')\n",
    "width_7 = model.addConstr(b >= 200, 'width_7')\n",
    "width_9 = model.addConstr(c >= 300, 'width_9')\n",
    "\n",
    "#\n",
    "\n",
    "# Create the objective function\n",
    "model.setObjective(5 * a + 7 * b + 9 * c, gp.GRB.MINIMIZE)\n",
    "\n",
    "# Extra material. You don't need them, but it's nice to know what they do!\n",
    "model.write(model.ModelName + '.lp')\n",
    "model.setParam('OutputFlag', 0)\n",
    "\n",
    "# Solve the model\n",
    "model.optimize()\n",
    "\n",
    "# Check the solution\n",
    "for v in model.getVars():\n",
    "    print('%s : %g' % (v.varName, v.x))\n",
    "\n",
    "print(f\"Number of Rolls Used : {int(model.objVal // 20 + 1)}\")\n",
    "\n",
    "# How to get Shadow Price\n",
    "for constraint in model.getConstrs():\n",
    "    print(\"--------\\n\", constraint.ConstrName, \"\\nRemaining Slack \", constraint.Slack)"
   ]
  }
 ],
 "metadata": {
  "kernelspec": {
   "display_name": "base",
   "language": "python",
   "name": "python3"
  },
  "language_info": {
   "codemirror_mode": {
    "name": "ipython",
    "version": 3
   },
   "file_extension": ".py",
   "mimetype": "text/x-python",
   "name": "python",
   "nbconvert_exporter": "python",
   "pygments_lexer": "ipython3",
   "version": "3.10.4"
  },
  "orig_nbformat": 4
 },
 "nbformat": 4,
 "nbformat_minor": 2
}
