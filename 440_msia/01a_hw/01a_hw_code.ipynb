{
 "cells": [
  {
   "attachments": {},
   "cell_type": "markdown",
   "metadata": {},
   "source": [
    "## Question 1"
   ]
  },
  {
   "attachments": {},
   "cell_type": "markdown",
   "metadata": {},
   "source": [
    "#### <ins>Equation A</ins>\n",
    "The equation $x+y-z=0$ is valid in a linear program because it is a linear equation."
   ]
  },
  {
   "attachments": {},
   "cell_type": "markdown",
   "metadata": {},
   "source": [
    "#### <ins>Equation B</ins>\n",
    "The equation $x \\le \\frac{100}{y}$ is not valid in a linear program because it is a non-linear function.\n"
   ]
  },
  {
   "attachments": {},
   "cell_type": "markdown",
   "metadata": {},
   "source": [
    "#### <ins>Equation C</ins>\n",
    "The equation $3x+2y \\le \\sqrt{5}$ is valid in a linear program because it is a linear function.\n"
   ]
  },
  {
   "attachments": {},
   "cell_type": "markdown",
   "metadata": {},
   "source": [
    "#### <ins>Equation D</ins>\n",
    "The equation $\\sqrt{5}x+2y = 50$ is valid in a linear program because it is a linear function.\n"
   ]
  },
  {
   "attachments": {},
   "cell_type": "markdown",
   "metadata": {},
   "source": [
    "#### <ins>Equation E</ins>\n",
    "The equation $\\sqrt{5x}+10y = 100$ is not valid in a linear program because it is a non-linear function as a result of the $\\sqrt{5x}$.\n"
   ]
  },
  {
   "attachments": {},
   "cell_type": "markdown",
   "metadata": {},
   "source": [
    "#### <ins>Equation F</ins>\n",
    "The equation $x^{2}+y^{2} \\ge 45$ is not valid in a linear program because it contains quadratic terms.\n"
   ]
  },
  {
   "attachments": {},
   "cell_type": "markdown",
   "metadata": {},
   "source": [
    "## Question 6"
   ]
  }
 ],
 "metadata": {
  "language_info": {
   "name": "python"
  },
  "orig_nbformat": 4
 },
 "nbformat": 4,
 "nbformat_minor": 2
}
