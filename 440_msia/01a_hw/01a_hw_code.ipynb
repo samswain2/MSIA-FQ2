{
 "cells": [
  {
   "attachments": {},
   "cell_type": "markdown",
   "metadata": {},
   "source": [
    "## Question 1"
   ]
  },
  {
   "attachments": {},
   "cell_type": "markdown",
   "metadata": {},
   "source": [
    "#### <ins>Equation A</ins>\n",
    "The equation $x+y-z=0$ is valid in a linear program because it is a linear equation."
   ]
  },
  {
   "attachments": {},
   "cell_type": "markdown",
   "metadata": {},
   "source": [
    "#### <ins>Equation B</ins>\n",
    "The equation $x \\le \\frac{100}{y}$ is not valid in a linear program because it is a non-linear function.\n"
   ]
  },
  {
   "attachments": {},
   "cell_type": "markdown",
   "metadata": {},
   "source": [
    "#### <ins>Equation C</ins>\n",
    "The equation $3x+2y \\le \\sqrt{5}$ is valid in a linear program because it is a linear function.\n"
   ]
  },
  {
   "attachments": {},
   "cell_type": "markdown",
   "metadata": {},
   "source": [
    "#### <ins>Equation D</ins>\n",
    "The equation $\\sqrt{5}x+2y = 50$ is valid in a linear program because it is a linear function.\n"
   ]
  },
  {
   "attachments": {},
   "cell_type": "markdown",
   "metadata": {},
   "source": [
    "#### <ins>Equation E</ins>\n",
    "The equation $\\sqrt{5x}+10y = 100$ is not valid in a linear program because it is a non-linear function as a result of $\\sqrt{5x}$.\n"
   ]
  },
  {
   "attachments": {},
   "cell_type": "markdown",
   "metadata": {},
   "source": [
    "#### <ins>Equation F</ins>\n",
    "The equation $x^{2}+y^{2} \\ge 45$ is not valid in a linear program because it contains quadratic terms.\n"
   ]
  },
  {
   "cell_type": "markdown",
   "metadata": {},
   "source": [
    "## Question 2"
   ]
  },
  {
   "cell_type": "markdown",
   "metadata": {},
   "source": [
    "2.\tFormulate and solve the “Two Products – Three Machine” problem from Class #1 as a linear program.  Also, how would you set up this model so you could scale it?  That is, how would you structure it if you had a lot of machines and a lot of products?"
   ]
  },
  {
   "cell_type": "code",
   "execution_count": null,
   "metadata": {},
   "outputs": [],
   "source": []
  },
  {
   "cell_type": "markdown",
   "metadata": {},
   "source": [
    "## Question 3"
   ]
  },
  {
   "cell_type": "markdown",
   "metadata": {},
   "source": [
    "3.\tYour non-vegetarian friend wants to determine how many units of different kinds of meat he should eat to get the right amounts of vitamins A, C, B1, and B2 over the week.  He also wants to minimize his cost.  What should his diet be?  How would you modify the linear program to make it “better?”  You can find the cost for each unit of food and the percent of daily requirements for each vitamin type in the spreadsheet. "
   ]
  },
  {
   "cell_type": "code",
   "execution_count": null,
   "metadata": {},
   "outputs": [],
   "source": []
  },
  {
   "cell_type": "markdown",
   "metadata": {},
   "source": [
    "## Question 4"
   ]
  },
  {
   "cell_type": "markdown",
   "metadata": {},
   "source": [
    "4.\tSolve the gas blending problem introduced in class.  That is, determine how much of each type of gas you should buy and what you should use it for.  Make sure you can explain the full model and especially the blending constraints.  "
   ]
  },
  {
   "cell_type": "code",
   "execution_count": null,
   "metadata": {},
   "outputs": [],
   "source": []
  },
  {
   "cell_type": "markdown",
   "metadata": {},
   "source": [
    "## Question 5"
   ]
  },
  {
   "cell_type": "markdown",
   "metadata": {},
   "source": [
    "5.\tSolve the nurse scheduling problem introduced in class.  You want to know the minimum number of nurses needed to cover the 24-hour period.  You can assume that the next day is the same as this one."
   ]
  },
  {
   "cell_type": "code",
   "execution_count": null,
   "metadata": {},
   "outputs": [],
   "source": []
  },
  {
   "attachments": {},
   "cell_type": "markdown",
   "metadata": {},
   "source": [
    "## Question 6"
   ]
  },
  {
   "cell_type": "code",
   "execution_count": 47,
   "metadata": {},
   "outputs": [
    {
     "name": "stdout",
     "output_type": "stream",
     "text": [
      "Gurobi Optimizer version 10.0.3 build v10.0.3rc0 (win64)\n",
      "\n",
      "CPU model: Intel(R) Core(TM) i9-10850K CPU @ 3.60GHz, instruction set [SSE2|AVX|AVX2]\n",
      "Thread count: 10 physical cores, 20 logical processors, using up to 20 threads\n",
      "\n",
      "Optimize a model with 3 rows, 15 columns and 20 nonzeros\n",
      "Model fingerprint: 0xab337bf2\n",
      "Variable types: 0 continuous, 15 integer (0 binary)\n",
      "Coefficient statistics:\n",
      "  Matrix range     [1e+00, 4e+00]\n",
      "  Objective range  [1e+00, 1e+00]\n",
      "  Bounds range     [0e+00, 0e+00]\n",
      "  RHS range        [2e+02, 3e+02]\n",
      "Found heuristic solution: objective 500.0000000\n",
      "Presolve removed 0 rows and 9 columns\n",
      "Presolve time: 0.00s\n",
      "Presolved: 3 rows, 6 columns, 10 nonzeros\n",
      "Variable types: 0 continuous, 6 integer (0 binary)\n",
      "\n",
      "Root relaxation: objective 2.625000e+02, 4 iterations, 0.00 seconds (0.00 work units)\n",
      "\n",
      "    Nodes    |    Current Node    |     Objective Bounds      |     Work\n",
      " Expl Unexpl |  Obj  Depth IntInf | Incumbent    BestBd   Gap | It/Node Time\n",
      "\n",
      "     0     0  262.50000    0    1  500.00000  262.50000  47.5%     -    0s\n",
      "H    0     0                     263.0000000  262.50000  0.19%     -    0s\n",
      "     0     0  262.50000    0    1  263.00000  262.50000  0.19%     -    0s\n",
      "\n",
      "Explored 1 nodes (4 simplex iterations) in 0.01 seconds (0.00 work units)\n",
      "Thread count was 20 (of 20 available processors)\n",
      "\n",
      "Solution count 2: 263 500 \n",
      "\n",
      "Optimal solution found (tolerance 1.00e-04)\n",
      "Best objective 2.630000000000e+02, best bound 2.630000000000e+02, gap 0.0000%\n",
      "\n",
      "Optimal Solution:\n",
      "x_(0, 0, 2): 150.0\n",
      "x_(1, 2, 0): 100.0\n",
      "x_(2, 0, 1): 1.0\n",
      "x_(4, 0, 0): 12.0\n",
      "Minimum number of 20-foot rolls needed: 263.0\n"
     ]
    }
   ],
   "source": [
    "import gurobipy as gp\n",
    "\n",
    "# Create a new model\n",
    "model = gp.Model(\"cutting_stock\")\n",
    "\n",
    "# Orders: [Width, Number of Rolls]\n",
    "orders = [(5, 150), (7, 200), (9, 300)]\n",
    "\n",
    "# Generate all combinations to cut 20-foot rolls into widths of 5, 7, and 9 feet\n",
    "possible_cuts = []\n",
    "for cut_5 in range(5):\n",
    "    for cut_7 in range(3):\n",
    "        for cut_9 in range(3):\n",
    "            if cut_5 * 5 + cut_7 * 7 + cut_9 * 9 <= 20:\n",
    "                possible_cuts.append((cut_5, cut_7, cut_9))\n",
    "\n",
    "# Decision Variables\n",
    "x = {}\n",
    "for i, cut in enumerate(possible_cuts):\n",
    "    x[i] = model.addVar(vtype=gp.GRB.INTEGER, name=f\"x_{cut}\")\n",
    "\n",
    "# Objective Function: Minimize the total number of 20-foot rolls\n",
    "model.setObjective(sum(x[i] for i in x), gp.GRB.MINIMIZE)\n",
    "\n",
    "# Constraints: Meet the total demand for each order\n",
    "for j, (width, demand) in enumerate(orders):\n",
    "    model.addConstr(\n",
    "        sum(x[i] * possible_cuts[i][j] for i in range(len(possible_cuts))) >= demand, \n",
    "        name=f\"demand_{j}\"\n",
    "    )\n",
    "\n",
    "# Solve the model\n",
    "model.optimize()\n",
    "\n",
    "# Output Results\n",
    "print(\"\\nOptimal Solution:\")\n",
    "for v in model.getVars():\n",
    "    if v.x > 0:  # Only show cuts that are actually used\n",
    "        print(f\"{v.varName}: {v.x}\")\n",
    "print(f\"Minimum number of 20-foot rolls needed: {model.objVal}\")"
   ]
  },
  {
   "cell_type": "code",
   "execution_count": 58,
   "metadata": {},
   "outputs": [
    {
     "name": "stdout",
     "output_type": "stream",
     "text": [
      "Total leftover length: 401\n"
     ]
    }
   ],
   "source": [
    "# Initialize total leftover length to zero\n",
    "total_leftover_length = 0\n",
    "\n",
    "# Sum up the total leftover length based on the optimal solution\n",
    "for i, v in enumerate(model.getVars()):\n",
    "    if v.x > 0:\n",
    "        cut_5, cut_7, cut_9 = possible_cuts[i]\n",
    "        used_length = cut_5 * 5 + cut_7 * 7 + cut_9 * 9\n",
    "        leftover_length = 20 - used_length  # leftover material for one roll of this cut\n",
    "        total_leftover_length += int(v.x) * leftover_length  # sum it up for all rolls of this cut\n",
    "\n",
    "# Print total leftover length\n",
    "print(f\"Total leftover length: {total_leftover_length}\")"
   ]
  },
  {
   "cell_type": "code",
   "execution_count": 60,
   "metadata": {},
   "outputs": [
    {
     "data": {
      "text/plain": [
       "410"
      ]
     },
     "execution_count": 60,
     "metadata": {},
     "output_type": "execute_result"
    }
   ],
   "source": [
    "(263 * 20) - (5 * 150 + 7 * 200 + 9 * 300)"
   ]
  }
 ],
 "metadata": {
  "kernelspec": {
   "display_name": "base",
   "language": "python",
   "name": "python3"
  },
  "language_info": {
   "codemirror_mode": {
    "name": "ipython",
    "version": 3
   },
   "file_extension": ".py",
   "mimetype": "text/x-python",
   "name": "python",
   "nbconvert_exporter": "python",
   "pygments_lexer": "ipython3",
   "version": "3.10.4"
  },
  "orig_nbformat": 4
 },
 "nbformat": 4,
 "nbformat_minor": 2
}
