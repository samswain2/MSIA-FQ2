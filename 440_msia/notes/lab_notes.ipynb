{
 "cells": [
  {
   "cell_type": "code",
   "execution_count": 5,
   "metadata": {},
   "outputs": [],
   "source": [
    "import pandas as pd\n",
    "import gurobipy as gp"
   ]
  },
  {
   "cell_type": "code",
   "execution_count": 2,
   "metadata": {},
   "outputs": [],
   "source": [
    "data = pd.read_pickle('doctor_assignment_data.pkl')"
   ]
  },
  {
   "cell_type": "code",
   "execution_count": 4,
   "metadata": {},
   "outputs": [],
   "source": [
    "ranks = data['ranks'].item()\n",
    "schools = data['schools'].item()\n",
    "capacity = data['capacity'].item()\n",
    "m = data['m'].item()\n",
    "M = data['M'].item()"
   ]
  },
  {
   "cell_type": "code",
   "execution_count": 7,
   "metadata": {},
   "outputs": [],
   "source": [
    "model = gp.Model('doctor_assignment')\n",
    "X = model.addVars(100, 12, vtype=gp.GRB.BINARY,name='assignment')\n",
    "model.setObjective(gp.quicksum(ranks[i][j] * X[i, j] for i in range(100) for j in range(12)) / 100, gp.GRB.MINIMIZE)"
   ]
  },
  {
   "cell_type": "code",
   "execution_count": 9,
   "metadata": {},
   "outputs": [
    {
     "ename": "TypeError",
     "evalue": "unsupported operand type(s) for -: 'generator' and 'NoneType'",
     "output_type": "error",
     "traceback": [
      "\u001b[1;31m---------------------------------------------------------------------------\u001b[0m",
      "\u001b[1;31mTypeError\u001b[0m                                 Traceback (most recent call last)",
      "\u001b[1;32mc:\\Users\\Sam\\Desktop\\NW Work\\Fall_02 Work\\MSIA-FQ2\\440_msia\\notes\\lab_notes.ipynb Cell 5\u001b[0m line \u001b[0;36m1\n\u001b[1;32m----> <a href='vscode-notebook-cell:/c%3A/Users/Sam/Desktop/NW%20Work/Fall_02%20Work/MSIA-FQ2/440_msia/notes/lab_notes.ipynb#W4sZmlsZQ%3D%3D?line=0'>1</a>\u001b[0m CAP \u001b[39m=\u001b[39m model\u001b[39m.\u001b[39;49maddConstr(gp\u001b[39m.\u001b[39;49mquicksum(X[i, j] \u001b[39mfor\u001b[39;49;00m i \u001b[39min\u001b[39;49;00m \u001b[39mrange\u001b[39;49m(\u001b[39m100\u001b[39;49m)) \u001b[39m<\u001b[39;49m\u001b[39m=\u001b[39;49m capacity[j] \u001b[39mfor\u001b[39;49;00m j \u001b[39min\u001b[39;49;00m \u001b[39mrange\u001b[39;49m(\u001b[39m12\u001b[39;49m))\n\u001b[0;32m      <a href='vscode-notebook-cell:/c%3A/Users/Sam/Desktop/NW%20Work/Fall_02%20Work/MSIA-FQ2/440_msia/notes/lab_notes.ipynb#W4sZmlsZQ%3D%3D?line=1'>2</a>\u001b[0m ONE_JOB \u001b[39m=\u001b[39m model\u001b[39m.\u001b[39maddConstr(gp\u001b[39m.\u001b[39mquicksum(X[i, j] \u001b[39mfor\u001b[39;00m j \u001b[39min\u001b[39;00m \u001b[39mrange\u001b[39m(\u001b[39m12\u001b[39m))\u001b[39m==\u001b[39m\u001b[39m1\u001b[39m \u001b[39mfor\u001b[39;00m i \u001b[39min\u001b[39;00m \u001b[39mrange\u001b[39m(\u001b[39m100\u001b[39m))\n",
      "File \u001b[1;32msrc\\gurobipy\\model.pxi:3625\u001b[0m, in \u001b[0;36mgurobipy.Model.addConstr\u001b[1;34m()\u001b[0m\n",
      "\u001b[1;31mTypeError\u001b[0m: unsupported operand type(s) for -: 'generator' and 'NoneType'"
     ]
    }
   ],
   "source": [
    "CAP = model.addConstr(gp.quicksum(X[i, j] for i in range(100)) <= capacity[j] for j in range(12))\n",
    "ONE_JOB = model.addConstr(gp.quicksum(X[i, j] for j in range(12))==1 for i in range(100))"
   ]
  }
 ],
 "metadata": {
  "kernelspec": {
   "display_name": "Python 3",
   "language": "python",
   "name": "python3"
  },
  "language_info": {
   "codemirror_mode": {
    "name": "ipython",
    "version": 3
   },
   "file_extension": ".py",
   "mimetype": "text/x-python",
   "name": "python",
   "nbconvert_exporter": "python",
   "pygments_lexer": "ipython3",
   "version": "3.11.2"
  },
  "orig_nbformat": 4
 },
 "nbformat": 4,
 "nbformat_minor": 2
}
