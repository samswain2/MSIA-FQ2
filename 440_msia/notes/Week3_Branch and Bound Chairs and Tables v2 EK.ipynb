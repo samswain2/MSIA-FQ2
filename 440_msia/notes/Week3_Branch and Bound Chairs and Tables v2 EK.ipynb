{
 "cells": [
  {
   "cell_type": "code",
   "execution_count": 16,
   "metadata": {
    "ExecuteTime": {
     "end_time": "2022-09-15T17:20:05.548892Z",
     "start_time": "2022-09-15T17:20:05.216189Z"
    }
   },
   "outputs": [
    {
     "name": "stdout",
     "output_type": "stream",
     "text": [
      "x1 : 5.0\n",
      "x2 : 0.0\n",
      "Total Profit : 40\n"
     ]
    }
   ],
   "source": [
    "import pulp\n",
    "\n",
    "model = pulp.LpProblem(name='branch_and_bound', sense=pulp.LpMaximize)\n",
    "\n",
    "x1 = pulp.LpVariable(name='x1', lowBound=0, cat=pulp.LpContinuous)\n",
    "x2 = pulp.LpVariable(name='x2', lowBound=0, cat=pulp.LpContinuous)\n",
    "\n",
    "model += x1 + x2 <= 6, 'c0'\n",
    "model += 9 * x1 + 5 * x2 <= 45, 'c1'\n",
    "\n",
    "# Uncomment \"sub2\" constraint for subproblem 2\n",
    "model += x1 >= 4, 'sub2'\n",
    "\n",
    "# Uncomment \"sub3\" constraint for subproblem 3\n",
    "# model += x1 <= 3, 'sub3'\n",
    "\n",
    "# Uncomment \"sub2\" and \"sub4\" constraints for subproblem 4\n",
    "# model += x2 >= 2, 'sub4'\n",
    "\n",
    "# Uncomment \"sub2\" and \"sub5\" constraints for subproblem 5\n",
    "model += x2 <= 1, 'sub5'\n",
    "\n",
    "# Uncomment \"sub2\" and \"sub5\" and \"sub6\" constraints for subproblem 6\n",
    "model += x1 >= 5, 'sub6'\n",
    "\n",
    "# Uncomment \"sub2\" and \"sub5\" and \"sub7\" constraints for subproblem 7\n",
    "# model += x1 <= 4, 'sub7'\n",
    "\n",
    "model.setObjective(8 * x1 + 5 * x2)\n",
    "model.writeLP(model.name + '.lp')\n",
    "model.solve()\n",
    "\n",
    "if pulp.LpStatus[model.status] == 'Optimal':  # Do we only have 'Optimal' and 'Infeasible' status in Pulp?\n",
    "    for v in model.variables():\n",
    "        print(v.name, \":\", v.varValue)\n",
    "    print('Total Profit : %g' % pulp.value(model.objective))\n",
    "else:\n",
    "    print('Model is infeasible!')"
   ]
  },
  {
   "cell_type": "markdown",
   "metadata": {},
   "source": [
    "Now use the integer variables in the first iteration and see what you get. This is a small example, but check if you see any noticeable run time difference between the LP and IP."
   ]
  },
  {
   "cell_type": "code",
   "execution_count": null,
   "metadata": {},
   "outputs": [],
   "source": []
  }
 ],
 "metadata": {
  "kernelspec": {
   "display_name": "Python 3",
   "language": "python",
   "name": "python3"
  },
  "language_info": {
   "codemirror_mode": {
    "name": "ipython",
    "version": 3
   },
   "file_extension": ".py",
   "mimetype": "text/x-python",
   "name": "python",
   "nbconvert_exporter": "python",
   "pygments_lexer": "ipython3",
   "version": "3.11.2"
  },
  "varInspector": {
   "cols": {
    "lenName": 16,
    "lenType": 16,
    "lenVar": 40
   },
   "kernels_config": {
    "python": {
     "delete_cmd_postfix": "",
     "delete_cmd_prefix": "del ",
     "library": "var_list.py",
     "varRefreshCmd": "print(var_dic_list())"
    },
    "r": {
     "delete_cmd_postfix": ") ",
     "delete_cmd_prefix": "rm(",
     "library": "var_list.r",
     "varRefreshCmd": "cat(var_dic_list()) "
    }
   },
   "types_to_exclude": [
    "module",
    "function",
    "builtin_function_or_method",
    "instance",
    "_Feature"
   ],
   "window_display": false
  }
 },
 "nbformat": 4,
 "nbformat_minor": 2
}
