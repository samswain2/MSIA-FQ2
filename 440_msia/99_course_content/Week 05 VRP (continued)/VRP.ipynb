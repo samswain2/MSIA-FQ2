{
 "cells": [
  {
   "cell_type": "markdown",
   "metadata": {},
   "source": [
    "# Load Packages"
   ]
  },
  {
   "cell_type": "code",
   "execution_count": null,
   "metadata": {
    "ExecuteTime": {
     "end_time": "2023-10-18T01:04:05.734242Z",
     "start_time": "2023-10-18T01:04:04.708023Z"
    }
   },
   "outputs": [],
   "source": [
    "from collections import defaultdict\n",
    "from itertools import permutations, combinations\n",
    "from time import time\n",
    "\n",
    "import gurobipy as gp\n",
    "import matplotlib.pyplot as plt\n",
    "import pandas as pd"
   ]
  },
  {
   "cell_type": "markdown",
   "metadata": {},
   "source": [
    "# Flow Formulation of VRP"
   ]
  },
  {
   "cell_type": "code",
   "execution_count": null,
   "metadata": {
    "ExecuteTime": {
     "end_time": "2023-10-18T01:48:43.776928Z",
     "start_time": "2023-10-18T01:48:43.765898Z"
    }
   },
   "outputs": [],
   "source": [
    "def vrp_flow_formulation(max_stops=4, max_num_trucks=5):  # How can you estimate max_num_trucks?\n",
    "    num_nodes = input_data.shape[0]\n",
    "    num_cust = num_nodes - 1  # the first row in the file is depot\n",
    "    node_rng = range(num_nodes)\n",
    "    c_rng = range(1, num_nodes)\n",
    "    t_rng = range(max_num_trucks)\n",
    "\n",
    "    model = gp.Model('vrp')\n",
    "    # Variables\n",
    "    x = model.addVars(num_nodes, num_nodes, max_num_trucks, vtype=gp.GRB.BINARY, name='x')\n",
    "\n",
    "    # Constraints\n",
    "    model.addConstrs((gp.quicksum(x[i, j, k] for i in node_rng for k in t_rng if i != j) == 1\n",
    "                      for j in c_rng), name='c2')  # exactly one incoming arc\n",
    "    \n",
    "    model.addConstrs((gp.quicksum(x[0, j, k] for j in c_rng) == 1\n",
    "                      for k in t_rng), name='c3')  # each vehicle is used\n",
    "    \n",
    "    model.addConstrs((gp.quicksum(x[i, j, k] for i in node_rng if i != j) ==\n",
    "                      gp.quicksum(x[j, i, k] for i in node_rng if i != j)\n",
    "                      for j in node_rng for k in t_rng), name='c4')  # flow conservation\n",
    "\n",
    "    model.addConstrs((gp.quicksum(x[i, j, k] for i in node_rng for j in node_rng if i != j)\n",
    "                      <= max_stops for k in t_rng), name='stops')  # max num stops\n",
    "\n",
    "    # MTZ subtour\n",
    "    u = model.addVars(num_nodes, max_num_trucks, ub=num_cust - 1,\n",
    "                      vtype=gp.GRB.CONTINUOUS, name='u')  # auxiliary variable \n",
    "    model.addConstrs((u[j, k] - u[i, k] + num_cust * x[i, j, k] <= num_cust - 1\n",
    "                      for i in c_rng for j in c_rng for k in t_rng if i != j), name='sub1')\n",
    "\n",
    "    # # DFJ subtour\n",
    "    # all_sets = [tuple(it) for n in range(2, num_nodes - 2) for it in combinations(c_rng, n)]\n",
    "    #\n",
    "    # model.addConstrs((gp.quicksum(x[i, j, k] for i in s for j in s if i != j)\n",
    "    #                   <= len(s) - 1 for s in all_sets for k in t_rng), name='sub')\n",
    "\n",
    "    \"\"\"But this way of dealing with subtour is inefficient. \n",
    "    The way to do it is to first solve the problem without the subtour constraints. \n",
    "    If the solution contains subtour, then the violated subtours are added to the model\n",
    "    and the problem is solved again. This is handled through callback function.\n",
    "    If you like to learn more about this or see an example, \n",
    "    check gurobi's implementation of TSP which uses callback.\n",
    "    https://www.gurobi.com/documentation/current/examples/tsp_py.html\n",
    "    \"\"\"\n",
    "\n",
    "    objective = gp.quicksum(\n",
    "        dist_matrix[i + 1, j + 1] * x[i, j, k]\n",
    "        for i in node_rng for j in node_rng for k in t_rng if i != j)\n",
    "    model.setObjective(objective, gp.GRB.MINIMIZE)\n",
    "    # model.write(model.ModelName + '.lp')\n",
    "\n",
    "    # Set Model Parameters\n",
    "    # Check the link below for a list of parameters and their descriptions:\n",
    "    # https://www.gurobi.com/documentation/current/refman/parameters.html\n",
    "    model.setParam('OutputFlag', 1)  # Enable or disable solver output\n",
    "    # model.parameters.mip.tolerances.mipgap = 0.02  # MIP Gap\n",
    "    # model.Params.timelimit = 10  # Timelimit in seconds\n",
    "    model.optimize()\n",
    "    # If you want to learn about gurobi log: https://www.gurobi.com/documentation/current/refman/mip_logging.html\n",
    "    print(model.status)\n",
    "\n",
    "    if model.status == gp.GRB.Status.OPTIMAL:\n",
    "        for v in model.getVars():\n",
    "            if v.x > 0.5:\n",
    "                print('%s : %g' % (v.varName, v.x))\n",
    "\n",
    "        print('Objective Value : %g' % model.objVal)\n",
    "    else:\n",
    "        print('Could not find a solution!')"
   ]
  },
  {
   "cell_type": "markdown",
   "metadata": {
    "hide_input": false
   },
   "source": [
    "# Set Partitioning Formulation of VRP\n",
    "There are a couple of changes in this version:\n",
    "\n",
    "1. This is a case of Open VRP where we don't require the vehicles to return to the depot.\n",
    "2. Since the depot is the *obvious* first place to start, it's not counted toward the number of stops. In other words, in this implementation, `max_stops` is really maximum number of drops/delivery. So, a 2-stop route, need to leave the depot and stop at two customer location.\n",
    "3. Similarly, since the depot is the *obvious* first place to start, it is not included in reporting the final routes."
   ]
  },
  {
   "cell_type": "code",
   "execution_count": null,
   "metadata": {
    "ExecuteTime": {
     "end_time": "2023-10-18T02:13:11.272849Z",
     "start_time": "2023-10-18T02:13:11.261432Z"
    }
   },
   "outputs": [],
   "source": [
    "def vrp_sp_formulation(max_stops=3):\n",
    "    start = time()\n",
    "    route_dist_dict, route_cost_dict = create_routes(input_data, dist_matrix, max_stops)\n",
    "    order_route_dict = get_locations_in_each_route(input_data, route_dist_dict)\n",
    "\n",
    "    model = gp.Model('vrp')\n",
    "    x = model.addVars(route_dist_dict, vtype=gp.GRB.BINARY, name='x')\n",
    "    for loc, routes in order_route_dict.items():\n",
    "        model.addConstr(gp.quicksum(x[route] for route in routes) == 1, f'location_coverage_{str(loc)}')\n",
    "\n",
    "    # I use total distance. You can use total cost too (it's available for you)\n",
    "    objective = gp.quicksum(dist * x[route] for route, dist in route_dist_dict.items())\n",
    "    model.setObjective(objective, gp.GRB.MINIMIZE)\n",
    "    # model.write(model.ModelName + '.lp')\n",
    "    model.setParam('OutputFlag', 0)\n",
    "    model.optimize()\n",
    "    exe_time = time() - start\n",
    "\n",
    "    if model.status == gp.GRB.Status.OPTIMAL:\n",
    "        if PRINT_OPTIMAL_VALUES:\n",
    "            for v in model.getVars():\n",
    "                if v.x > 0.5:\n",
    "                    print('%s : %g' % (v.varName, v.x))\n",
    "\n",
    "        print('Objective Value : %g' % model.objVal)\n",
    "    else:\n",
    "        print('Could not find a solution!')\n",
    "\n",
    "    print(\"Execution Time: {}\".format(exe_time))\n",
    "    print(\"--------------\")\n",
    "    return model.objVal, exe_time"
   ]
  },
  {
   "cell_type": "markdown",
   "metadata": {},
   "source": [
    "## Helper functions\n",
    "These are used in the SP formulation of VRP"
   ]
  },
  {
   "cell_type": "code",
   "execution_count": null,
   "metadata": {
    "ExecuteTime": {
     "end_time": "2023-10-18T01:04:19.651295Z",
     "start_time": "2023-10-18T01:04:19.647510Z"
    }
   },
   "outputs": [],
   "source": [
    "# Create the distance matrix between every two locations\n",
    "def create_distance_matrix(locations):\n",
    "    distance_matrix = {}\n",
    "    for ind1, loc1 in locations.iterrows():\n",
    "        for ind2, loc2 in locations.iterrows():\n",
    "            dist = calculate_distance_haversine(loc1['Lat'], loc1['Long'], loc2['Lat'], loc2['Long'])\n",
    "            distance_matrix[(ind1, ind2)] = dist\n",
    "    return distance_matrix"
   ]
  },
  {
   "cell_type": "code",
   "execution_count": null,
   "metadata": {
    "ExecuteTime": {
     "end_time": "2023-10-18T01:04:20.322588Z",
     "start_time": "2023-10-18T01:04:20.317881Z"
    }
   },
   "outputs": [],
   "source": [
    "# Calculates distance using Haversine formula\n",
    "def calculate_distance_haversine(lat1, lon1, lat2, lon2):\n",
    "    # radius of earth\n",
    "    from math import radians, cos, sin, asin, sqrt\n",
    "    r = 3962.173405788\n",
    "\n",
    "    # convert decimal degrees to radians\n",
    "    lat1, lon1, lat2, lon2 = [radians(x) for x in [lat1, lon1, lat2, lon2]]\n",
    "    dlon = lon2 - lon1\n",
    "    dlat = lat2 - lat1\n",
    "    a = sin(dlat / 2) ** 2 + cos(lat1) * cos(lat2) * sin(dlon / 2) ** 2\n",
    "    c = 2 * asin(sqrt(a))\n",
    "    return r * c"
   ]
  },
  {
   "cell_type": "code",
   "execution_count": null,
   "metadata": {
    "ExecuteTime": {
     "end_time": "2023-10-18T01:04:21.810972Z",
     "start_time": "2023-10-18T01:04:21.806694Z"
    }
   },
   "outputs": [],
   "source": [
    "# Create all the routes\n",
    "def create_routes(input_data, dist_matrix, number_of_stops):\n",
    "    route_distance_dict, route_cost_dict = {}, {}\n",
    "    for n in range(1, number_of_stops + 1):\n",
    "        all_permutations = permutations(input_data.iloc[1:].index, n)\n",
    "        for route in all_permutations:\n",
    "            tot_dist = dist_matrix[1, route[0]]\n",
    "            for i in range(n - 1):\n",
    "                tot_dist += dist_matrix[route[i], route[i + 1]]\n",
    "            route_distance_dict.update({route: tot_dist})\n",
    "            route_cost_dict.update({route: calculate_cost(tot_dist)})\n",
    "    return route_distance_dict, route_cost_dict"
   ]
  },
  {
   "cell_type": "code",
   "execution_count": null,
   "metadata": {
    "ExecuteTime": {
     "end_time": "2023-10-18T01:04:22.499310Z",
     "start_time": "2023-10-18T01:04:22.494538Z"
    }
   },
   "outputs": [],
   "source": [
    "# Calculate the cost of each route\n",
    "def calculate_cost(route_distance):\n",
    "    return max(route_distance * 1.5, 450)"
   ]
  },
  {
   "cell_type": "code",
   "execution_count": null,
   "metadata": {
    "ExecuteTime": {
     "end_time": "2023-10-18T01:04:22.953234Z",
     "start_time": "2023-10-18T01:04:22.949510Z"
    }
   },
   "outputs": [],
   "source": [
    "# Create the coefficient matrix that shows the location coverage: get all the routes that visit a location\n",
    "def get_location_route_matrix(input_data, route_dist_dict):\n",
    "    location_route_matrix = {}\n",
    "    for route in route_dist_dict:\n",
    "        for loc in input_data.iloc[1:].index:\n",
    "            if loc in route:\n",
    "                location_route_matrix[loc, route] = 1\n",
    "            else:\n",
    "                location_route_matrix[loc, route] = 0\n",
    "    return location_route_matrix"
   ]
  },
  {
   "cell_type": "code",
   "execution_count": null,
   "metadata": {
    "ExecuteTime": {
     "end_time": "2023-10-18T01:04:23.702366Z",
     "start_time": "2023-10-18T01:04:23.696550Z"
    }
   },
   "outputs": [],
   "source": [
    "# Better version of the above function:\n",
    "# Create the coefficient matrix that shows the location coverage: get all the routes that visit a location\n",
    "def get_locations_in_each_route(input_data, route_dist_dict):\n",
    "    location_route_matrix = defaultdict(list)\n",
    "    for route in route_dist_dict:\n",
    "        for loc in input_data.iloc[1:].index:\n",
    "            if loc in route:\n",
    "                location_route_matrix[loc].append(route)\n",
    "    return location_route_matrix"
   ]
  },
  {
   "cell_type": "markdown",
   "metadata": {
    "heading_collapsed": true
   },
   "source": [
    "# Plot Number of Stops vs Time & Objective Value\n",
    "This is for SP formulation of VRP"
   ]
  },
  {
   "cell_type": "code",
   "execution_count": null,
   "metadata": {
    "ExecuteTime": {
     "end_time": "2023-10-18T01:04:27.372982Z",
     "start_time": "2023-10-18T01:04:27.367695Z"
    },
    "hidden": true
   },
   "outputs": [],
   "source": [
    "def plot_vrp_variations(max_drops=4):\n",
    "    obj_list, exe_time_list = [], []\n",
    "    rng = range(1, max_drops + 1)\n",
    "    for n in rng:\n",
    "        print(\"Max number of stops: {}\".format(n))\n",
    "        obj_val, exe_time = vrp_sp_formulation(n)\n",
    "        obj_list.append(obj_val)\n",
    "        exe_time_list.append(exe_time)\n",
    "\n",
    "    fig, ax = plt.subplots()\n",
    "    ax2 = ax.twinx()\n",
    "    plt.xticks(range(max_drops + 1))\n",
    "\n",
    "    ax.plot(rng, obj_list)\n",
    "    ax.set_ylim(10)\n",
    "    ax.set_xlabel('Max Number of Stops')\n",
    "    ax.set_ylabel('Objective Function')\n",
    "\n",
    "    ax2.plot(rng, exe_time_list, c='orange')\n",
    "    ax2.set_ylabel('Time (sec)')\n",
    "    # plt.savefig('vrp_comparison.png')\n",
    "    plt.show()"
   ]
  },
  {
   "cell_type": "markdown",
   "metadata": {},
   "source": [
    "# Run Block\n",
    "You should play around with these options. Look at the parameters that are hard-coded in each of these functions. \n",
    "If the value of a parameter used in the 10-customer version is very small, it'll lead to an infeasible solution in the 20-customer version."
   ]
  },
  {
   "cell_type": "code",
   "execution_count": null,
   "metadata": {
    "ExecuteTime": {
     "end_time": "2023-10-18T02:13:48.579413Z",
     "start_time": "2023-10-18T02:13:48.522775Z"
    }
   },
   "outputs": [],
   "source": [
    "# Load the data\n",
    "PRINT_OPTIMAL_VALUES = True\n",
    "input_data = pd.read_csv(\"manhattan_customers10.csv\", index_col=0)\n",
    "dist_matrix = create_distance_matrix(input_data)\n",
    "vrp_flow_formulation()\n",
    "# vrp_sp_formulation()\n",
    "# plot_vrp_variations(6)  # default is 4 stops. Try larger numbers and see the effect"
   ]
  },
  {
   "cell_type": "code",
   "execution_count": null,
   "metadata": {
    "ExecuteTime": {
     "end_time": "2023-10-18T02:01:37.368035Z",
     "start_time": "2023-10-18T02:01:37.355522Z"
    }
   },
   "outputs": [],
   "source": []
  }
 ],
 "metadata": {
  "kernelspec": {
   "display_name": "opti",
   "language": "python",
   "name": "opti"
  },
  "language_info": {
   "codemirror_mode": {
    "name": "ipython",
    "version": 3
   },
   "file_extension": ".py",
   "mimetype": "text/x-python",
   "name": "python",
   "nbconvert_exporter": "python",
   "pygments_lexer": "ipython3",
   "version": "3.11.5"
  },
  "varInspector": {
   "cols": {
    "lenName": 16,
    "lenType": 16,
    "lenVar": 40
   },
   "kernels_config": {
    "python": {
     "delete_cmd_postfix": "",
     "delete_cmd_prefix": "del ",
     "library": "var_list.py",
     "varRefreshCmd": "print(var_dic_list())"
    },
    "r": {
     "delete_cmd_postfix": ") ",
     "delete_cmd_prefix": "rm(",
     "library": "var_list.r",
     "varRefreshCmd": "cat(var_dic_list()) "
    }
   },
   "types_to_exclude": [
    "module",
    "function",
    "builtin_function_or_method",
    "instance",
    "_Feature"
   ],
   "window_display": false
  }
 },
 "nbformat": 4,
 "nbformat_minor": 2
}
