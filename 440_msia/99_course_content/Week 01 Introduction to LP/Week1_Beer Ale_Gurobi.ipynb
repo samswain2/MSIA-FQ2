{
 "cells": [
  {
   "cell_type": "markdown",
   "metadata": {},
   "source": [
    "# ==========================================================\n",
    "## Python data structures that we should know before we go into gurobi!\n",
    "\n",
    "\n",
    "# `list, tuple, dict, set`\n",
    "\n",
    "If you need a very-quick-don't-have-time type of refresher, check out [gurobi's preliminaries](http://www.gurobi.com/documentation/8.0/quickstart_windows/py_python_dictionary_examp.html). \n",
    "\n",
    "Overall, you should know what they are, their differences from one another, how to perform add/remove/find/iterate on all of these structures.\n",
    "\n",
    "# =========================================================="
   ]
  },
  {
   "cell_type": "markdown",
   "metadata": {},
   "source": [
    "# Beer And Ale Problem"
   ]
  },
  {
   "cell_type": "code",
   "execution_count": null,
   "metadata": {
    "ExecuteTime": {
     "end_time": "2021-09-22T19:36:14.477167Z",
     "start_time": "2021-09-22T19:36:14.433023Z"
    }
   },
   "outputs": [],
   "source": [
    "import gurobipy as gp\n",
    "\n",
    "model = gp.Model('Beer_and_Ale')\n",
    "\n",
    "# Create the decision variables\n",
    "a = model.addVar(vtype=gp.GRB.CONTINUOUS, name='ale')\n",
    "b = model.addVar(vtype=gp.GRB.CONTINUOUS, name='beer')\n",
    "\n",
    "# Create the constraints\n",
    "corn = model.addConstr(5 * a + 15 * b <= 480, 'corn')\n",
    "hops = model.addConstr(4 * a + 4 * b <= 160, 'hops')\n",
    "malt = model.addConstr(35 * a + 20 * b <= 1190, 'malt')\n",
    "\n",
    "# Create the objective function\n",
    "model.setObjective(13 * a + 23 * b, gp.GRB.MAXIMIZE)\n",
    "\n",
    "# Extra material. You don't need them, but it's nice to know what they do!\n",
    "model.write(model.ModelName + '.lp')\n",
    "model.setParam('OutputFlag', 0)\n",
    "\n",
    "# Solve the model\n",
    "model.optimize()\n",
    "\n",
    "# print(\"Slack variables of corn, hops, malt : {}\".format([corn.Slack, hops.Slack, malt.Slack]))\n",
    "\n",
    "# Check the solution\n",
    "for v in model.getVars():\n",
    "    print('%s : %g' % (v.varName, v.x))\n",
    "\n",
    "print('Total Profit : %g' % model.objVal)\n",
    "\n",
    "# How to get Shadow Price\n",
    "for constraint in model.getConstrs():\n",
    "    print(\"--------\\n\", constraint.ConstrName, \"\\nRemaining Slack \", constraint.Slack, \"\\nShadow Price \", constraint.Pi)"
   ]
  },
  {
   "cell_type": "markdown",
   "metadata": {},
   "source": [
    "## Lessons\n",
    "-  Learn to formulate a simple LP model in gurobi\n",
    "-  Learn about creating decision variables & constraints in gurobi and some of the useful methods such as `setParam`, `getVars`, etc."
   ]
  },
  {
   "cell_type": "code",
   "execution_count": null,
   "metadata": {},
   "outputs": [],
   "source": []
  }
 ],
 "metadata": {
  "kernelspec": {
   "display_name": "Python 3",
   "language": "python",
   "name": "python3"
  },
  "language_info": {
   "codemirror_mode": {
    "name": "ipython",
    "version": 3
   },
   "file_extension": ".py",
   "mimetype": "text/x-python",
   "name": "python",
   "nbconvert_exporter": "python",
   "pygments_lexer": "ipython3",
   "version": "3.7.10"
  },
  "varInspector": {
   "cols": {
    "lenName": 16,
    "lenType": 16,
    "lenVar": 40
   },
   "kernels_config": {
    "python": {
     "delete_cmd_postfix": "",
     "delete_cmd_prefix": "del ",
     "library": "var_list.py",
     "varRefreshCmd": "print(var_dic_list())"
    },
    "r": {
     "delete_cmd_postfix": ") ",
     "delete_cmd_prefix": "rm(",
     "library": "var_list.r",
     "varRefreshCmd": "cat(var_dic_list()) "
    }
   },
   "types_to_exclude": [
    "module",
    "function",
    "builtin_function_or_method",
    "instance",
    "_Feature"
   ],
   "window_display": false
  }
 },
 "nbformat": 4,
 "nbformat_minor": 2
}
