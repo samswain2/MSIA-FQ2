{
 "cells": [
  {
   "cell_type": "code",
   "execution_count": null,
   "id": "0cea4cc9",
   "metadata": {
    "ExecuteTime": {
     "end_time": "2022-10-24T18:54:32.995316Z",
     "start_time": "2022-10-24T18:54:32.983332Z"
    }
   },
   "outputs": [],
   "source": [
    "import gurobipy as gp\n",
    "import pandas as pd\n",
    "import matplotlib.pyplot as plt\n",
    "from time import time\n",
    "import numpy as np"
   ]
  },
  {
   "cell_type": "markdown",
   "id": "ba57efd4",
   "metadata": {},
   "source": [
    "# Weighted Sum"
   ]
  },
  {
   "cell_type": "code",
   "execution_count": null,
   "id": "c64c4fb4",
   "metadata": {
    "ExecuteTime": {
     "end_time": "2022-10-24T18:57:54.533520Z",
     "start_time": "2022-10-24T18:57:54.519999Z"
    }
   },
   "outputs": [],
   "source": [
    "def weighted_sum_knapsack(w=1.0):\n",
    "    input_data = pd.read_csv('knapsack.csv', index_col=0)\n",
    "    budget = 1000\n",
    "\n",
    "    model = gp.Model('knapsack')\n",
    "    item_var = model.addVars(input_data.index, vtype=gp.GRB.BINARY, name='item')\n",
    "\n",
    "    total_cost = gp.quicksum(input_data.loc[i, 'cost'] * item_var[i] for i in input_data.index)\n",
    "    model.addConstr(total_cost <= budget, name='max_budget')\n",
    "\n",
    "    total_profit = gp.quicksum(input_data.loc[i, 'profit'] * item_var[i] for i in input_data.index)\n",
    "    total_goodwill = gp.quicksum(input_data.loc[i, 'goodwill'] * item_var[i] for i in input_data.index)\n",
    "\n",
    "    \"\"\"\n",
    "    Note:\n",
    "    Here, we assume the unit for profit and goodwill are the same.\n",
    "    But if the two objectives are not comparable, first, we must\n",
    "    normalize them to ensure they are unitless. For instance, one objective \n",
    "    is in dollars and another is number of items or total time in hours.     \n",
    "    \"\"\"\n",
    "    model.setObjective(w * total_profit + (1 - w) * total_goodwill, gp.GRB.MAXIMIZE)\n",
    "    # model.write(model.ModelName + '.lp')\n",
    "    model.setParam('OutputFlag', 0)\n",
    "    # model.setParam(gp.GRB.Param.MIPGap, 0)\n",
    "    model.optimize()\n",
    "\n",
    "    if model.status == gp.GRB.Status.OPTIMAL:\n",
    "        profit_value = total_profit.getValue()\n",
    "        goodwill_value = total_goodwill.getValue()\n",
    "        print(f'Weight: {w:.3f} and (1-Weight): {(1 - w):.3f}')\n",
    "        print(f'Total Profit: {profit_value} & Total Goodwill: {goodwill_value}')\n",
    "        return profit_value, goodwill_value\n",
    "    else:\n",
    "        print('Could not find a solution!')\n",
    "        return None, None"
   ]
  },
  {
   "cell_type": "markdown",
   "id": "756e7d34",
   "metadata": {},
   "source": [
    "# Running Two Models and Getting the New Weights"
   ]
  },
  {
   "cell_type": "code",
   "execution_count": null,
   "id": "7072b35b",
   "metadata": {
    "ExecuteTime": {
     "end_time": "2022-10-24T18:57:55.589933Z",
     "start_time": "2022-10-24T18:57:55.563881Z"
    }
   },
   "outputs": [],
   "source": [
    "def weighted_sum_knapsack_with_new_weights(w1=1.0, w2=0.0):\n",
    "    input_data = pd.read_csv('knapsack.csv', index_col=0)\n",
    "    budget = 1000\n",
    "\n",
    "    model = gp.Model('knapsack')\n",
    "    item_var = model.addVars(input_data.index, vtype=gp.GRB.BINARY, name='item')\n",
    "\n",
    "    total_cost = gp.quicksum(input_data.loc[i, 'cost'] * item_var[i] for i in input_data.index)\n",
    "    model.addConstr(total_cost <= budget, name='max_budget')\n",
    "\n",
    "    total_profit = gp.quicksum(input_data.loc[i, 'profit'] * item_var[i] for i in input_data.index)\n",
    "    total_goodwill = gp.quicksum(input_data.loc[i, 'goodwill'] * item_var[i] for i in input_data.index)\n",
    "\n",
    "    \"\"\"\n",
    "    Note:\n",
    "    Here, we assume the unit for profit and goodwill are the same.\n",
    "    But if the two objectives are not comparable, first, we must\n",
    "    normalize them to ensure they are unitless. For instance, one objective \n",
    "    is in dollars and another is number of items or total time in hours.     \n",
    "    \"\"\"\n",
    "\n",
    "    # Running the first model with the first set of weights\n",
    "    w = w1  # resetting this to the first weight\n",
    "    model.setObjective(w * total_profit + (1 - w) * total_goodwill, gp.GRB.MAXIMIZE)\n",
    "    # model.write(model.ModelName + '.lp')\n",
    "    model.setParam('OutputFlag', 0)\n",
    "    # model.setParam(gp.GRB.Param.MIPGap, 0)\n",
    "    model.optimize()\n",
    "\n",
    "    if model.status == gp.GRB.Status.OPTIMAL:\n",
    "        profit_value = total_profit.getValue()\n",
    "        goodwill_value = total_goodwill.getValue()\n",
    "        z_obj1_sol1 = profit_value\n",
    "        z_obj2_sol1 = goodwill_value\n",
    "        print(\"------ First Solution-------\")\n",
    "        print(f'Weight: {w} and (1-Weight): {(1 - w)}')\n",
    "        print(f'Solution 1 Total Profit: {profit_value} & Solution 1 Total Goodwill: {goodwill_value}')\n",
    "    else:\n",
    "        print('Could not find a solution!')\n",
    "        return None, None\n",
    "\n",
    "    # Running the second model with the first set of weights\n",
    "    w = w2  # resetting this to the second set of weights\n",
    "    model.setObjective(w * total_profit + (1 - w) * total_goodwill, gp.GRB.MAXIMIZE)\n",
    "    # model.write(model.ModelName + '.lp')\n",
    "    model.setParam('OutputFlag', 0)\n",
    "    # model.setParam(gp.GRB.Param.MIPGap, 0)\n",
    "    model.optimize()\n",
    "\n",
    "    if model.status == gp.GRB.Status.OPTIMAL:\n",
    "        profit_value = total_profit.getValue()\n",
    "        goodwill_value = total_goodwill.getValue()\n",
    "        z_obj1_sol2 = profit_value\n",
    "        z_obj2_sol2 = goodwill_value\n",
    "        print(\"------ Second Solution-------\")\n",
    "        print(f'Weight: {w} and (1-Weight): {(1 - w)}')\n",
    "        print(f'Solution 2 Total Profit: {profit_value} & Solution 2 Total Goodwill: {goodwill_value}')\n",
    "        print(\"------ New Weights----------\")\n",
    "        new_w5 = (z_obj2_sol2 - z_obj2_sol1) / ((z_obj1_sol1 - z_obj2_sol1) - (z_obj1_sol2 - z_obj2_sol2))\n",
    "        new_w6 = 1 - new_w5\n",
    "        print(f'New Wgt 1: {new_w5:.3f}')\n",
    "        print(f'New Wgt 2: {new_w6:.3f}')\n",
    "        print(\"---------------\")\n",
    "        return profit_value, goodwill_value\n",
    "    else:\n",
    "        print('Could not find a solution!')\n",
    "        return None, None"
   ]
  },
  {
   "cell_type": "markdown",
   "id": "b9b382ca",
   "metadata": {},
   "source": [
    "# Hierarchical Optimization"
   ]
  },
  {
   "cell_type": "code",
   "execution_count": null,
   "id": "b802d4a8",
   "metadata": {
    "ExecuteTime": {
     "end_time": "2022-10-24T18:57:56.762765Z",
     "start_time": "2022-10-24T18:57:56.746724Z"
    }
   },
   "outputs": [],
   "source": [
    "def hierarchical_knapsack(w=1.0):\n",
    "    \"\"\"`w` is not used and is only added here for duck-typing.\"\"\"\n",
    "    input_data = pd.read_csv('knapsack.csv', index_col=0)\n",
    "    budget = 1000\n",
    "\n",
    "    diff_gap = 0.01  # amount you're willing to give up of the original objective\n",
    "\n",
    "    model = gp.Model('knapsack')\n",
    "    item_var = model.addVars(input_data.index, vtype=gp.GRB.BINARY, name='item')\n",
    "\n",
    "    total_cost = gp.quicksum(input_data.loc[i, 'cost'] * item_var[i] for i in input_data.index)\n",
    "    model.addConstr(total_cost <= budget, name='max_budget')\n",
    "\n",
    "    # profit is the first and main objective\n",
    "    total_profit = gp.quicksum(input_data.loc[i, 'profit'] * item_var[i] for i in input_data.index)\n",
    "    # goodwill is the secondary objective\n",
    "    total_goodwill = gp.quicksum(input_data.loc[i, 'goodwill'] * item_var[i] for i in input_data.index)\n",
    "\n",
    "    model.setObjective(total_profit, gp.GRB.MAXIMIZE)\n",
    "    # model.write(model.ModelName + '_profit.lp')\n",
    "    model.setParam('OutputFlag', 0)\n",
    "    model.optimize()\n",
    "\n",
    "    profit_value = total_profit.getValue()\n",
    "    print(f'Original Total Profit: {profit_value}')\n",
    "    \n",
    "    profit1 = total_profit.getValue()  # remember these values for summary report\n",
    "    goodwill1 = total_goodwill.getValue()\n",
    "\n",
    "    # Now, add the total profit value as a constraint and optimize for goodwill\n",
    "    model.addConstr(total_profit >= profit_value * (1 - diff_gap), name='max_profit')\n",
    "\n",
    "    # Update the objective and solve again\n",
    "    model.setObjective(total_goodwill, gp.GRB.MAXIMIZE)\n",
    "    # model.write(model.ModelName + '_goodwill.lp')\n",
    "    model.setParam('OutputFlag', 0)\n",
    "    model.optimize()\n",
    "\n",
    "    profit2 = total_profit.getValue()  # remember these values for summary report\n",
    "    goodwill2 = total_goodwill.getValue()\n",
    "\n",
    "    if model.status == gp.GRB.Status.OPTIMAL:\n",
    "        print(f'New Total Profit: {profit2} & Total Goodwill: {goodwill2}')\n",
    "        profit_worse = (profit2 - profit1) / profit1\n",
    "        goodwill_better = (goodwill2 - goodwill1) / goodwill1\n",
    "\n",
    "        print(\"---------  Summary---------\")\n",
    "        print(f'Total Profit = {profit2}, and it was {profit1}. This is {profit_worse * 100:.1f}% worse. '\n",
    "              f'You allowed it to be up to {diff_gap * 100:.1f}% worse.')\n",
    "        print(f\"Total Goodwill = {goodwill2}, and it was {goodwill1}. \"\n",
    "              f\"This is a {goodwill_better * 100:.2f}% improvement.\")\n",
    "        return profit2, goodwill2\n",
    "    else:\n",
    "        print('Could not find a solution!')\n",
    "        return None, None"
   ]
  },
  {
   "cell_type": "code",
   "execution_count": null,
   "id": "9d361518",
   "metadata": {
    "ExecuteTime": {
     "end_time": "2022-10-24T18:57:58.482100Z",
     "start_time": "2022-10-24T18:57:58.475967Z"
    }
   },
   "outputs": [],
   "source": [
    "def plot_multi_obj_knapsack():\n",
    "    profit_list, goodwill_list = [], []\n",
    "    rng = np.arange(0, 1.1, 0.05)\n",
    "    for w in rng:\n",
    "        print(f'W = {w:.3f}')\n",
    "        profit, goodwill = weighted_sum_knapsack(w)\n",
    "        profit_list.append(profit)\n",
    "        goodwill_list.append(goodwill)\n",
    "\n",
    "    plt.plot(goodwill_list, profit_list)\n",
    "    plt.xlabel('Total Goodwill')\n",
    "    plt.ylabel('Total Profit')\n",
    "    # plt.savefig('weighted_sum_knapsack.png')\n",
    "    plt.show()"
   ]
  },
  {
   "cell_type": "markdown",
   "id": "7da05a5a",
   "metadata": {},
   "source": [
    "# Using Multi-objective Functionality in Gurobi"
   ]
  },
  {
   "cell_type": "code",
   "execution_count": null,
   "id": "23e33ebf",
   "metadata": {
    "ExecuteTime": {
     "end_time": "2022-10-24T18:57:59.738167Z",
     "start_time": "2022-10-24T18:57:59.724494Z"
    }
   },
   "outputs": [],
   "source": [
    "def knapsack_gurobi_multi_objective(w=1.0):\n",
    "    \"\"\"`w` is not used and is only added here for duck-typing.\"\"\"\n",
    "    input_data = pd.read_csv('knapsack.csv', index_col=0)\n",
    "    budget = 1000\n",
    "\n",
    "    model = gp.Model('knapsack')\n",
    "    item_var = model.addVars(input_data.index, vtype=gp.GRB.BINARY, name='item')\n",
    "\n",
    "    total_cost = gp.quicksum(input_data.loc[i, 'cost'] * item_var[i] for i in input_data.index)\n",
    "    model.addConstr(total_cost <= budget, name='max_budget')\n",
    "\n",
    "    # profit is the first and main objective\n",
    "    total_profit = gp.quicksum(input_data.loc[i, 'profit'] * item_var[i] for i in input_data.index)\n",
    "    # goodwill is the secondary objective\n",
    "    total_goodwill = gp.quicksum(input_data.loc[i, 'goodwill'] * item_var[i] for i in input_data.index)\n",
    "\n",
    "    '''we pass the objectives, their priorities, names, relative tolerances, and weights.\n",
    "    That arguments that can be passed to the `setPbjectiveN` are:\n",
    "    index:    Identify which multi-objective to set\n",
    "    priority: Set the priority of Nth objective (default is zero). Higher priority, higher importance\n",
    "    weight:   Set the weight of Nth objective (default is 1.0). \n",
    "        if there are conflicting objectives, use 1 is for minimization and -1 for maximization. \n",
    "        If a weighted sum model needs to be solved, then weights can be passed here. \n",
    "        In the case of weighted sum, the priority of the objectives that need \n",
    "        to be summed together, should be the same.\n",
    "    abstol:   Set the absolute tolerance of Nth objective (default is 1e-6)\n",
    "    reltol:   Set the relative tolerance of Nth objective (default is zero)\n",
    "    name:     Nth objective's name (default is no name)\n",
    "    \n",
    "    To learn more, check out:\n",
    "    https://www.gurobi.com/documentation/9.5/refman/specifying_multiple_object.html\n",
    "    https://www.gurobi.com/documentation/9.5/refman/working_with_multiple_obje.html\n",
    "    '''\n",
    "    model.ModelSense = gp.GRB.MAXIMIZE\n",
    "    model.setObjectiveN(total_profit, index=0, priority=2, reltol=0, name='profit', weight=1)\n",
    "    model.setObjectiveN(total_goodwill, index=1, priority=1, reltol=0, name='goodwill', weight=1)\n",
    "\n",
    "    # model.write(model.ModelName + '_profit.lp')\n",
    "    model.setParam('OutputFlag', 0)\n",
    "    model.setParam(gp.GRB.Param.MIPGap, 0)\n",
    "    model.optimize()\n",
    "\n",
    "    if model.status == gp.GRB.Status.OPTIMAL:\n",
    "        profit_value = total_profit.getValue()\n",
    "        goodwill_value = total_goodwill.getValue()\n",
    "        print(f'Total Profit: {profit_value} & Total Goodwill: {goodwill_value}')\n",
    "        return profit_value, goodwill_value\n",
    "    else:\n",
    "        print('Could not find a solution!')\n",
    "        return None, None"
   ]
  },
  {
   "cell_type": "code",
   "execution_count": null,
   "id": "c615be9a",
   "metadata": {
    "ExecuteTime": {
     "end_time": "2022-10-24T18:58:50.991021Z",
     "start_time": "2022-10-24T18:58:50.834431Z"
    }
   },
   "outputs": [],
   "source": [
    "if __name__ == '__main__':\n",
    "\n",
    "  hierarchical_knapsack(w=1.0)    \n",
    "#  weighted_sum_knapsack(w=1)\n",
    "#   weighted_sum_knapsack_with_new_weights(w1=1, w2= 0)  #these are weights for the two objectives. So, the second weight for w1 is (1-w1)\n",
    "#   plot_multi_obj_knapsack()\n",
    "#   knapsack_gurobi_multi_objective()"
   ]
  },
  {
   "cell_type": "code",
   "execution_count": null,
   "id": "0eb9daad",
   "metadata": {},
   "outputs": [],
   "source": []
  },
  {
   "cell_type": "code",
   "execution_count": null,
   "id": "9db958ce",
   "metadata": {},
   "outputs": [],
   "source": []
  }
 ],
 "metadata": {
  "kernelspec": {
   "display_name": "Python 3",
   "language": "python",
   "name": "python3"
  },
  "language_info": {
   "codemirror_mode": {
    "name": "ipython",
    "version": 3
   },
   "file_extension": ".py",
   "mimetype": "text/x-python",
   "name": "python",
   "nbconvert_exporter": "python",
   "pygments_lexer": "ipython3",
   "version": "3.8.8"
  },
  "varInspector": {
   "cols": {
    "lenName": 16,
    "lenType": 16,
    "lenVar": 40
   },
   "kernels_config": {
    "python": {
     "delete_cmd_postfix": "",
     "delete_cmd_prefix": "del ",
     "library": "var_list.py",
     "varRefreshCmd": "print(var_dic_list())"
    },
    "r": {
     "delete_cmd_postfix": ") ",
     "delete_cmd_prefix": "rm(",
     "library": "var_list.r",
     "varRefreshCmd": "cat(var_dic_list()) "
    }
   },
   "types_to_exclude": [
    "module",
    "function",
    "builtin_function_or_method",
    "instance",
    "_Feature"
   ],
   "window_display": false
  }
 },
 "nbformat": 4,
 "nbformat_minor": 5
}
