{
 "cells": [
  {
   "cell_type": "markdown",
   "id": "7f6e03fa",
   "metadata": {},
   "source": [
    "![Burrito Optimization Game](util/bog_header.png)\n",
    "<center><a target=\"_blank\" href=\"https://www.burritooptimizationgame.com/\">BurritoOptimizationGame.com</a></center>\n",
    "<center><a target=\"_blank\" href=\"https://www.gurobi.com/lp/academics/burrito-optimization-game-guide/\">Game Guide</a>  |  <a target=\"_blank\" href=\"https://www.gurobi.com/lp/academics/burrito-optimization-teaching-guide/\">Teaching Guide</a></center>\n",
    "<center>Notebook by Alison Cozad  | <a target=\"_blank\" href=\"https://www.gurobi.com/lp/academics/burrito-optimization-game-guide/#who-built-this\">Game credits</a></center>\n",
    "\n",
    "\n",
    "The Burrito Optimization Game is an educational game designed to introduce students to the power of optimization. In the game, the player places burrito trucks on a city map to earn as much profit as possible. In playing the game, the player is essentially solving an optimization problem “by hand”. The game is designed to introduce players to optimization—what it is, what it’s useful for, and why it’s hard to do by hand. To play the game, you must be logged in to your Gurobi account on a desktop."
   ]
  },
  {
   "cell_type": "markdown",
   "id": "4ba31ff3",
   "metadata": {},
   "source": [
    "In this notebook, we will learn how to write the Burrito game optimization model for any day in Round 1 using the data downloaded from the game.\n",
    "\n",
    "This modeling tutorial is at the introductory level, where we assume that you know Python and have a background in a discipline that uses quantitative methods.  \n",
    "\n",
    "Here are a few handy resources to have ready:\n",
    "- [Gurobi Python Documentation](https://www.gurobi.com/documentation/9.5/refman/py_python_api_overview.html)\n",
    "- [Gurobi Python Examples](https://www.gurobi.com/documentation/9.5/examples/python_examples.html)\n",
    "- [Burrito Optimization Game: Teaching Guide](https://www.gurobi.com/lp/academics/burrito-optimization-teaching-guide/)\n",
    "- [Burrito Optimization Game: Game Guide](https://www.gurobi.com/lp/academics/burrito-optimization-game-guide/)"
   ]
  },
  {
   "cell_type": "markdown",
   "id": "56017387",
   "metadata": {},
   "source": [
    "---\n",
    "\n",
    "## Problem description\n",
    "\n",
    "Guroble has just set up business in Burritoville! Guroble needs your assistance planning where to place its burrito trucks to serve hungry customers throughout the city and maximize its profit. Truck placement must be carefully planned because every truck has a cost, but its ability to earn revenue depends on how close it is to potential customers.\n",
    "\n",
    "### Your task in the game:\n",
    "![Your task in the game](util/bog_instructions.png)\n",
    "\n",
    "### Your task in this notebook: \n",
    "Write a model to select the optimal burrito truck placement to maximize profits.  You will be solving for one day in Round 1.\n"
   ]
  },
  {
   "cell_type": "markdown",
   "id": "f45779e8",
   "metadata": {},
   "source": [
    "---\n",
    "\n",
    "## Before you dive into this model, \n",
    "If you haven't already, we recommend playing Days 1 and 2 in Round 1 of the [BurritoOptimizationGame.com](https://www.burritooptimizationgame.com/) to learn about Burritoville and the problem we are trying to solve.  Then, ask yourself:\n",
    "- What seems easy or hard about locating burrito trucks? \n",
    "- Did you find a solution that was close to optimal?\n",
    "- Should you order a burrito now or wait until you are done with this notebook?\n",
    "- What strategy did you use? I bet you wish you had your own optimization model, eh? (Cue shameless promotion of this Jupyter Notebook)."
   ]
  },
  {
   "cell_type": "markdown",
   "id": "c4dfb3b8",
   "metadata": {},
   "source": [
    "<a id='start' name='start'></a>\n",
    "\n",
    "## Let's get started\n",
    "Throughout the rest of this notebook, we will\n",
    "1. [Define the data structures](#1_data)\n",
    "1. [Create the Gurobi `model` object](#2_model)\n",
    "1. [Add decision variables](#3_variables)\n",
    "1. [Add constraints](#4_constraints)\n",
    "1. [Set the objective function](#5_objective)\n",
    "1. [Solve the model](#6_optimize)\n",
    "1. [Retrieve solution values](#7_getvals)\n",
    "\n"
   ]
  },
  {
   "cell_type": "markdown",
   "id": "e300a55c",
   "metadata": {},
   "source": [
    "## 0. The obligatory part\n",
    "I know this wasn't on the list that I just gave you. Alas, this is the obligatory part of all python code: installing and importing packages.  \n",
    "\n",
    "First, let's install a few packages as needed"
   ]
  },
  {
   "cell_type": "code",
   "execution_count": null,
   "id": "955d9005",
   "metadata": {},
   "outputs": [],
   "source": [
    "!pip install gurobipy\n",
    "!pip install plotly\n",
    "!pip install requests"
   ]
  },
  {
   "cell_type": "markdown",
   "id": "8722adc7",
   "metadata": {},
   "source": [
    "Next, we will import the Gurobi callable library and import the `GRB` class into the main namespace. "
   ]
  },
  {
   "cell_type": "code",
   "execution_count": null,
   "id": "fa87f6c1",
   "metadata": {},
   "outputs": [],
   "source": [
    "import gurobipy as gp\n",
    "from gurobipy import GRB"
   ]
  },
  {
   "cell_type": "markdown",
   "id": "e41b7a78",
   "metadata": {},
   "source": [
    "<div class=\"alert alert-success alert-dismissible\">\n",
    "  <a href=\"#\" class=\"close\" data-dismiss=\"alert\" aria-label=\"close\">&times;</a>\n",
    "    <strong>Quick Tip</strong>\n",
    "    <p>The two import lines above will be needed each time you want to use gurobipy. You are encouraged to completely forget this part and copy-and-paste it for each new Gurobi model you write  ;).</p>\n",
    "</div>"
   ]
  },
  {
   "cell_type": "markdown",
   "id": "c306275e",
   "metadata": {},
   "source": [
    "Jump to [Top](#start) | [Data](#1_data) | [Model](#2_model) | [Variables](#3_variables) | [Constraints](#4_constraints) | [Objective](#5_objective) | [Optimize!](#6_optimize) | [View the solution](#7_getvals)\n",
    "<a id='1_data' name='1_data'></a>\n",
    "\n",
    "---\n",
    "\n",
    "## 1.  Define the data structures\n",
    "\n",
    "The Burrito Optimization Game lets you download the data to define the model.  To ensure we have time for the fun stuff, we have added this below for you.\n",
    "\n",
    "Here is the data overlayed on the map:\n",
    "![Figure showing the game data on the map](util/bog_dataexplanation.png)\n",
    "\n",
    "What do we know about Burritoville on a given day?\n",
    "- Scalar data: `burrito_price`, `ingredient_cost`, and `truck_cost`\n",
    "- Truck data: Set of trucks spots that are available `truck_spots[t]`\n",
    "- Buildings that have customer demand: Total demand `demand[b]` and scaled demand by a factor of how far the customer will have to walk `scaled_demand[b,t]`\n",
    "\n",
    "Other data such as map coordinates and building names are used for plotting only.  In the cells below, we will recreate the BurritoOptimizationGame model using data from CSV files that are downloadable from the game.\n",
    "\n",
    "To start, pick the round and day that you would like to solve for"
   ]
  },
  {
   "cell_type": "code",
   "execution_count": null,
   "id": "70483804",
   "metadata": {},
   "outputs": [],
   "source": [
    "# Round and day specific string. Note: This model is only valid for Round 1\n",
    "path = \"https://raw.githubusercontent.com/Gurobi/modeling-examples/master/burrito_optimization_game/data/\"\n",
    "\n",
    "### CHANGE THIS TO SWITCH DAYS. ###\n",
    "# This should match the csv filenames (e.g., round1-day1, round1-day2, round1-day3...)\n",
    "round_day_str = \"round1-day1\" \n",
    "#round_day_str = \"round1-day2\" \n",
    "#round_day_str = \"round1-day3\" \n",
    "#round_day_str = \"round1-day4\" "
   ]
  },
  {
   "cell_type": "markdown",
   "id": "11d1220b",
   "metadata": {},
   "source": [
    "### Read in and define data structures\n",
    "We will define the following from these data structures:\n",
    "\n",
    "- From the **'Problem Data'** we will get basic data that will be stored as scalars: `burrito_price`, `ingredient_cost`, and `truck_cost`\n",
    "- From **'Truck node data'** we are given the possible truck locations and their coordinates on the map.  We will not use the coordinates in the model, but we will use them for plotting. From this, we create the `truck_spots` set and the `truck_coordinates` dictionary.\n",
    "- From **'Demand node data'** we get a list of buildings with customer demand by building.  We are also given the coordinates and building names --- which we find pretty clever.  We use the Gurobi Python [multidict()](https://www.gurobi.com/documentation/current/refman/py_multidict.html) function to initialize one or more dictionaries with a single statement. The function takes a dictionary as its argument. The keys represent the possible combinations of buildings and truck spots.\n",
    "- From **'Demand-Truck data'** we get information about how the demand scales with each building location and truck spot pair.  Customers are only willing to walk so far to a burrito truck, and the actual number of customers you win from a building is smaller the farther away the truck is from the building. If the nearest truck is too far away, you won’t win any customers from that building.  To account for this, there is a demand multiplier based on how far a customer can walk from their building to a truck spot.  The scaled demand below is the product of the demand multiplier and the total customer demand at a building.  We will also extract this data using the Gurobi Python [multidict()](https://www.gurobi.com/documentation/current/refman/py_multidict.html) function.  From this, we get the `scaled_demand[b,t]` values.\n",
    "\n",
    "These data structures are created in the following cell."
   ]
  },
  {
   "cell_type": "code",
   "execution_count": null,
   "id": "7a80381c",
   "metadata": {},
   "outputs": [],
   "source": [
    "import pandas as pd\n",
    "\n",
    "# Define the urls to pull data from\n",
    "urls={\n",
    "    'Problem data': path + round_day_str + \"_problem_data.csv\",\n",
    "    'Truck node data': path + round_day_str + \"_truck_node_data.csv\",\n",
    "    'Demand node data': path + round_day_str + \"_demand_node_data.csv\",\n",
    "    'Demand-Truck data': path + round_day_str + \"_demand_truck_data.csv\" , \n",
    "}\n",
    "\n",
    "print(f\"Here is a summary of '{round_day_str}':\")\n",
    "\n",
    "# Read in basic problem data\n",
    "url = urls['Problem data']\n",
    "df = pd.read_csv(url)\n",
    "burrito_price = float(df['burrito_price'][0])\n",
    "ingredient_cost = float(df['ingredient_cost'][0])\n",
    "truck_cost = float(df['truck_cost'][0])\n",
    "print(f\"  - The burritos cost ₲{ingredient_cost} to make and are sold for ₲{burrito_price}. Each truck costs ₲{truck_cost} to use per day.\")\n",
    "\n",
    "# Read in truck node data\n",
    "url = urls['Truck node data']\n",
    "df = pd.read_csv(url)\n",
    "truck_coordinates = {row['index']:(float(row['x']),float(row['y'])) for ind,row in df.iterrows()}\n",
    "truck_spots = truck_coordinates.keys()\n",
    "print(f\"  - There are {len(truck_spots)} available 'truck_spots' or places where a truck can be placed around Burritoville.\")\n",
    "\n",
    "# Read in building data\n",
    "url = urls['Demand node data']\n",
    "df = pd.read_csv(url)\n",
    "buildings, building_names, building_coordinates, demand = gp.multidict({\n",
    "        row['index']: [row['name'], (float(row['x']), float(row['y'])), float(row['demand'])] for ind,row in df.iterrows()\n",
    "    })\n",
    "print(f\"  - There are in {len(buildings)} buildings with hungry customers also known as demand nodes.\")\n",
    "\n",
    "# Read in paired building and truck data\n",
    "url = urls['Demand-Truck data']\n",
    "df = pd.read_csv(url)\n",
    "building_truck_spot_pairs, distance, scaled_demand = gp.multidict({\n",
    "        (row['demand_node_index'], row['truck_node_index']): [float(row['distance']), float(row['scaled_demand'])] for ind,row in df.iterrows() if float(row['scaled_demand'])>0# (building, truck_spot): distance, scaled_demand\n",
    "    })\n",
    "print(f\"  - There are in {len(building_truck_spot_pairs)} pairs of trucks spots and buildings with hungry customers.\")"
   ]
  },
  {
   "cell_type": "markdown",
   "id": "99de1abc",
   "metadata": {},
   "source": [
    "### Current map layout with this data\n",
    "We can now view this data on our Burritoville map to make sure everything looks correct."
   ]
  },
  {
   "cell_type": "code",
   "execution_count": null,
   "id": "128c397b",
   "metadata": {},
   "outputs": [],
   "source": [
    "# Plot the truck spots and customer demands on the Burritoville map\n",
    "import requests\n",
    "r = requests.get('https://raw.githubusercontent.com/Gurobi/modeling-examples/master/burrito_optimization_game/util/show_map.py')\n",
    "with open('show_map_local.py', 'w') as f:\n",
    "    f.write(r.text)\n",
    "from show_map_local import show_map\n",
    "\n",
    "show_map(buildings, building_names, building_coordinates, demand, truck_coordinates)"
   ]
  },
  {
   "cell_type": "markdown",
   "id": "8ae7fe12",
   "metadata": {},
   "source": [
    "Jump to [Top](#start) | [Data](#1_data) | [Model](#2_model) | [Variables](#3_variables) | [Constraints](#4_constraints) | [Objective](#5_objective) | [Optimize!](#6_optimize) | [View the solution](#7_getvals)\n",
    "<a id='2_model' name='2_model' ></a>\n",
    "\n",
    "---\n",
    "\n",
    "## 2. Begin building the model\n",
    "In the next four steps, we will be creating the following model:\n",
    "\n",
    "$$\n",
    "\\begin{align*}\n",
    "{\\rm maximize} & \\quad \\displaystyle \\sum_{b\\in \\mathcal{B}}   \\  \\displaystyle \\sum_{t\\in \\mathcal{T}}  \\  ( r - k) \\alpha_{bt} d_b  y_{bt} - \\displaystyle \\sum_{t\\in \\mathcal{T}} f_t  x_t \\\\ \\\\\n",
    "{\\rm s.t.} & \\quad y_{bt} \\leq x_t & \\quad \\forall b\\in {\\mathcal{B}} ,t\\in {\\mathcal{T}}  \\\\ \n",
    "& \\quad \\displaystyle \\sum_{t\\in \\mathcal{T}} y_{bt} \\leq 1 & \\quad \\forall b\\in {\\mathcal{B}}  \\\\\n",
    "& \\quad x_t, y_{bt} \\in \\{0,1\\} &  \\quad \\forall b\\in {\\mathcal{B}} ,t\\in {\\mathcal{T}}  \\\\ \\\\\n",
    "\\end{align*}\n",
    "$$\n",
    "\n",
    "where we have two sets (created above):\n",
    "\n",
    "$$\n",
    "\\begin{align*}\n",
    "\\mathcal{T} & \\quad \\text{is the set of available truck spots } \\ t & \\quad \\texttt{truck}\\_ \\texttt{spots} \\\\ \n",
    "\\mathcal{B} & \\quad \\text{is the set of buildings with customer demand } \\ b & \\quad \\texttt{buildings} \\\\ \\\\\n",
    "\\end{align*}\n",
    "$$\n",
    "\n",
    "and the following decision variables:\n",
    "\n",
    "$$\n",
    "\\begin{align*}\n",
    "x_t & \\quad \\text{is 1 if a truck is placed at truck spot } t\\in \\mathcal{T}  \\text{; 0 otherwise.} & \\quad \\texttt{x}\\_ \\texttt{placed[t]} \\\\\n",
    "y_{bt} & \\quad \\text{is 1 if truck } t\\in\\mathcal{T} \\text{ serves burritos to customers from building } b\\in \\mathcal{B} \\text{; 0 otherwise.} & \\quad \\texttt{y}\\_ \\texttt{served[b,t]} \\\\ \\\\\n",
    "\\end{align*}\n",
    "$$\n",
    "\n",
    "\n",
    "and the following scalars and data structures (created above):\n",
    "\n",
    "$$\n",
    "\\begin{align*}\n",
    "r & \\quad \\text{is the revenue from each burrito in ₲ per burrito.}  & \\quad \\texttt{burrito}\\_ \\texttt{price} \\\\\n",
    "k & \\quad \\text{is the ingredient cost for each burrito in ₲ per burrito} & \\quad \\texttt{ingredient}\\_ \\texttt{cost} \\\\\n",
    "\\alpha_{bt},d_b & \\quad \\text{are the demand multiplier and demand. These have been combined into one scaled demand.} & \\quad \\texttt{scaled}\\_ \\texttt{demand[b,t]} \\\\ \n",
    "f_t & \\quad \\text{ is the cost to place a truck for the day} & \\quad \\texttt{truck}\\_ \\texttt{cost}\\\\\n",
    "\\end{align*}\n",
    "$$\n",
    "\n",
    "If you have already peeked at the [notation in the Game Guide](https://www.gurobi.com/lp/academics/burrito-optimization-game-guide#the-ip-notation), you may notice that the $i$ and $j$ indices have disappeared.  We have changed them to $t$ for each truck spot and $b$ for each building with demand. But it's the same idea."
   ]
  },
  {
   "cell_type": "markdown",
   "id": "1db6a661",
   "metadata": {},
   "source": [
    "To start, we will need to create the [model()](https://www.gurobi.com/documentation/9.5/refman/py_model2.html) object in Gurobi.  The Model object holds a single optimization problem. It consists of a set of variables, a set of constraints, and an objective function."
   ]
  },
  {
   "cell_type": "code",
   "execution_count": null,
   "id": "dd59f7d6",
   "metadata": {},
   "outputs": [],
   "source": [
    "# Declare and initialize model\n"
   ]
  },
  {
   "cell_type": "markdown",
   "id": "7013723f",
   "metadata": {},
   "source": [
    "Jump to [Top](#start) | [Data](#1_data) | [Model](#2_model) | [Variables](#3_variables) | [Constraints](#4_constraints) | [Objective](#5_objective) | [Optimize!](#6_optimize) | [View the solution](#7_getvals)\n",
    "<a id='3_variables' name='3_variables'></a>\n",
    "\n",
    "---\n",
    "\n",
    "## 3. Add Decision variables\n",
    "To solve the Burrito Optimization Game problem, we need to identify where we will place our trucks.  Each truck can only be placed in an available truck spot.  We also need to know which buildings will be served by which truck.  Here are the two variables we are creating:\n",
    "\n",
    "- `x_placed[t]` is 1 if we place a truck at truck spot `t`, otherwise `x_placed[t]` is 0\n",
    "- `y_served[b,t]` is 1 if building `b` is served by a truck placed at truck spot `t`, otherwise `y_served[b,t]` is 0\n",
    "\n",
    "Here we are creating variables using [addVars()](https://www.gurobi.com/documentation/current/refman/py_model_addvars.html#pythonmethod:Model.addVars) function for `x_placed` and `y_served`."
   ]
  },
  {
   "cell_type": "code",
   "execution_count": null,
   "id": "5872aa8b",
   "metadata": {},
   "outputs": [],
   "source": [
    "# Create decision variables for the Burrito Optimization Game model\n",
    "\n"
   ]
  },
  {
   "cell_type": "markdown",
   "id": "86f114e7",
   "metadata": {},
   "source": [
    "Jump to [Top](#start) | [Data](#1_data) | [Model](#2_model) | [Variables](#3_variables) | [Constraints](#4_constraints) | [Objective](#5_objective) | [Optimize!](#6_optimize) | [View the solution](#7_getvals)\n",
    "<a id='4_constraints' name='4_constraints'></a>\n",
    "\n",
    "---\n",
    "## 4. Add Constraints\n",
    "We will begin adding the constraints that define our problem.\n"
   ]
  },
  {
   "cell_type": "markdown",
   "id": "bed65db7",
   "metadata": {},
   "source": [
    "### Truck must be open at a truck_spot to serve the customer\n",
    "Here we must ensure that a truck exists in a truck spot if a customer is served there. No truck, no burrito : (.\n",
    "\n",
    "In the next cell, we will create these constraints in one call to [addConstrs()](https://www.gurobi.com/documentation/current/refman/py_model_addconstrs.html) to add to the model\n",
    "\n",
    "$$\n",
    "\\begin{align*}\n",
    "y_{bt} \\leq x_t & \\quad \\quad \\forall b\\in {\\mathcal{B}} ,t\\in {\\mathcal{T}}  \\\\ \n",
    "\\end{align*}\n",
    "$$"
   ]
  },
  {
   "cell_type": "code",
   "execution_count": null,
   "id": "35922fd2",
   "metadata": {},
   "outputs": [],
   "source": [
    "# Create truck-must-exist constraints\n"
   ]
  },
  {
   "cell_type": "markdown",
   "id": "a941e60e",
   "metadata": {},
   "source": [
    "<div class=\"alert alert-success alert-dismissible\">\n",
    "  <a href=\"#\" class=\"close\" data-dismiss=\"alert\" aria-label=\"close\">&times;</a>\n",
    "    <strong>Quick Tip</strong>\n",
    "    <p>There is more than one way to create these constraints.  You can add the constraints one-at-a-time using <a href=\"https://www.gurobi.com/documentation/current/refman/py_model_addconstr.html\" target=\"_blank\">addConstr()</a> or with one line using <a href=\"https://www.gurobi.com/documentation/current/refman/py_model_addconstr.html\" target=\"_blank\">addConstrs()</a>.  We have used the latter when creating these constraints because it is more efficient and compact.</p>\n",
    "</div>"
   ]
  },
  {
   "cell_type": "markdown",
   "id": "18dddc78",
   "metadata": {},
   "source": [
    "### Only one truck per customer at a given building\n",
    "\n",
    "The customers from one building will all be served by up to one truck. \n",
    "$$\n",
    "\\begin{align*}\n",
    "\\displaystyle \\sum_{t\\in \\mathcal{T}} y_{bt} \\leq 1 & \\quad \\quad \\forall b\\in {\\mathcal{B}}  \\\\\n",
    "\\end{align*}\n",
    "$$\n",
    "\n",
    "Here we are using the y_served.[sum()](https://www.gurobi.com/documentation/current/refman/py_tupledict_sum.html) function to make it easy to do a summation over a variable."
   ]
  },
  {
   "cell_type": "code",
   "execution_count": null,
   "id": "ddc309a0",
   "metadata": {},
   "outputs": [],
   "source": [
    "# Create only one truck per customers at building constraint\n"
   ]
  },
  {
   "cell_type": "markdown",
   "id": "a67cdf27",
   "metadata": {},
   "source": [
    "Jump to [Top](#start) | [Data](#1_data) | [Model](#2_model) | [Variables](#3_variables) | [Constraints](#4_constraints) | [Objective](#5_objective) | [Optimize!](#6_optimize) | [View the solution](#7_getvals)\n",
    "<a id='5_objective' name='5_objective'></a>\n",
    "\n",
    "---\n",
    "## 5. Set the objective\n",
    "The objective is to maximize the total profit.  \n",
    "\n",
    "To set the objective, we will first define the revenue using a nested summation.  This can be accomplished using the function.  For convenience and readability, we will split the objective into the burrito revenue and truck costs:\n",
    "\n",
    "$$\n",
    "\\begin{align*}\n",
    "{\\rm maximize} & \\quad \\displaystyle \\sum_{b\\in \\mathcal{B}}   \\  \\displaystyle \\sum_{t\\in \\mathcal{T}}  \\  ( r - k) \\alpha_{bt} d_b  y_{bt} - \\displaystyle \\sum_{t\\in \\mathcal{T}} f_t  x_t \\\\ \\\\\n",
    "\\end{align*}\n",
    "$$\n",
    "\n",
    "Here, we are only creating new linear expressions, not new variables. Then we will use the [setObjective()](https://www.gurobi.com/documentation/current/refman/py_model_setobjective.html) method to set the objective."
   ]
  },
  {
   "cell_type": "code",
   "execution_count": null,
   "id": "f572cfcd",
   "metadata": {},
   "outputs": [],
   "source": [
    "# Objective: maximize total profit = burrito_revenue - total_truck_cost\n"
   ]
  },
  {
   "cell_type": "markdown",
   "id": "11db277f",
   "metadata": {},
   "source": [
    "### Celebrate and check your work"
   ]
  },
  {
   "cell_type": "code",
   "execution_count": null,
   "id": "eff7e750",
   "metadata": {},
   "outputs": [],
   "source": [
    "model.write('burrito_game.lp')"
   ]
  },
  {
   "cell_type": "markdown",
   "id": "d50811bb",
   "metadata": {},
   "source": [
    "<div class=\"alert alert-success alert-dismissible\">\n",
    "  <a href=\"#\" class=\"close\" data-dismiss=\"alert\" aria-label=\"close\">&times;</a>\n",
    "    <strong>Quick Tip</strong> \n",
    "    <p>In the cell above, we wrote out the model as an LP file.  This is a human-readable format that can allow you to check to make sure your constraints and objectives look right.  This has been saved to this local directory.  \n",
    "    <p>Take a look at burrito_game.lp. Does everything look correct?  If so, please consider celebrating. Eat a burrito. Do an optimal dance.</p>\n",
    "</div>"
   ]
  },
  {
   "cell_type": "markdown",
   "id": "fbcbcf59",
   "metadata": {},
   "source": [
    "Jump to [Top](#start) | [Data](#1_data) | [Model](#2_model) | [Variables](#3_variables) | [Constraints](#4_constraints) | [Objective](#5_objective) | [Optimize!](#6_optimize) | [View the solution](#7_getvals)\n",
    "<a id='6_optimize' name='6_optimize'></a>\n",
    "\n",
    "---\n",
    "## 6. Solve the model \n",
    "We use the [optimize()](https://www.gurobi.com/documentation/current/refman/py_model_optimize.html) method of the Gurobi/Python API to solve the problem we have defined for the model object `model`."
   ]
  },
  {
   "cell_type": "code",
   "execution_count": null,
   "id": "313b9318",
   "metadata": {},
   "outputs": [],
   "source": [
    "model.optimize()"
   ]
  },
  {
   "cell_type": "markdown",
   "id": "e1009cb7",
   "metadata": {},
   "source": [
    "Before we start digging into the solution, let's check the solution.  If the model is not optimal, check the [Optimization Status Codes](https://www.gurobi.com/documentation/current/refman/optimization_status_codes.html) page."
   ]
  },
  {
   "cell_type": "code",
   "execution_count": null,
   "id": "232a69b4",
   "metadata": {},
   "outputs": [],
   "source": [
    "status = model.status\n",
    "if status == GRB.OPTIMAL:\n",
    "    print(f\"The final objective is \")\n",
    "    print(f\"     Burrito revenue        ₲{burrito_revenue.getValue()}\")\n",
    "    print(f\" -  Total truck cost     -  ₲{total_truck_cost.getValue()}\")\n",
    "    print(f\"-----------------------------------\")\n",
    "    print(f\"              Profit        ₲{model.objVal}\")\n",
    "else:\n",
    "    print(f\"Model is not optimal, status = {status}\")"
   ]
  },
  {
   "cell_type": "markdown",
   "id": "32948443",
   "metadata": {},
   "source": [
    "Jump to [Top](#start) | [Data](#1_data) | [Model](#2_model) | [Variables](#3_variables) | [Constraints](#4_constraints) | [Objective](#5_objective) | [Optimize!](#6_optimize) | [View the solution](#7_getvals)\n",
    "<a id='7_getvals' name='7_getvals'></a>\n",
    "\n",
    "---\n",
    "## 7. View the solution\n"
   ]
  },
  {
   "cell_type": "code",
   "execution_count": null,
   "id": "d05e9063",
   "metadata": {},
   "outputs": [],
   "source": [
    "# Plot the solution on the Burritoville Map\n",
    "placed_trucks = [t for t in x_placed if x_placed[t].X ==1]\n",
    "show_map(buildings, building_names, building_coordinates, demand, truck_coordinates, placed_trucks = placed_trucks)"
   ]
  },
  {
   "cell_type": "markdown",
   "id": "38c22d37",
   "metadata": {},
   "source": [
    "## Before you exit, free up Gurobi resources\n",
    "After you are done, it is a best practice to free up any Gurobi resources associated with the model object and environment.  This will release any shared licenses and end the job on the cloud or compute server.  \n",
    "\n",
    "To do this, call [Model.dispose()](https://www.gurobi.com/documentation/current/refman/py_model_dispose.html#pythonmethod:Model.dispose) on all Model objects, [Env.dispose()](https://www.gurobi.com/documentation/current/refman/py_env_dispose.html#pythonmethod:Env.dispose) on any Env objects you created, or [disposeDefaultEnv()](https://www.gurobi.com/documentation/current/refman/py_disposedefaultenv.html#pythonmethod:disposeDefaultEnv) if you used the default environment instead."
   ]
  },
  {
   "cell_type": "code",
   "execution_count": null,
   "id": "1fdbd5b8",
   "metadata": {},
   "outputs": [],
   "source": [
    "# Free Gurobi resources: Model and environment\n",
    "model.dispose()\n",
    "gp.disposeDefaultEnv()"
   ]
  },
  {
   "cell_type": "code",
   "execution_count": null,
   "id": "7c557bad",
   "metadata": {},
   "outputs": [],
   "source": []
  }
 ],
 "metadata": {
  "kernelspec": {
   "display_name": "Python 3",
   "language": "python",
   "name": "python3"
  },
  "language_info": {
   "codemirror_mode": {
    "name": "ipython",
    "version": 3
   },
   "file_extension": ".py",
   "mimetype": "text/x-python",
   "name": "python",
   "nbconvert_exporter": "python",
   "pygments_lexer": "ipython3",
   "version": "3.8.8"
  }
 },
 "nbformat": 4,
 "nbformat_minor": 5
}
