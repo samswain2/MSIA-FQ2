{
 "cells": [
  {
   "cell_type": "code",
   "execution_count": 1,
   "metadata": {},
   "outputs": [],
   "source": [
    "import pandas as pd\n",
    "import gurobipy as gp\n",
    "import numpy as np"
   ]
  },
  {
   "cell_type": "code",
   "execution_count": 2,
   "metadata": {},
   "outputs": [],
   "source": [
    "data = pd.read_pickle('doctor_assignment_data.pkl')"
   ]
  },
  {
   "cell_type": "code",
   "execution_count": 3,
   "metadata": {},
   "outputs": [],
   "source": [
    "ranks = data['ranks'].item()\n",
    "schools = data['schools'].item()\n",
    "capacity = data['capacity'].item()\n",
    "m = data['m'].item()\n",
    "M = data['M'].item()"
   ]
  },
  {
   "cell_type": "code",
   "execution_count": 4,
   "metadata": {},
   "outputs": [
    {
     "name": "stdout",
     "output_type": "stream",
     "text": [
      "Set parameter Username\n",
      "Academic license - for non-commercial use only - expires 2023-09-20\n"
     ]
    }
   ],
   "source": [
    "model = gp.Model('doctor_assignment')\n",
    "X = model.addVars(100, 12, vtype=gp.GRB.BINARY, name='doctor_assignment')\n",
    "model.setObjective( gp.quicksum( ranks[i][j] * X[i,j] for i in range(100) for j in range(12)) / 100,\n",
    "                   gp.GRB.MINIMIZE)\n"
   ]
  },
  {
   "cell_type": "code",
   "execution_count": 5,
   "metadata": {},
   "outputs": [],
   "source": [
    "CAP = model.addConstrs( gp.quicksum(X[i,j] for i in range(100)) <= capacity[j] for j in range(12) )\n",
    "ONE_JOB = model.addConstrs( gp.quicksum(X[i,j] for j in range(12)) == 1 for i in range(100))"
   ]
  },
  {
   "cell_type": "code",
   "execution_count": 6,
   "metadata": {},
   "outputs": [
    {
     "name": "stdout",
     "output_type": "stream",
     "text": [
      "Gurobi Optimizer version 9.5.2 build v9.5.2rc0 (mac64[rosetta2])\n",
      "Thread count: 8 physical cores, 8 logical processors, using up to 8 threads\n",
      "Optimize a model with 112 rows, 1200 columns and 2400 nonzeros\n",
      "Model fingerprint: 0x1fcc4eea\n",
      "Variable types: 0 continuous, 1200 integer (1200 binary)\n",
      "Coefficient statistics:\n",
      "  Matrix range     [1e+00, 1e+00]\n",
      "  Objective range  [1e-02, 1e-01]\n",
      "  Bounds range     [1e+00, 1e+00]\n",
      "  RHS range        [1e+00, 1e+01]\n",
      "Found heuristic solution: objective 7.0300000\n",
      "Presolve time: 0.01s\n",
      "Presolved: 112 rows, 1200 columns, 2400 nonzeros\n",
      "Variable types: 0 continuous, 1200 integer (1200 binary)\n",
      "\n",
      "Root relaxation: objective 2.380000e+00, 194 iterations, 0.02 seconds (0.00 work units)\n",
      "\n",
      "    Nodes    |    Current Node    |     Objective Bounds      |     Work\n",
      " Expl Unexpl |  Obj  Depth IntInf | Incumbent    BestBd   Gap | It/Node Time\n",
      "\n",
      "*    0     0               0       2.3800000    2.38000  0.00%     -    0s\n",
      "\n",
      "Explored 1 nodes (194 simplex iterations) in 0.06 seconds (0.00 work units)\n",
      "Thread count was 8 (of 8 available processors)\n",
      "\n",
      "Solution count 2: 2.38 7.03 \n",
      "\n",
      "Optimal solution found (tolerance 1.00e-04)\n",
      "Best objective 2.380000000000e+00, best bound 2.380000000000e+00, gap 0.0000%\n"
     ]
    }
   ],
   "source": [
    "model.optimize()"
   ]
  },
  {
   "cell_type": "code",
   "execution_count": 7,
   "metadata": {},
   "outputs": [
    {
     "name": "stdout",
     "output_type": "stream",
     "text": [
      "Field 0:\n",
      "Doctor 6 Doctor 10 Doctor 11 Doctor 36 Doctor 42 Doctor 93 \n",
      "\n",
      "Field 1:\n",
      "Doctor 12 Doctor 37 Doctor 56 Doctor 79 Doctor 89 Doctor 90 \n",
      "\n",
      "Field 2:\n",
      "Doctor 18 Doctor 45 Doctor 57 Doctor 59 Doctor 60 Doctor 87 Doctor 88 \n",
      "\n",
      "Field 3:\n",
      "Doctor 7 Doctor 14 Doctor 58 Doctor 67 Doctor 71 Doctor 75 Doctor 82 Doctor 91 \n",
      "\n",
      "Field 4:\n",
      "Doctor 8 Doctor 15 Doctor 20 Doctor 29 Doctor 53 Doctor 83 Doctor 96 \n",
      "\n",
      "Field 5:\n",
      "Doctor 16 Doctor 34 Doctor 38 Doctor 48 Doctor 49 Doctor 81 Doctor 86 Doctor 95 \n",
      "\n",
      "Field 6:\n",
      "Doctor 27 Doctor 30 Doctor 43 Doctor 46 Doctor 62 Doctor 64 Doctor 69 Doctor 70 Doctor 78 \n",
      "\n",
      "Field 7:\n",
      "Doctor 1 Doctor 25 Doctor 26 Doctor 41 Doctor 47 Doctor 61 Doctor 63 Doctor 85 Doctor 100 \n",
      "\n",
      "Field 8:\n",
      "Doctor 5 Doctor 9 Doctor 21 Doctor 35 Doctor 55 Doctor 66 Doctor 77 Doctor 92 \n",
      "\n",
      "Field 9:\n",
      "Doctor 13 Doctor 19 Doctor 28 Doctor 32 Doctor 33 Doctor 44 Doctor 50 Doctor 80 Doctor 99 \n",
      "\n",
      "Field 10:\n",
      "Doctor 3 Doctor 17 Doctor 22 Doctor 23 Doctor 24 Doctor 31 Doctor 52 Doctor 65 Doctor 74 Doctor 94 Doctor 98 \n",
      "\n",
      "Field 11:\n",
      "Doctor 2 Doctor 4 Doctor 39 Doctor 40 Doctor 51 Doctor 54 Doctor 68 Doctor 72 Doctor 73 Doctor 76 Doctor 84 Doctor 97 \n",
      "\n"
     ]
    }
   ],
   "source": [
    "X_result = np.array([v.X for v in X.values()], dtype=int).reshape(100,12)\n",
    "\n",
    "for j in range(12):\n",
    "    print('Field %d:' %j)\n",
    "    for i in range(100):\n",
    "        if X_result[i, j] == 1:\n",
    "            print('Doctor %d ' %(i+1), end='')\n",
    "    print('\\n')"
   ]
  },
  {
   "cell_type": "code",
   "execution_count": 8,
   "metadata": {},
   "outputs": [
    {
     "data": {
      "text/plain": [
       "2.379999999999999"
      ]
     },
     "execution_count": 8,
     "metadata": {},
     "output_type": "execute_result"
    }
   ],
   "source": [
    "model.objVal"
   ]
  },
  {
   "cell_type": "code",
   "execution_count": null,
   "metadata": {},
   "outputs": [],
   "source": []
  }
 ],
 "metadata": {
  "kernelspec": {
   "display_name": "Python 3",
   "language": "python",
   "name": "python3"
  },
  "language_info": {
   "codemirror_mode": {
    "name": "ipython",
    "version": 3
   },
   "file_extension": ".py",
   "mimetype": "text/x-python",
   "name": "python",
   "nbconvert_exporter": "python",
   "pygments_lexer": "ipython3",
   "version": "3.8.8"
  }
 },
 "nbformat": 4,
 "nbformat_minor": 4
}
