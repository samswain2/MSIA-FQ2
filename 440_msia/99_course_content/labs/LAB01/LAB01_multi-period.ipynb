{
 "cells": [
  {
   "cell_type": "code",
   "execution_count": 1,
   "id": "a8031247",
   "metadata": {},
   "outputs": [
    {
     "name": "stdout",
     "output_type": "stream",
     "text": [
      "Set parameter Username\n",
      "Academic license - for non-commercial use only - expires 2023-09-20\n"
     ]
    }
   ],
   "source": [
    "import gurobipy as gp\n",
    "\n",
    "model = gp.Model('food_manufacture_multi_period')\n",
    "\n",
    "p = [[110, 120, 130, 110, 115],\n",
    "    [130, 130, 110, 90, 115],\n",
    "    [110, 140, 130, 100, 95],\n",
    "    [120, 110, 120, 120, 125],\n",
    "    [100, 120, 150, 110, 105],\n",
    "    [90, 100, 140, 80, 135]]\n",
    "\n",
    "h = [8.8, 6.1, 2, 4.2, 5]\n",
    "\n",
    "b = model.addVars(6, 5, name='buy' )\n",
    "u = model.addVars(6, 5, name='use' )\n",
    "s = model.addVars(6, 5, ub=1000, name='store')\n",
    "y = model.addVars(6, name='produce')"
   ]
  },
  {
   "cell_type": "code",
   "execution_count": 2,
   "id": "a3543e66",
   "metadata": {},
   "outputs": [],
   "source": [
    "model.setObjective(- gp.quicksum( b[i,j] * p[i][j] for i in range(6) for j in range(5)) \n",
    "                   - gp.quicksum( 5 * s[i,j] for i in range(6) for j in range(5))\n",
    "                   + gp.quicksum( 150 * y[i] for i in range(6)), gp.GRB.MAXIMIZE)\n"
   ]
  },
  {
   "cell_type": "code",
   "execution_count": 3,
   "id": "29ce70c7",
   "metadata": {},
   "outputs": [],
   "source": [
    "VEG_CAP = model.addConstrs( u[i,0] + u[i,1] <= 200 for i in range(6) )\n",
    "NON_CAP = model.addConstrs( u[i,2] + u[i,3] + u[i,4] <= 250 for i in range(6))\n",
    "HRD_L = model.addConstrs( gp.quicksum( u[i,j] * h[j] for j in range(5)) - 6 * y[i] <= 0 for i in range(6) )\n",
    "HRD_R = model.addConstrs( gp.quicksum( u[i,j] * h[j] for j in range(5)) - 3 * y[i] >= 0 for i in range(6) )\n",
    "CONT = model.addConstrs( gp.quicksum(u[i,j] for j in range(5)) - y[i] == 0 for i in range(6))\n",
    "STORAGE_JUNE = model.addConstrs( s[5, j] == 500 for j in range(5))\n",
    "STORAGE_JAN = model.addConstrs( 500 + b[0,j] - u[0,j] - s[0,j] == 0 for j in range(5))\n",
    "STORAGE_LINK = model.addConstrs( s[i-1, j] + b[i,j] - u[i,j] - s[i,j] == 0 for i in range(1, 6) for j in range(5))\n"
   ]
  },
  {
   "cell_type": "code",
   "execution_count": 4,
   "id": "1fee1b30",
   "metadata": {},
   "outputs": [
    {
     "name": "stdout",
     "output_type": "stream",
     "text": [
      "Gurobi Optimizer version 9.5.2 build v9.5.2rc0 (mac64[rosetta2])\n",
      "Thread count: 8 physical cores, 8 logical processors, using up to 8 threads\n",
      "Optimize a model with 65 rows, 96 columns and 258 nonzeros\n",
      "Model fingerprint: 0xc7a67c1d\n",
      "Coefficient statistics:\n",
      "  Matrix range     [1e+00, 9e+00]\n",
      "  Objective range  [5e+00, 2e+02]\n",
      "  Bounds range     [1e+03, 1e+03]\n",
      "  RHS range        [2e+02, 5e+02]\n",
      "Presolve removed 11 rows and 11 columns\n",
      "Presolve time: 0.00s\n",
      "Presolved: 54 rows, 85 columns, 200 nonzeros\n",
      "\n",
      "Iteration    Objective       Primal Inf.    Dual Inf.      Time\n",
      "       0    3.8475779e+05   1.550638e+03   0.000000e+00      0s\n",
      "      42    1.0784259e+05   0.000000e+00   0.000000e+00      0s\n",
      "\n",
      "Solved in 42 iterations and 0.01 seconds (0.00 work units)\n",
      "Optimal objective  1.078425926e+05\n"
     ]
    }
   ],
   "source": [
    "model.optimize()"
   ]
  },
  {
   "cell_type": "code",
   "execution_count": 5,
   "id": "12a0823f",
   "metadata": {},
   "outputs": [
    {
     "data": {
      "text/plain": [
       "107842.59259259258"
      ]
     },
     "execution_count": 5,
     "metadata": {},
     "output_type": "execute_result"
    }
   ],
   "source": [
    "model.objval"
   ]
  },
  {
   "cell_type": "code",
   "execution_count": 6,
   "id": "8f2f18db",
   "metadata": {},
   "outputs": [
    {
     "data": {
      "text/plain": [
       "{(0, 0): <gurobi.Var buy[0,0] (value 0.0)>,\n",
       " (0, 1): <gurobi.Var buy[0,1] (value 0.0)>,\n",
       " (0, 2): <gurobi.Var buy[0,2] (value 0.0)>,\n",
       " (0, 3): <gurobi.Var buy[0,3] (value 0.0)>,\n",
       " (0, 4): <gurobi.Var buy[0,4] (value 0.0)>,\n",
       " (1, 0): <gurobi.Var buy[1,0] (value 0.0)>,\n",
       " (1, 1): <gurobi.Var buy[1,1] (value 0.0)>,\n",
       " (1, 2): <gurobi.Var buy[1,2] (value 0.0)>,\n",
       " (1, 3): <gurobi.Var buy[1,3] (value 500.0)>,\n",
       " (1, 4): <gurobi.Var buy[1,4] (value 0.0)>,\n",
       " (2, 0): <gurobi.Var buy[2,0] (value 0.0)>,\n",
       " (2, 1): <gurobi.Var buy[2,1] (value 0.0)>,\n",
       " (2, 2): <gurobi.Var buy[2,2] (value 0.0)>,\n",
       " (2, 3): <gurobi.Var buy[2,3] (value 0.0)>,\n",
       " (2, 4): <gurobi.Var buy[2,4] (value 250.0)>,\n",
       " (3, 0): <gurobi.Var buy[3,0] (value 0.0)>,\n",
       " (3, 1): <gurobi.Var buy[3,1] (value 0.0)>,\n",
       " (3, 2): <gurobi.Var buy[3,2] (value 0.0)>,\n",
       " (3, 3): <gurobi.Var buy[3,3] (value 0.0)>,\n",
       " (3, 4): <gurobi.Var buy[3,4] (value 0.0)>,\n",
       " (4, 0): <gurobi.Var buy[4,0] (value 0.0)>,\n",
       " (4, 1): <gurobi.Var buy[4,1] (value 0.0)>,\n",
       " (4, 2): <gurobi.Var buy[4,2] (value 0.0)>,\n",
       " (4, 3): <gurobi.Var buy[4,3] (value 0.0)>,\n",
       " (4, 4): <gurobi.Var buy[4,4] (value 0.0)>,\n",
       " (5, 0): <gurobi.Var buy[5,0] (value 659.2592592592592)>,\n",
       " (5, 1): <gurobi.Var buy[5,1] (value 540.7407407407408)>,\n",
       " (5, 2): <gurobi.Var buy[5,2] (value 0.0)>,\n",
       " (5, 3): <gurobi.Var buy[5,3] (value 750.0)>,\n",
       " (5, 4): <gurobi.Var buy[5,4] (value 0.0)>}"
      ]
     },
     "execution_count": 6,
     "metadata": {},
     "output_type": "execute_result"
    }
   ],
   "source": [
    "b"
   ]
  },
  {
   "cell_type": "code",
   "execution_count": 7,
   "id": "35012f35",
   "metadata": {},
   "outputs": [
    {
     "data": {
      "text/plain": [
       "{(0, 0): <gurobi.Var store[0,0] (value 340.74074074074076)>,\n",
       " (0, 1): <gurobi.Var store[0,1] (value 459.25925925925924)>,\n",
       " (0, 2): <gurobi.Var store[0,2] (value 500.0)>,\n",
       " (0, 3): <gurobi.Var store[0,3] (value 250.0)>,\n",
       " (0, 4): <gurobi.Var store[0,4] (value 500.0)>,\n",
       " (1, 0): <gurobi.Var store[1,0] (value 181.48148148148152)>,\n",
       " (1, 1): <gurobi.Var store[1,1] (value 418.5185185185185)>,\n",
       " (1, 2): <gurobi.Var store[1,2] (value 500.0)>,\n",
       " (1, 3): <gurobi.Var store[1,3] (value 500.0)>,\n",
       " (1, 4): <gurobi.Var store[1,4] (value 500.0)>,\n",
       " (2, 0): <gurobi.Var store[2,0] (value 22.222222222222285)>,\n",
       " (2, 1): <gurobi.Var store[2,1] (value 377.7777777777777)>,\n",
       " (2, 2): <gurobi.Var store[2,2] (value 500.0)>,\n",
       " (2, 3): <gurobi.Var store[2,3] (value 250.0)>,\n",
       " (2, 4): <gurobi.Var store[2,4] (value 750.0)>,\n",
       " (3, 0): <gurobi.Var store[3,0] (value 22.222222222222285)>,\n",
       " (3, 1): <gurobi.Var store[3,1] (value 177.77777777777771)>,\n",
       " (3, 2): <gurobi.Var store[3,2] (value 500.0)>,\n",
       " (3, 3): <gurobi.Var store[3,3] (value 0.0)>,\n",
       " (3, 4): <gurobi.Var store[3,4] (value 750.0)>,\n",
       " (4, 0): <gurobi.Var store[4,0] (value 0.0)>,\n",
       " (4, 1): <gurobi.Var store[4,1] (value 0.0)>,\n",
       " (4, 2): <gurobi.Var store[4,2] (value 500.0)>,\n",
       " (4, 3): <gurobi.Var store[4,3] (value 0.0)>,\n",
       " (4, 4): <gurobi.Var store[4,4] (value 500.0)>,\n",
       " (5, 0): <gurobi.Var store[5,0] (value 500.0)>,\n",
       " (5, 1): <gurobi.Var store[5,1] (value 500.0)>,\n",
       " (5, 2): <gurobi.Var store[5,2] (value 500.0)>,\n",
       " (5, 3): <gurobi.Var store[5,3] (value 500.0)>,\n",
       " (5, 4): <gurobi.Var store[5,4] (value 500.0)>}"
      ]
     },
     "execution_count": 7,
     "metadata": {},
     "output_type": "execute_result"
    }
   ],
   "source": [
    "s"
   ]
  },
  {
   "cell_type": "code",
   "execution_count": 8,
   "id": "fadc11e0",
   "metadata": {},
   "outputs": [
    {
     "data": {
      "text/plain": [
       "{(0, 0): <gurobi.Var use[0,0] (value 159.25925925925924)>,\n",
       " (0, 1): <gurobi.Var use[0,1] (value 40.74074074074077)>,\n",
       " (0, 2): <gurobi.Var use[0,2] (value 0.0)>,\n",
       " (0, 3): <gurobi.Var use[0,3] (value 250.0)>,\n",
       " (0, 4): <gurobi.Var use[0,4] (value 0.0)>,\n",
       " (1, 0): <gurobi.Var use[1,0] (value 159.25925925925924)>,\n",
       " (1, 1): <gurobi.Var use[1,1] (value 40.74074074074077)>,\n",
       " (1, 2): <gurobi.Var use[1,2] (value 0.0)>,\n",
       " (1, 3): <gurobi.Var use[1,3] (value 250.0)>,\n",
       " (1, 4): <gurobi.Var use[1,4] (value 0.0)>,\n",
       " (2, 0): <gurobi.Var use[2,0] (value 159.25925925925924)>,\n",
       " (2, 1): <gurobi.Var use[2,1] (value 40.74074074074077)>,\n",
       " (2, 2): <gurobi.Var use[2,2] (value 0.0)>,\n",
       " (2, 3): <gurobi.Var use[2,3] (value 250.0)>,\n",
       " (2, 4): <gurobi.Var use[2,4] (value 0.0)>,\n",
       " (3, 0): <gurobi.Var use[3,0] (value 0.0)>,\n",
       " (3, 1): <gurobi.Var use[3,1] (value 200.0)>,\n",
       " (3, 2): <gurobi.Var use[3,2] (value 0.0)>,\n",
       " (3, 3): <gurobi.Var use[3,3] (value 250.0)>,\n",
       " (3, 4): <gurobi.Var use[3,4] (value 0.0)>,\n",
       " (4, 0): <gurobi.Var use[4,0] (value 22.222222222222285)>,\n",
       " (4, 1): <gurobi.Var use[4,1] (value 177.77777777777771)>,\n",
       " (4, 2): <gurobi.Var use[4,2] (value 0.0)>,\n",
       " (4, 3): <gurobi.Var use[4,3] (value 0.0)>,\n",
       " (4, 4): <gurobi.Var use[4,4] (value 250.0)>,\n",
       " (5, 0): <gurobi.Var use[5,0] (value 159.25925925925924)>,\n",
       " (5, 1): <gurobi.Var use[5,1] (value 40.74074074074077)>,\n",
       " (5, 2): <gurobi.Var use[5,2] (value 0.0)>,\n",
       " (5, 3): <gurobi.Var use[5,3] (value 250.0)>,\n",
       " (5, 4): <gurobi.Var use[5,4] (value 0.0)>}"
      ]
     },
     "execution_count": 8,
     "metadata": {},
     "output_type": "execute_result"
    }
   ],
   "source": [
    "u"
   ]
  },
  {
   "cell_type": "code",
   "execution_count": null,
   "id": "98ec6fb7",
   "metadata": {},
   "outputs": [],
   "source": []
  }
 ],
 "metadata": {
  "kernelspec": {
   "display_name": "Python 3",
   "language": "python",
   "name": "python3"
  },
  "language_info": {
   "codemirror_mode": {
    "name": "ipython",
    "version": 3
   },
   "file_extension": ".py",
   "mimetype": "text/x-python",
   "name": "python",
   "nbconvert_exporter": "python",
   "pygments_lexer": "ipython3",
   "version": "3.8.8"
  }
 },
 "nbformat": 4,
 "nbformat_minor": 5
}
