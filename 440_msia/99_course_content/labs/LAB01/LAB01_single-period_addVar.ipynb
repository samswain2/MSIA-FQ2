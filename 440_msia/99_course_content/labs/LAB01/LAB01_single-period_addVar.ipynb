{
 "cells": [
  {
   "cell_type": "code",
   "execution_count": 1,
   "id": "24e168ae",
   "metadata": {},
   "outputs": [],
   "source": [
    "import gurobipy as gp"
   ]
  },
  {
   "cell_type": "code",
   "execution_count": 2,
   "id": "2fbf8cb9",
   "metadata": {},
   "outputs": [
    {
     "name": "stdout",
     "output_type": "stream",
     "text": [
      "Set parameter Username\n",
      "Academic license - for non-commercial use only - expires 2023-09-20\n"
     ]
    }
   ],
   "source": [
    "model = gp.Model('single-period')"
   ]
  },
  {
   "cell_type": "code",
   "execution_count": 3,
   "id": "79e592a0",
   "metadata": {},
   "outputs": [],
   "source": [
    "x1 = model.addVar(vtype=gp.GRB.CONTINUOUS, name='VEG1')\n",
    "x2 = model.addVar(vtype=gp.GRB.CONTINUOUS, name='VEG2')\n",
    "x3 = model.addVar(vtype=gp.GRB.CONTINUOUS, name='OIL1')\n",
    "x4 = model.addVar(vtype=gp.GRB.CONTINUOUS, name='OIL2')\n",
    "x5 = model.addVar(vtype=gp.GRB.CONTINUOUS, name='OIL3')\n",
    "y = model.addVar(vtype=gp.GRB.CONTINUOUS, name='PROD')"
   ]
  },
  {
   "cell_type": "code",
   "execution_count": 4,
   "id": "b774f3de",
   "metadata": {},
   "outputs": [
    {
     "name": "stdout",
     "output_type": "stream",
     "text": [
      "Gurobi Optimizer version 9.5.2 build v9.5.2rc0 (mac64[rosetta2])\n",
      "Thread count: 8 physical cores, 8 logical processors, using up to 8 threads\n",
      "Optimize a model with 5 rows, 6 columns and 23 nonzeros\n",
      "Model fingerprint: 0xb92aa434\n",
      "Coefficient statistics:\n",
      "  Matrix range     [1e+00, 9e+00]\n",
      "  Objective range  [1e+02, 2e+02]\n",
      "  Bounds range     [0e+00, 0e+00]\n",
      "  RHS range        [2e+02, 2e+02]\n",
      "Presolve time: 0.00s\n",
      "Presolved: 5 rows, 6 columns, 23 nonzeros\n",
      "\n",
      "Iteration    Objective       Primal Inf.    Dual Inf.      Time\n",
      "       0    1.5000000e+32   1.375000e+30   1.500000e+02      0s\n",
      "       4    1.7592593e+04   0.000000e+00   0.000000e+00      0s\n",
      "\n",
      "Solved in 4 iterations and 0.01 seconds (0.00 work units)\n",
      "Optimal objective  1.759259259e+04\n",
      "VEG1 : 159.259\n",
      "VEG2 : 40.7407\n",
      "OIL1 : 0\n",
      "OIL2 : 250\n",
      "OIL3 : 0\n",
      "PROD : 450\n",
      "Total Profit : 17592.6\n"
     ]
    }
   ],
   "source": [
    "VEG_CAP = model.addConstr(x1 + x2 <= 200, name='VEG_CAP')\n",
    "OIL_CAP = model.addConstr( x3 + x4 + x5 <= 250, name='OIL_CAP')\n",
    "HRD_L = model.addConstr( 8.8 * x1 + 6.1 * x2 + 2 * x3 + 4.2 * x4 + 5 * x5 >= 3 * y, name='HRD_L')\n",
    "HRD_R = model.addConstr( 8.8 * x1 + 6.1 * x2 + 2 * x3 + 4.2 * x4 + 5 * x5 <= 6 * y, name='HRD_R')\n",
    "CONT = model.addConstr( x1 + x2 + x3 + x4 + x5 - y == 0, name='CONT')\n",
    "\n",
    "model.setObjective( 150 * y - 110 * x1 - 120 * x2 - 130 * x3 - 110 * x4 - 115 * x5, gp.GRB.MAXIMIZE)\n",
    "model.optimize()\n",
    "\n",
    "for v in model.getVars():\n",
    "    print('%s : %g' % (v.varName, v.x))\n",
    "\n",
    "print('Total Profit : %g' % model.objVal)"
   ]
  },
  {
   "cell_type": "code",
   "execution_count": null,
   "id": "53140da2",
   "metadata": {},
   "outputs": [],
   "source": []
  }
 ],
 "metadata": {
  "kernelspec": {
   "display_name": "Python 3",
   "language": "python",
   "name": "python3"
  },
  "language_info": {
   "codemirror_mode": {
    "name": "ipython",
    "version": 3
   },
   "file_extension": ".py",
   "mimetype": "text/x-python",
   "name": "python",
   "nbconvert_exporter": "python",
   "pygments_lexer": "ipython3",
   "version": "3.8.8"
  }
 },
 "nbformat": 4,
 "nbformat_minor": 5
}
