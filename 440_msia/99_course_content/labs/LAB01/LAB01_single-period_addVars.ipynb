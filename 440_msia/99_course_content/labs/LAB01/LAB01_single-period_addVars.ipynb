{
 "cells": [
  {
   "cell_type": "code",
   "execution_count": 1,
   "id": "e5c1690b",
   "metadata": {},
   "outputs": [
    {
     "name": "stdout",
     "output_type": "stream",
     "text": [
      "Set parameter Username\n",
      "Academic license - for non-commercial use only - expires 2023-09-20\n",
      "Gurobi Optimizer version 9.5.2 build v9.5.2rc0 (mac64[rosetta2])\n",
      "Thread count: 8 physical cores, 8 logical processors, using up to 8 threads\n",
      "Optimize a model with 5 rows, 6 columns and 23 nonzeros\n",
      "Model fingerprint: 0xe8c7cc23\n",
      "Coefficient statistics:\n",
      "  Matrix range     [1e+00, 9e+00]\n",
      "  Objective range  [1e+02, 2e+02]\n",
      "  Bounds range     [0e+00, 0e+00]\n",
      "  RHS range        [2e+02, 2e+02]\n",
      "Presolve time: 0.00s\n",
      "Presolved: 5 rows, 6 columns, 23 nonzeros\n",
      "\n",
      "Iteration    Objective       Primal Inf.    Dual Inf.      Time\n",
      "       0    1.5000000e+32   1.375000e+30   1.500000e+02      0s\n",
      "       4    1.7592593e+04   0.000000e+00   0.000000e+00      0s\n",
      "\n",
      "Solved in 4 iterations and 0.00 seconds (0.00 work units)\n",
      "Optimal objective  1.759259259e+04\n"
     ]
    }
   ],
   "source": [
    "import gurobipy as gp\n",
    "\n",
    "model = gp.Model('single-period')\n",
    "p = [110, 120, 130, 110, 115]\n",
    "h = [8.8, 6.1, 2, 4.2, 5]\n",
    "\n",
    "x = model.addVars(5, vtype=gp.GRB.CONTINUOUS, name='RAW')\n",
    "y = model.addVar(vtype=gp.GRB.CONTINUOUS, name='PROD')\n",
    "\n",
    "VEG_CAP = model.addConstr( x[0] + x[1] <= 200, 'VEG_CAP')\n",
    "NON_CAP = model.addConstr( x[2] + x[3] + x[4] <= 250, 'NON_CAP' )\n",
    "HRD_L = model.addConstr( gp.quicksum(h[i] * x[i] for i in range(5)) <= 6 * y, 'HRD_L' )\n",
    "HRD_R = model.addConstr( gp.quicksum(h[i] * x[i] for i in range(5)) >= 3 * y, 'HRD_R')\n",
    "CONT = model.addConstr(gp.quicksum(x[i] for i in range(5)) - y == 0, 'CONT')\n",
    "\n",
    "model.setObjective(-gp.quicksum( p[i] * x[i] for i in range(5)) + 150 * y, gp.GRB.MAXIMIZE )\n",
    "model.optimize()"
   ]
  },
  {
   "cell_type": "code",
   "execution_count": 2,
   "id": "baf027e6",
   "metadata": {},
   "outputs": [
    {
     "name": "stdout",
     "output_type": "stream",
     "text": [
      "RAW[0] : 159.259\n",
      "RAW[1] : 40.7407\n",
      "RAW[2] : 0\n",
      "RAW[3] : 250\n",
      "RAW[4] : 0\n",
      "PROD : 450\n",
      "Total Profit : 17592.6\n"
     ]
    }
   ],
   "source": [
    "for v in model.getVars():\n",
    "    print('%s : %g' % (v.varName, v.x))\n",
    "\n",
    "print('Total Profit : %g' % model.objVal)"
   ]
  },
  {
   "cell_type": "code",
   "execution_count": null,
   "id": "e59930c2",
   "metadata": {},
   "outputs": [],
   "source": []
  }
 ],
 "metadata": {
  "kernelspec": {
   "display_name": "Python 3",
   "language": "python",
   "name": "python3"
  },
  "language_info": {
   "codemirror_mode": {
    "name": "ipython",
    "version": 3
   },
   "file_extension": ".py",
   "mimetype": "text/x-python",
   "name": "python",
   "nbconvert_exporter": "python",
   "pygments_lexer": "ipython3",
   "version": "3.8.8"
  }
 },
 "nbformat": 4,
 "nbformat_minor": 5
}
