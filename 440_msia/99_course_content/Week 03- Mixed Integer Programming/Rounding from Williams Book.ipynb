{
 "cells": [
  {
   "cell_type": "code",
   "execution_count": 5,
   "id": "918eff6b",
   "metadata": {},
   "outputs": [
    {
     "name": "stdout",
     "output_type": "stream",
     "text": [
      "Warning: linear constraint 2 and linear constraint 3 have the same name \"x_is_non_negative\"\n",
      "x : 4\n",
      "y : 4.5\n",
      "Total Made : 8.5\n"
     ]
    }
   ],
   "source": [
    "import gurobipy as gp\n",
    "\n",
    "model = gp.Model('Weird_Rounding_Williams')  #to get strange rounding results for \n",
    "\n",
    "# Create the decision variables\n",
    "x = model.addVar(vtype=gp.GRB.CONTINUOUS, name='x')\n",
    "y = model.addVar(vtype=gp.GRB.CONTINUOUS, name='y')\n",
    "\n",
    "# Create the constraints\n",
    "c1 = model.addConstr(-2*x + 2*y >= 1, 'c1')\n",
    "c2 = model.addConstr(-8*x + 10*y <= 13, 'c2')\n",
    "c3 = model.addConstr(x>=0, 'x_is_non_negative')\n",
    "c4 = model.addConstr(y>=0, 'x_is_non_negative')\n",
    "\n",
    "# Create the objective function\n",
    "model.setObjective(x + y, gp.GRB.MAXIMIZE)\n",
    "\n",
    "# Extra material. You don't need them, but it's nice to know what they do!\n",
    "model.write(model.ModelName + '.lp')\n",
    "model.setParam('OutputFlag', 0)\n",
    "\n",
    "# Solve the model\n",
    "model.optimize()\n",
    "\n",
    "# Check the solution\n",
    "for v in model.getVars():\n",
    "    print('%s : %g' % (v.varName, v.x))\n",
    "\n",
    "print('Total Made : %g' % model.objVal)\n",
    "\n"
   ]
  },
  {
   "cell_type": "code",
   "execution_count": 6,
   "id": "23dfaf22",
   "metadata": {},
   "outputs": [
    {
     "name": "stdout",
     "output_type": "stream",
     "text": [
      "Warning: linear constraint 2 and linear constraint 3 have the same name \"x_is_non_negative\"\n",
      "x : 1\n",
      "y : 2\n",
      "Total Made : 3\n"
     ]
    }
   ],
   "source": [
    "import gurobipy as gp\n",
    "\n",
    "model = gp.Model('Weird_Rounding_Williams')  #to get strange rounding results for \n",
    "\n",
    "# Create the decision variables\n",
    "x = model.addVar(vtype=gp.GRB.INTEGER, name='x')\n",
    "y = model.addVar(vtype=gp.GRB.INTEGER, name='y')\n",
    "\n",
    "# Create the constraints\n",
    "c1 = model.addConstr(-2*x + 2*y >= 1, 'c1')\n",
    "c2 = model.addConstr(-8*x + 10*y <= 13, 'c2')\n",
    "c3 = model.addConstr(x>=0, 'x_is_non_negative')\n",
    "c4 = model.addConstr(y>=0, 'x_is_non_negative')\n",
    "\n",
    "# Create the objective function\n",
    "model.setObjective(x + y, gp.GRB.MAXIMIZE)\n",
    "\n",
    "# Extra material. You don't need them, but it's nice to know what they do!\n",
    "model.write(model.ModelName + '.lp')\n",
    "model.setParam('OutputFlag', 0)\n",
    "\n",
    "# Solve the model\n",
    "model.optimize()\n",
    "\n",
    "# Check the solution\n",
    "for v in model.getVars():\n",
    "    print('%s : %g' % (v.varName, v.x))\n",
    "\n",
    "print('Total Made : %g' % model.objVal)\n",
    "\n"
   ]
  },
  {
   "cell_type": "code",
   "execution_count": null,
   "id": "1cc1b3fd",
   "metadata": {},
   "outputs": [],
   "source": []
  }
 ],
 "metadata": {
  "kernelspec": {
   "display_name": "Python 3",
   "language": "python",
   "name": "python3"
  },
  "language_info": {
   "codemirror_mode": {
    "name": "ipython",
    "version": 3
   },
   "file_extension": ".py",
   "mimetype": "text/x-python",
   "name": "python",
   "nbconvert_exporter": "python",
   "pygments_lexer": "ipython3",
   "version": "3.8.8"
  }
 },
 "nbformat": 4,
 "nbformat_minor": 5
}
