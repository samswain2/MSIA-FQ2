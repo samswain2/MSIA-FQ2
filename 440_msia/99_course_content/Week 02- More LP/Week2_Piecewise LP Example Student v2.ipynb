{
 "cells": [
  {
   "cell_type": "code",
   "execution_count": null,
   "metadata": {},
   "outputs": [],
   "source": [
    "import pulp\n",
    "\n",
    "def steel_slab_pulp():\n",
    "    model = pulp.LpProblem(\"Steel_Slabs\", pulp.LpMaximize)\n",
    "\n",
    "    # Define the variables\n",
    "    slabs_group1 = pulp.LpVariable(name=\"Slabs1\", lowBound=0, cat=pulp.LpContinuous)\n",
    "    slabs_group2 = pulp.LpVariable(name=\"Slabs2\", lowBound=0, cat=pulp.LpContinuous)\n",
    "    slabs_group3 = pulp.LpVariable(name=\"Slabs3\", lowBound=0, cat=pulp.LpContinuous)        \n",
    "\n",
    "    # The three constraints are entered for the segments\n",
    "\n",
    "    # the budget constraint\n",
    "    \n",
    "    # Objective function\n",
    "\n",
    "    model.writeLP(model.name + '.lp')\n",
    "    model.solve()\n",
    "    print(\"Status:\", pulp.LpStatus[model.status])\n",
    "    for v in model.variables():\n",
    "        print(v.name, \"=\", v.varValue)\n",
    "    print(\"Total Profit of Plan = \", pulp.value(model.objective))\n",
    "#     # If you need extra info such as the slack variables of each constraint\n",
    "#     for name, constraint in model.constraints.items():\n",
    "#         print(name, \"Remaining Slack \", constraint.slack)"
   ]
  },
  {
   "cell_type": "code",
   "execution_count": null,
   "metadata": {},
   "outputs": [],
   "source": [
    "import gurobipy as gp\n",
    "\n",
    "def steel_slab_gurobi():\n",
    "    model = gp.Model('Steel_Slabs')\n",
    "\n",
    "    # Define the variables\n",
    "    slabs_group1 = model.addVar(vtype=gp.GRB.CONTINUOUS, name='Slabs1')\n",
    "    slabs_group2 = model.addVar(vtype=gp.GRB.CONTINUOUS, name='Slabs2')\n",
    "    slabs_group3 = model.addVar(vtype=gp.GRB.CONTINUOUS, name='Slabs3')\n",
    "\n",
    "    # The three constraints are entered for the segments\n",
    "\n",
    "\n",
    "    # the budget constraint\n",
    "    \n",
    "    # Objective function\n",
    "\n",
    "\n",
    "    model.write(model.ModelName + '.lp')\n",
    "    model.optimize()\n",
    "    print(\"Status:\", model.status)\n",
    "    for v in model.getVars():\n",
    "        print(v.varName, \"=\", v.x)\n",
    "    print(\"Total Profit of Plan = \", model.objVal)\n",
    "#     # If you need extra info such as the slack variables of each constraint\n",
    "#     for constraint in model.getConstrs():\n",
    "#         print(constraint.ConstrName, \"Remaining Slack \", constraint.Slack)"
   ]
  },
  {
   "cell_type": "code",
   "execution_count": null,
   "metadata": {},
   "outputs": [],
   "source": [
    "if __name__ == '__main__':\n",
    "    # This is a simple LP for a piecewise equation\n",
    "\n",
    "    # Define the parameters\n",
    "    revenue_per_slab = 5.5\n",
    "    budget = 3000\n",
    "    group1_limit = 120\n",
    "    group2_limit = 250\n",
    "    group3_limit = 99999\n",
    "\n",
    "    group1_costs = 3\n",
    "    group2_costs = 4\n",
    "    group3_costs = 5\n",
    "#     group1_costs = 5\n",
    "#     group2_costs = 4\n",
    "#     group3_costs = 3\n",
    "    \n",
    "#     steel_slab_pulp()\n",
    "#     steel_slab_gurobi()"
   ]
  },
  {
   "cell_type": "code",
   "execution_count": null,
   "metadata": {},
   "outputs": [],
   "source": []
  }
 ],
 "metadata": {
  "kernelspec": {
   "display_name": "Python 3",
   "language": "python",
   "name": "python3"
  },
  "language_info": {
   "codemirror_mode": {
    "name": "ipython",
    "version": 3
   },
   "file_extension": ".py",
   "mimetype": "text/x-python",
   "name": "python",
   "nbconvert_exporter": "python",
   "pygments_lexer": "ipython3",
   "version": "3.8.8"
  },
  "varInspector": {
   "cols": {
    "lenName": 16,
    "lenType": 16,
    "lenVar": 40
   },
   "kernels_config": {
    "python": {
     "delete_cmd_postfix": "",
     "delete_cmd_prefix": "del ",
     "library": "var_list.py",
     "varRefreshCmd": "print(var_dic_list())"
    },
    "r": {
     "delete_cmd_postfix": ") ",
     "delete_cmd_prefix": "rm(",
     "library": "var_list.r",
     "varRefreshCmd": "cat(var_dic_list()) "
    }
   },
   "types_to_exclude": [
    "module",
    "function",
    "builtin_function_or_method",
    "instance",
    "_Feature"
   ],
   "window_display": false
  }
 },
 "nbformat": 4,
 "nbformat_minor": 2
}
