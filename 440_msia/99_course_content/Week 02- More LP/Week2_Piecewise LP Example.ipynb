{
 "cells": [
  {
   "cell_type": "code",
   "execution_count": 1,
   "metadata": {
    "ExecuteTime": {
     "end_time": "2023-09-27T21:06:29.619107Z",
     "start_time": "2023-09-27T21:06:29.268785Z"
    }
   },
   "outputs": [],
   "source": [
    "import pulp\n",
    "\n",
    "def steel_slab_pulp():\n",
    "    model = pulp.LpProblem(\"Steel_Slabs\", pulp.LpMaximize)\n",
    "\n",
    "    # Define the variables\n",
    "    slabs_group1 = pulp.LpVariable(name=\"Slabs1\", lowBound=0, cat=pulp.LpContinuous)\n",
    "    slabs_group2 = pulp.LpVariable(name=\"Slabs2\", lowBound=0, cat=pulp.LpContinuous)\n",
    "    slabs_group3 = pulp.LpVariable(name=\"Slabs3\", lowBound=0, cat=pulp.LpContinuous)\n",
    "\n",
    "    # The three constraints are entered for the segments\n",
    "    model += slabs_group1 <= group1_limit, \"Group1\"\n",
    "    model += slabs_group2 <= (group2_limit - group1_limit), \"Group2\"\n",
    "    model += slabs_group3 <= (group3_limit - group2_limit), \"Group3\"\n",
    "    # # Alternatively, you can write each of the constraints above using pulp's object-oriented (OO)\n",
    "    # # version and that way, see the similarity with gurobi. I do the first one\n",
    "    # model.addConstraint(pulp.LpConstraint(e=slabs_group1, sense=pulp.LpConstraintLE, rhs=group1_limit, name='Group 1'))\n",
    "\n",
    "    # the budget constraint\n",
    "    budget_constr = group1_costs * slabs_group1 + group2_costs * slabs_group2 + group3_costs * slabs_group3\n",
    "    model += budget_constr <= budget, \"Budget\"\n",
    "\n",
    "    # Objective function\n",
    "    total_revenue = revenue_per_slab * (slabs_group1 + slabs_group2 + slabs_group3)\n",
    "    total_cost = group1_costs * slabs_group1 + group2_costs * slabs_group2 + group3_costs * slabs_group3\n",
    "    # if you pay attention, you see that total_cost expression is the same as budget_constr. \n",
    "    # That means you could use that instead. i.e. you can say: \n",
    "    # total_profit = total_revenue - budget_constr\n",
    "    total_profit = total_revenue - total_cost\n",
    "    model.setObjective(total_profit)    \n",
    "    model.writeLP(model.name + '.lp')\n",
    "    \n",
    "    # Extra: we can pass some parameters to solve() and control the outputs\n",
    "    # model.solve()  # So rather than this one, we can do the following\n",
    "    _solver = pulp.PULP_CBC_CMD(msg=False)\n",
    "    model.solve(solver=_solver)\n",
    "\n",
    "    print(\"Status:\", pulp.LpStatus[model.status])\n",
    "    for v in model.variables():\n",
    "        print(v.name, \"=\", v.varValue)\n",
    "    print(\"Total Profit of Plan = \", pulp.value(model.objective))\n",
    "#     # If you need extra info such as the slack variables of each constraint\n",
    "#     for name, constraint in model.constraints.items():\n",
    "#         print(name, \"Remaining Slack \", constraint.slack)"
   ]
  },
  {
   "cell_type": "code",
   "execution_count": 2,
   "metadata": {
    "ExecuteTime": {
     "end_time": "2023-09-27T21:06:30.067350Z",
     "start_time": "2023-09-27T21:06:30.032651Z"
    }
   },
   "outputs": [],
   "source": [
    "import gurobipy as gp\n",
    "\n",
    "def steel_slab_gurobi():\n",
    "    model = gp.Model('Steel_Slabs')\n",
    "\n",
    "    # Define the variables\n",
    "    slabs_group1 = model.addVar(vtype=gp.GRB.CONTINUOUS, name='Slabs1')\n",
    "    slabs_group2 = model.addVar(vtype=gp.GRB.CONTINUOUS, name='Slabs2')\n",
    "    slabs_group3 = model.addVar(vtype=gp.GRB.CONTINUOUS, name='Slabs3')\n",
    "\n",
    "    # The three constraints are entered for the segments\n",
    "    model.addConstr(slabs_group1 <= group1_limit, \"Group1\")\n",
    "    model.addConstr(slabs_group2 <= (group2_limit - group1_limit), \"Group2\")\n",
    "    model.addConstr(slabs_group3 <= (group3_limit - group2_limit), \"Group3\")\n",
    "    # # Alternatively you can write each of the constraints above in the following way\n",
    "    # # to see their similarity with the object-oriented (OO) version of pulp. I do the first one.\n",
    "    # model.addConstr(lhs=slabs_group1, sense=gp.GRB.LESS_EQUAL, rhs=group1_limit, name=\"Group 1\")\n",
    "\n",
    "    # the budget constraint\n",
    "    budget_constr = group1_costs * slabs_group1 + group2_costs * slabs_group2 + group3_costs * slabs_group3\n",
    "    model.addConstr(budget_constr <= budget, \"Budget\")    \n",
    "    \n",
    "    # Objective function\n",
    "    total_revenue = revenue_per_slab * (slabs_group1 + slabs_group2 + slabs_group3)\n",
    "    total_cost = group1_costs * slabs_group1 + group2_costs * slabs_group2 + group3_costs * slabs_group3\n",
    "    # if you pay attention, you see that total_cost expression is the same as budget_constr. \n",
    "    # That means you could use that instead. i.e. you can say: \n",
    "    # total_profit = total_revenue - budget_constr\n",
    "    total_profit = total_revenue - total_cost\n",
    "    model.setObjective(total_profit, gp.GRB.MAXIMIZE)\n",
    "    model.write(model.ModelName + '.lp')\n",
    "    \n",
    "    # model.setParam('OutputFlag', 0)\n",
    "    model.optimize()\n",
    "    print(\"Status:\", model.status)\n",
    "    for v in model.getVars():\n",
    "        print(v.varName, \"=\", v.x)\n",
    "    print(\"Total Profit of Plan = \", model.objVal)\n",
    "#     # If you need extra info such as the slack variables of each constraint\n",
    "#     for constraint in model.getConstrs():\n",
    "#         print(constraint.ConstrName, \"Remaining Slack \", constraint.Slack)"
   ]
  },
  {
   "cell_type": "code",
   "execution_count": 4,
   "metadata": {
    "ExecuteTime": {
     "end_time": "2023-09-27T21:23:07.072750Z",
     "start_time": "2023-09-27T21:23:07.012719Z"
    }
   },
   "outputs": [
    {
     "name": "stdout",
     "output_type": "stream",
     "text": [
      "Gurobi Optimizer version 10.0.2 build v10.0.2rc0 (win64)\n",
      "\n",
      "CPU model: 11th Gen Intel(R) Core(TM) i7-1185G7 @ 3.00GHz, instruction set [SSE2|AVX|AVX2|AVX512]\n",
      "Thread count: 4 physical cores, 8 logical processors, using up to 8 threads\n",
      "\n",
      "Optimize a model with 4 rows, 3 columns and 6 nonzeros\n",
      "Model fingerprint: 0xbce8ae70\n",
      "Coefficient statistics:\n",
      "  Matrix range     [1e+00, 5e+00]\n",
      "  Objective range  [5e-01, 3e+00]\n",
      "  Bounds range     [0e+00, 0e+00]\n",
      "  RHS range        [1e+02, 1e+05]\n",
      "Presolve removed 4 rows and 3 columns\n",
      "Presolve time: 0.01s\n",
      "Presolve: All rows and columns removed\n",
      "Iteration    Objective       Primal Inf.    Dual Inf.      Time\n",
      "       0    2.5000000e+03   0.000000e+00   0.000000e+00      0s\n",
      "\n",
      "Solved in 0 iterations and 0.02 seconds (0.00 work units)\n",
      "Optimal objective  2.500000000e+03\n",
      "Status: 2\n",
      "Slabs1 = 0.0\n",
      "Slabs2 = 0.0\n",
      "Slabs3 = 1000.0\n",
      "Total Profit of Plan =  2500.0\n"
     ]
    }
   ],
   "source": [
    "if __name__ == '__main__':\n",
    "    # This is a simple LP for a piecewise equation\n",
    "\n",
    "    # Define the parameters\n",
    "    revenue_per_slab = 5.5\n",
    "    budget = 3000\n",
    "    group1_limit = 120\n",
    "    group2_limit = 250\n",
    "    group3_limit = 99999\n",
    "\n",
    "    group1_costs = 3\n",
    "    group2_costs = 4\n",
    "    group3_costs = 5\n",
    "#     group1_costs = 5\n",
    "#     group2_costs = 4\n",
    "#     group3_costs = 3\n",
    "    \n",
    "#     steel_slab_pulp()\n",
    "    steel_slab_gurobi()"
   ]
  },
  {
   "cell_type": "code",
   "execution_count": null,
   "metadata": {},
   "outputs": [],
   "source": []
  }
 ],
 "metadata": {
  "kernelspec": {
   "display_name": "Python 3 (ipykernel)",
   "language": "python",
   "name": "python3"
  },
  "language_info": {
   "codemirror_mode": {
    "name": "ipython",
    "version": 3
   },
   "file_extension": ".py",
   "mimetype": "text/x-python",
   "name": "python",
   "nbconvert_exporter": "python",
   "pygments_lexer": "ipython3",
   "version": "3.9.16"
  },
  "varInspector": {
   "cols": {
    "lenName": 16,
    "lenType": 16,
    "lenVar": 40
   },
   "kernels_config": {
    "python": {
     "delete_cmd_postfix": "",
     "delete_cmd_prefix": "del ",
     "library": "var_list.py",
     "varRefreshCmd": "print(var_dic_list())"
    },
    "r": {
     "delete_cmd_postfix": ") ",
     "delete_cmd_prefix": "rm(",
     "library": "var_list.r",
     "varRefreshCmd": "cat(var_dic_list()) "
    }
   },
   "types_to_exclude": [
    "module",
    "function",
    "builtin_function_or_method",
    "instance",
    "_Feature"
   ],
   "window_display": false
  }
 },
 "nbformat": 4,
 "nbformat_minor": 2
}
