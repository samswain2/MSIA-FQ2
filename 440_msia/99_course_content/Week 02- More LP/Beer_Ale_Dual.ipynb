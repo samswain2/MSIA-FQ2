{
 "cells": [
  {
   "cell_type": "code",
   "execution_count": 5,
   "metadata": {},
   "outputs": [
    {
     "name": "stdout",
     "output_type": "stream",
     "text": [
      "Status: Optimal\n",
      "Ale = 12.0\n",
      "Beer = 28.0\n",
      "Total Revenue of Plan =  800.0\n",
      "Corn Remaining Slack  0.0\n",
      "Corn Original RHS Value  -480\n",
      "Corn Shadow Price  1.0\n",
      "Hops Remaining Slack  0.0\n",
      "Hops Original RHS Value  -160\n",
      "Hops Shadow Price  2.0\n",
      "Malt Remaining Slack  -210.0\n",
      "Malt Original RHS Value  -1190\n",
      "Malt Shadow Price  -0.0\n"
     ]
    }
   ],
   "source": [
    "#This is the original problem\n",
    "from pulp import *\n",
    "\n",
    "# Create the 'prob' variable to contain the problem data\n",
    "prob = LpProblem(\"Beer and Ale\",LpMaximize)\n",
    "\n",
    "# The 2 variables Ale and Beer are created with a lower limit of 0\n",
    "A=LpVariable(\"Ale\",0,None,LpContinuous)\n",
    "B=LpVariable(\"Beer\",0,None, LpContinuous)\n",
    "\n",
    "# The objective function is added to 'prob' first\n",
    "prob += 13*A + 23*B, \"Total Revenue of Production Plan\"\n",
    "\n",
    "# The three constraints are entered\n",
    "prob += 5*A + 15*B <= 480, \"Corn\"\n",
    "prob += 4*A + 4*B <= 160, \"Hops\"\n",
    "prob += 35*A + 20*B <= 1190, \"Malt\"\n",
    "\n",
    "# The problem data is written to an .lp file\n",
    "prob.writeLP(\"BeerAle.lp\")\n",
    "\n",
    "# The problem is solved using PuLP's choice of Solver\n",
    "prob.solve()\n",
    "\n",
    "# The status of the solution is printed to the screen\n",
    "print(\"Status:\", LpStatus[prob.status])\n",
    "\n",
    "# Each of the variables is printed with it's resolved optimum value\n",
    "for v in prob.variables():\n",
    "    print(v.name, \"=\", v.varValue)\n",
    "    \n",
    "# The optimised objective function value is printed to the screen\n",
    "print(\"Total Revenue of Plan = \", value(prob.objective))\n",
    "\n",
    "# Each of the constraints is printed with it's LHS value\n",
    "#for c in prob.Constraints():\n",
    "#    print(c.name, \"=\", c.conValue)\n",
    "\n",
    "for constraint in prob.constraints:\n",
    "        # print(prob.constraints[constraint].name, prob.constraints[constraint].value() - prob.constraints[constraint].constant)\n",
    "        print(prob.constraints[constraint].name, \"Remaining Slack \", prob.constraints[constraint].value())\n",
    "        print(prob.constraints[constraint].name, \"Original RHS Value \", prob.constraints[constraint].constant)\n",
    "        print(prob.constraints[constraint].name, \"Shadow Price \", prob.constraints[constraint].pi)\n",
    "\n"
   ]
  },
  {
   "cell_type": "code",
   "execution_count": 2,
   "metadata": {},
   "outputs": [
    {
     "name": "stdout",
     "output_type": "stream",
     "text": [
      "Status: Optimal\n",
      "Corn = 1.0\n",
      "Hops = 2.0\n",
      "Malt = 0.0\n",
      "Total Dual of Plan =  800.0\n",
      "Ale 0.0\n",
      "Ale -13\n",
      "Ale Shadow Price  12.0\n",
      "Beer 0.0\n",
      "Beer -23\n",
      "Beer Shadow Price  28.0\n"
     ]
    }
   ],
   "source": [
    "from pulp import *\n",
    "\n",
    "# Create the 'prob' variable to contain the problem data\n",
    "prob = LpProblem(\"Beer and Ale Dual\",LpMinimize)\n",
    "\n",
    "# The 2 variables Ale and Beer are created with a lower limit of 0\n",
    "C=LpVariable(\"Corn\",0,None,LpContinuous)\n",
    "H=LpVariable(\"Hops\",0,None,LpContinuous)\n",
    "M=LpVariable(\"Malt\",0,None,LpContinuous)\n",
    "\n",
    "# The objective function is added to 'prob' first\n",
    "prob += 480*C + 160*H + 1190*M,\"Dual Objective Equation\"\n",
    "\n",
    "# The two constraints are entered\n",
    "prob += 5*C + 4*H + 35*M >= 13, \"Ale\"\n",
    "prob += 15*C + 4*H + 20*M >= 23, \"Beer\"\n",
    "\n",
    "\n",
    "# The problem data is written to an .lp file\n",
    "prob.writeLP(\"BeerAleDual.lp\")\n",
    "\n",
    "# The problem is solved using PuLP's choice of Solver\n",
    "prob.solve()\n",
    "\n",
    "# The status of the solution is printed to the screen\n",
    "print(\"Status:\", LpStatus[prob.status])\n",
    "\n",
    "# Each of the variables is printed with it's resolved optimum value\n",
    "for v in prob.variables():\n",
    "    print(v.name, \"=\", v.varValue)\n",
    "    \n",
    "# The optimised objective function value is printed to the screen\n",
    "print(\"Total Dual of Plan = \", value(prob.objective))\n",
    "\n",
    "# Each of the constraints is printed with it's LHS value\n",
    "#for c in prob.Constraints():\n",
    "#    print(c.name, \"=\", c.conValue)\n",
    "\n",
    "for constraint in prob.constraints:\n",
    "        # print(prob.constraints[constraint].name, prob.constraints[constraint].value() - prob.constraints[constraint].constant)\n",
    "        print(prob.constraints[constraint].name, prob.constraints[constraint].value())\n",
    "        print(prob.constraints[constraint].name, prob.constraints[constraint].constant)\n",
    "        print(prob.constraints[constraint].name, \"Shadow Price \", prob.constraints[constraint].pi)\n",
    "\n"
   ]
  },
  {
   "cell_type": "code",
   "execution_count": null,
   "metadata": {
    "collapsed": true
   },
   "outputs": [],
   "source": []
  }
 ],
 "metadata": {
  "kernelspec": {
   "display_name": "Python 3",
   "language": "python",
   "name": "python3"
  },
  "language_info": {
   "codemirror_mode": {
    "name": "ipython",
    "version": 3
   },
   "file_extension": ".py",
   "mimetype": "text/x-python",
   "name": "python",
   "nbconvert_exporter": "python",
   "pygments_lexer": "ipython3",
   "version": "3.8.8"
  }
 },
 "nbformat": 4,
 "nbformat_minor": 2
}
