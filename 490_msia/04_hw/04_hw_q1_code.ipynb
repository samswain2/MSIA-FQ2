{
 "cells": [
  {
   "cell_type": "code",
   "execution_count": 1,
   "metadata": {},
   "outputs": [
    {
     "name": "stdout",
     "output_type": "stream",
     "text": [
      "PyTorch version: 2.1.1+cu121\n",
      "Number of GPUs available: 2\n",
      "NVIDIA GeForce RTX 3080\n",
      "NVIDIA GeForce RTX 3080\n"
     ]
    }
   ],
   "source": [
    "import torch\n",
    "\n",
    "print(\"PyTorch version:\", torch.__version__)\n",
    "if torch.cuda.is_available():\n",
    "    print(f\"Number of GPUs available: {torch.cuda.device_count()}\")\n",
    "    for i in range(torch.cuda.device_count()):\n",
    "        print(torch.cuda.get_device_name(i))\n",
    "else:\n",
    "    print(\"No GPUs found, using CPU instead.\")"
   ]
  },
  {
   "cell_type": "code",
   "execution_count": 2,
   "metadata": {},
   "outputs": [],
   "source": [
    "import torch\n",
    "import torch.nn as nn\n",
    "import torch.nn.functional as F\n",
    "\n",
    "class TwoLayerNet(nn.Module):\n",
    "    def __init__(self, input_size, hidden_size, num_classes):\n",
    "        super(TwoLayerNet, self).__init__()\n",
    "        self.fc1 = nn.Linear(input_size, hidden_size)\n",
    "        self.fc2 = nn.Linear(hidden_size, num_classes)\n",
    "\n",
    "    def forward(self, x, activation_func=F.relu):\n",
    "        out = activation_func(self.fc1(x))\n",
    "        out = self.fc2(out)\n",
    "        return out"
   ]
  },
  {
   "cell_type": "code",
   "execution_count": 4,
   "metadata": {},
   "outputs": [],
   "source": [
    "import numpy as np\n",
    "from sklearn.model_selection import train_test_split\n",
    "\n",
    "# Load the data\n",
    "X_train = np.load('./04_hw_data/train_X.npy')\n",
    "y_train = np.load('./04_hw_data/train_y.npy')\n",
    "X_test = np.load('./04_hw_data/test_X.npy')\n",
    "y_test = np.load('./04_hw_data/test_y.npy')\n",
    "\n",
    "# Split the training data into training and validation sets\n",
    "X_train, X_val, y_train, y_val = train_test_split(X_train, y_train, test_size=0.2)"
   ]
  },
  {
   "cell_type": "code",
   "execution_count": null,
   "metadata": {},
   "outputs": [],
   "source": [
    "def select_parents(population):\n",
    "    # Implement roulette rule selection\n",
    "    pass\n",
    "\n",
    "def crossover(parent1, parent2):\n",
    "    # Implement one-point crossover\n",
    "    pass\n",
    "\n",
    "def mutate(child):\n",
    "    # Implement mutation logic\n",
    "    pass\n",
    "\n",
    "# Main loop for the genetic algorithm\n",
    "for generation in range(num_generations):\n",
    "    # Selection, crossover, and mutation steps\n",
    "    pass"
   ]
  },
  {
   "cell_type": "code",
   "execution_count": null,
   "metadata": {},
   "outputs": [],
   "source": [
    "from bayes_opt import BayesianOptimization\n",
    "\n",
    "def black_box_function(batch_size, activation):\n",
    "    # Define the function that returns the validation F1 score\n",
    "    pass\n",
    "\n",
    "# Bounded region of parameter space\n",
    "pbounds = {'batch_size': (16, 1024), 'activation': (0, 2)}  # Map activations to numbers\n",
    "\n",
    "optimizer = BayesianOptimization(f=black_box_function, pbounds=pbounds)\n",
    "optimizer.maximize()"
   ]
  },
  {
   "cell_type": "code",
   "execution_count": null,
   "metadata": {},
   "outputs": [],
   "source": [
    "# Example training loop\n",
    "for epoch in range(num_epochs):\n",
    "    # Train the model\n",
    "    pass\n",
    "\n",
    "# Evaluate the model\n",
    "# Calculate F1 score on the test set"
   ]
  }
 ],
 "metadata": {
  "kernelspec": {
   "display_name": ".venv",
   "language": "python",
   "name": "python3"
  },
  "language_info": {
   "codemirror_mode": {
    "name": "ipython",
    "version": 3
   },
   "file_extension": ".py",
   "mimetype": "text/x-python",
   "name": "python",
   "nbconvert_exporter": "python",
   "pygments_lexer": "ipython3",
   "version": "3.10.12"
  }
 },
 "nbformat": 4,
 "nbformat_minor": 2
}
