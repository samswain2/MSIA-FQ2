{
 "cells": [
  {
   "cell_type": "markdown",
   "metadata": {},
   "source": [
    "## Question 1"
   ]
  },
  {
   "cell_type": "code",
   "execution_count": 1,
   "metadata": {},
   "outputs": [],
   "source": [
    "import math\n",
    "\n",
    "def solution(area):\n",
    "    # Your code here\n",
    "\n",
    "    solar_arrays = []\n",
    "\n",
    "    while area > 0:\n",
    "        closest_smaller_sqrt = math.floor(math.sqrt(area))**2\n",
    "        area = area - closest_smaller_sqrt\n",
    "        solar_arrays.append(closest_smaller_sqrt)\n",
    "\n",
    "    return solar_arrays"
   ]
  },
  {
   "cell_type": "code",
   "execution_count": 2,
   "metadata": {},
   "outputs": [
    {
     "data": {
      "text/plain": [
       "[15129, 169, 25, 1]"
      ]
     },
     "execution_count": 2,
     "metadata": {},
     "output_type": "execute_result"
    }
   ],
   "source": [
    "solution(15324)"
   ]
  },
  {
   "cell_type": "markdown",
   "metadata": {},
   "source": [
    "## Question 2"
   ]
  },
  {
   "cell_type": "code",
   "execution_count": 3,
   "metadata": {},
   "outputs": [],
   "source": [
    "def salute_counter(s):\n",
    "\n",
    "    left_counter = 0\n",
    "    salutes = 0\n",
    "\n",
    "    s = s.replace(\"-\", \"\")\n",
    "\n",
    "    for minion in s:\n",
    "        if minion == \">\":\n",
    "            left_counter += 1\n",
    "\n",
    "        if minion == \"<\":\n",
    "            salutes += left_counter * 2\n",
    "\n",
    "    return salutes"
   ]
  },
  {
   "cell_type": "code",
   "execution_count": 4,
   "metadata": {},
   "outputs": [
    {
     "data": {
      "text/plain": [
       "4"
      ]
     },
     "execution_count": 4,
     "metadata": {},
     "output_type": "execute_result"
    }
   ],
   "source": [
    "salute_counter(\"<<>><\")"
   ]
  },
  {
   "cell_type": "code",
   "execution_count": 44,
   "metadata": {},
   "outputs": [],
   "source": [
    "def chess_puzzle(start, dest):\n",
    "\n",
    "    board = [[row + col  * 8 for row in range(8)] for col in range(8)]\n",
    "    moves = [(-2, -1), (-2, 1), (-1, -2), (-1, 2), (1, -2), (1, 2), (2, -1), (2, 1)]\n",
    "    positions = {col : (row_idx, col_idx) for row_idx, row in enumerate(board) for col_idx, col in enumerate(row)}\n",
    "    explored_positions = {}\n",
    "    \n",
    "    def get_next_positions(board, moves, position):\n",
    "\n",
    "        next_positions = []\n",
    "        current_coords = positions[position]\n",
    "\n",
    "        if position in explored_positions:\n",
    "            return explored_positions[position]\n",
    "\n",
    "        for move in moves:\n",
    "            \n",
    "            # Check if moves are valid\n",
    "            change_row, change_col = current_coords[0] + move[0], current_coords[1] + move[1]\n",
    "            \n",
    "\n",
    "            if change_row not in range(8) or change_col not in range(8):\n",
    "                continue\n",
    "\n",
    "            # print(change_row, change_col)\n",
    "\n",
    "            next_value = board[current_coords[0] + move[0]][current_coords[1] + move[1]]\n",
    "            next_positions.append(next_value)\n",
    "\n",
    "        explored_positions[position] = next_positions\n",
    "\n",
    "        return next_positions\n",
    "\n",
    "    visited = set()\n",
    "    move_counter = -1\n",
    "    next_positions = [start]\n",
    "    \n",
    "    while dest not in visited:\n",
    "\n",
    "        move_counter += 1\n",
    "\n",
    "        next_check = []\n",
    "\n",
    "        ### Input starting value CHECK\n",
    "\n",
    "        ### Iterate through list of values to explore positions of CHECK\n",
    "        for pos in next_positions:\n",
    "            next_check = next_check + get_next_positions(board, moves, pos)\n",
    "        \n",
    "        ### Update visited CHECK\n",
    "        visited.update(next_positions)\n",
    "\n",
    "        ### Get next positions to check CHECK\n",
    "        next_positions = list(set(next_check) - visited)\n",
    "\n",
    "    return move_counter"
   ]
  },
  {
   "cell_type": "code",
   "execution_count": 48,
   "metadata": {},
   "outputs": [
    {
     "data": {
      "text/plain": [
       "6"
      ]
     },
     "execution_count": 48,
     "metadata": {},
     "output_type": "execute_result"
    }
   ],
   "source": [
    "chess_puzzle(0, 63)"
   ]
  },
  {
   "cell_type": "code",
   "execution_count": 2,
   "metadata": {},
   "outputs": [],
   "source": [
    "def solution():\n",
    "\n",
    "    return 1"
   ]
  },
  {
   "cell_type": "code",
   "execution_count": 3,
   "metadata": {},
   "outputs": [
    {
     "data": {
      "text/plain": [
       "1"
      ]
     },
     "execution_count": 3,
     "metadata": {},
     "output_type": "execute_result"
    }
   ],
   "source": [
    "solution()"
   ]
  }
 ],
 "metadata": {
  "kernelspec": {
   "display_name": ".venv",
   "language": "python",
   "name": "python3"
  },
  "language_info": {
   "codemirror_mode": {
    "name": "ipython",
    "version": 3
   },
   "file_extension": ".py",
   "mimetype": "text/x-python",
   "name": "python",
   "nbconvert_exporter": "python",
   "pygments_lexer": "ipython3",
   "version": "3.10.7"
  }
 },
 "nbformat": 4,
 "nbformat_minor": 2
}
