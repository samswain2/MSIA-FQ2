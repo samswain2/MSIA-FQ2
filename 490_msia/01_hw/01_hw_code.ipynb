{
 "cells": [
  {
   "cell_type": "code",
   "execution_count": 1,
   "metadata": {},
   "outputs": [
    {
     "name": "stdout",
     "output_type": "stream",
     "text": [
      "GPU is available\n",
      "GPU device: PhysicalDevice(name='/physical_device:GPU:0', device_type='GPU')\n"
     ]
    }
   ],
   "source": [
    "import gym\n",
    "import warnings\n",
    "import numpy as np\n",
    "import matplotlib.pyplot as plt\n",
    "from IPython.display import clear_output\n",
    "\n",
    "# Suppress DeprecationWarnings\n",
    "warnings.filterwarnings(\"ignore\", category=DeprecationWarning)\n",
    "\n",
    "import tensorflow as tf\n",
    "\n",
    "# List all GPUs available to TensorFlow\n",
    "gpus = tf.config.list_physical_devices('GPU')\n",
    "\n",
    "# Check if any GPUs are available\n",
    "if len(gpus) > 0:\n",
    "    print(\"GPU is available\")\n",
    "    for gpu in gpus:\n",
    "        print(f\"GPU device: {gpu}\")\n",
    "else:\n",
    "    print(\"GPU is not available\")"
   ]
  },
  {
   "cell_type": "code",
   "execution_count": 2,
   "metadata": {},
   "outputs": [
    {
     "name": "stderr",
     "output_type": "stream",
     "text": [
      "c:\\Users\\nuke2\\Desktop\\NW Work\\Fall_02 Work\\MSIA-FQ2\\.venv\\lib\\site-packages\\gym\\envs\\registration.py:555: UserWarning: \u001b[33mWARN: The environment CartPole-v0 is out of date. You should consider upgrading to version `v1`.\u001b[0m\n",
      "  logger.warn(\n"
     ]
    }
   ],
   "source": [
    "# Question 1: Cartpole-v1\n",
    "env = gym.make(\n",
    "    \"CartPole-v0\",\n",
    "    # render_mode=\"human\"\n",
    "    )\n",
    "\n",
    "optimizer = tf.keras.optimizers.Adam(learning_rate=0.001)\n",
    "\n",
    "\n",
    "def CartPole_RL(model, discount_factor=0.95, num_choices=2):\n",
    "    \n",
    "    # Save rewards for visualization later\n",
    "    episode_rewards = []\n",
    "\n",
    "    for episode in range(1000):\n",
    "        # print(f\"CartPole-v0, episode {episode}\")\n",
    "        # Initiate one episode\n",
    "        observation, info = env.reset()\n",
    "\n",
    "        obs_history = []\n",
    "        reward_history = []\n",
    "        action_history = []\n",
    "\n",
    "        terminated = False\n",
    "        truncated = False\n",
    "\n",
    "\n",
    "\n",
    "        # Roll out one episode\n",
    "        while (not terminated) and (not truncated):\n",
    "\n",
    "            # Make a prediction based on the state\n",
    "            probabilities = model.predict(np.array([observation]), verbose=0)[0]\n",
    "            # print(probabilities)\n",
    "\n",
    "            # This line stochastically samples an action based on the probabilities\n",
    "            action = np.random.choice(num_choices, p=probabilities)\n",
    "            # print(action)\n",
    "\n",
    "            obs_history.append(observation)\n",
    "            action_history.append(action)\n",
    "\n",
    "            observation, reward, terminated, truncated, info = env.step(action)\n",
    "\n",
    "            reward_history.append(reward)\n",
    "            \n",
    "\n",
    "\n",
    "        \n",
    "        # Discount rewards\n",
    "        discounted_rewards = []\n",
    "        cumulative_reward = 0\n",
    "        for reward in reversed(reward_history):\n",
    "            cumulative_reward = reward + discount_factor * cumulative_reward\n",
    "            discounted_rewards.insert(0, cumulative_reward)\n",
    "\n",
    "        # print(f\"Cumulative Reward History: {discounted_rewards}\")\n",
    "\n",
    "\n",
    "        # print(f\"Frame: {count_frame}\")\n",
    "        # print(f\"Obs History: {obs_history}\")\n",
    "        # print(f\"Reward History: {reward_history}\")\n",
    "        # print(f\"Action History: {action_history}\")\n",
    "\n",
    "\n",
    "\n",
    "        def adjust_weights(obs_history, action_history, discounted_rewards):\n",
    "            \n",
    "            with tf.GradientTape() as tape:\n",
    "                # Predict action probabilities\n",
    "                action_probabilities = model(np.array(obs_history))\n",
    "                # print(action_probabilities)\n",
    "\n",
    "                # Get probabilities of actions that were taken\n",
    "                indices = list(zip(range(len(action_history)), action_history))\n",
    "                # print(indices)\n",
    "                chosen_action_probs = tf.gather_nd(action_probabilities, indices)\n",
    "                # print(chosen_action_probs)\n",
    "\n",
    "                # Compute loss\n",
    "                loss = -tf.math.log(chosen_action_probs) * discounted_rewards\n",
    "                loss = tf.reduce_mean(loss)\n",
    "\n",
    "                \n",
    "            # Calculate gradients\n",
    "            grads = tape.gradient(loss, model.trainable_variables)\n",
    "            # print(grads)\n",
    "            \n",
    "            # Apply gradients to model weights\n",
    "            optimizer.apply_gradients(zip(grads, model.trainable_variables))\n",
    "\n",
    "            # # Print updated model weights\n",
    "            # for var in model.trainable_variables:\n",
    "            #     print(var.name, var.numpy()[1])\n",
    "\n",
    "\n",
    "        adjust_weights(obs_history=obs_history, action_history=action_history, discounted_rewards=discounted_rewards)\n",
    "\n",
    "\n",
    "        # Append episode rewards for plotting\n",
    "        total_reward = sum(reward_history)\n",
    "        episode_rewards.append(total_reward)\n",
    "        print(f\"CartPole-v0 episode {episode}, reward sum: {total_reward}\")\n",
    "\n",
    "        clear_output(wait=True)\n",
    "        \n",
    "    env.close()\n",
    "\n",
    "    # After the for loop\n",
    "    plt.plot(episode_rewards)\n",
    "    plt.xlabel(\"Episode\")\n",
    "    plt.ylabel(\"Total Reward\")\n",
    "    plt.show()"
   ]
  },
  {
   "cell_type": "code",
   "execution_count": 3,
   "metadata": {},
   "outputs": [
    {
     "name": "stdout",
     "output_type": "stream",
     "text": [
      "CartPole-v0 episode 588, reward sum: 9.0\n"
     ]
    }
   ],
   "source": [
    "model = tf.keras.Sequential([\n",
    "    tf.keras.layers.Dense(256, activation=\"relu\", input_shape=(4,)),\n",
    "    tf.keras.layers.Dense(128, activation=\"relu\"),\n",
    "    tf.keras.layers.Dense(64, activation=\"relu\"),\n",
    "    tf.keras.layers.Dense(2, activation=\"softmax\")\n",
    "])\n",
    "\n",
    "CartPole_RL(model)"
   ]
  },
  {
   "cell_type": "code",
   "execution_count": null,
   "metadata": {},
   "outputs": [],
   "source": []
  }
 ],
 "metadata": {
  "kernelspec": {
   "display_name": ".venv",
   "language": "python",
   "name": "python3"
  },
  "language_info": {
   "codemirror_mode": {
    "name": "ipython",
    "version": 3
   },
   "file_extension": ".py",
   "mimetype": "text/x-python",
   "name": "python",
   "nbconvert_exporter": "python",
   "pygments_lexer": "ipython3",
   "version": "3.10.7"
  }
 },
 "nbformat": 4,
 "nbformat_minor": 2
}
