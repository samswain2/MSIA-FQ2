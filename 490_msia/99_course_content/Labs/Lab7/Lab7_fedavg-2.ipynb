{
  "nbformat": 4,
  "nbformat_minor": 0,
  "metadata": {
    "colab": {
      "provenance": []
    },
    "kernelspec": {
      "name": "python3",
      "display_name": "Python 3"
    },
    "language_info": {
      "name": "python"
    }
  },
  "cells": [
    {
      "cell_type": "code",
      "execution_count": null,
      "metadata": {
        "id": "dUgh49fMO6GA"
      },
      "outputs": [],
      "source": [
        "!pip install ray===2.7.1"
      ]
    },
    {
      "cell_type": "code",
      "source": [
        "import ray\n",
        "import tensorflow as tf\n",
        "import os\n",
        "import math\n",
        "import matplotlib.pyplot as plt"
      ],
      "metadata": {
        "id": "mHsyld0GbyHY"
      },
      "execution_count": null,
      "outputs": []
    },
    {
      "cell_type": "code",
      "source": [
        "os.cpu_count()"
      ],
      "metadata": {
        "colab": {
          "base_uri": "https://localhost:8080/"
        },
        "id": "pbTtthtFkeaX",
        "outputId": "9d4ab75c-53a2-412f-e575-162cce004e8f"
      },
      "execution_count": null,
      "outputs": [
        {
          "output_type": "execute_result",
          "data": {
            "text/plain": [
              "2"
            ]
          },
          "metadata": {},
          "execution_count": 3
        }
      ]
    },
    {
      "cell_type": "code",
      "source": [
        "ray.init(num_cpus=2, num_gpus=0)"
      ],
      "metadata": {
        "colab": {
          "base_uri": "https://localhost:8080/",
          "height": 76
        },
        "id": "COwKnUBmlyWn",
        "outputId": "688e0721-fc9c-4e87-ba9b-87094c52c878"
      },
      "execution_count": null,
      "outputs": [
        {
          "output_type": "stream",
          "name": "stderr",
          "text": [
            "2023-11-06 03:05:51,917\tINFO worker.py:1642 -- Started a local Ray instance.\n"
          ]
        },
        {
          "output_type": "execute_result",
          "data": {
            "text/plain": [
              "RayContext(dashboard_url='', python_version='3.10.12', ray_version='2.7.1', ray_commit='9f07c12615958c3af3760604f6dcacc4b3758a47', protocol_version=None)"
            ],
            "text/html": [
              "<div class=\"lm-Widget p-Widget lm-Panel p-Panel jp-Cell-outputWrapper\">\n",
              "    <div style=\"margin-left: 50px;display: flex;flex-direction: row;align-items: center\">\n",
              "        <div class=\"jp-RenderedHTMLCommon\" style=\"display: flex; flex-direction: row;\">\n",
              "  <svg viewBox=\"0 0 567 224\" fill=\"none\" xmlns=\"http://www.w3.org/2000/svg\" style=\"height: 3em;\">\n",
              "    <g clip-path=\"url(#clip0_4338_178347)\">\n",
              "        <path d=\"M341.29 165.561H355.29L330.13 129.051C345.63 123.991 354.21 112.051 354.21 94.2307C354.21 71.3707 338.72 58.1807 311.88 58.1807H271V165.561H283.27V131.661H311.8C314.25 131.661 316.71 131.501 319.01 131.351L341.25 165.561H341.29ZM283.29 119.851V70.0007H311.82C331.3 70.0007 342.34 78.2907 342.34 94.5507C342.34 111.271 331.34 119.861 311.82 119.861L283.29 119.851ZM451.4 138.411L463.4 165.561H476.74L428.74 58.1807H416L367.83 165.561H380.83L392.83 138.411H451.4ZM446.19 126.601H398L422 72.1407L446.24 126.601H446.19ZM526.11 128.741L566.91 58.1807H554.35L519.99 114.181L485.17 58.1807H472.44L514.01 129.181V165.541H526.13V128.741H526.11Z\" fill=\"var(--jp-ui-font-color0)\"/>\n",
              "        <path d=\"M82.35 104.44C84.0187 97.8827 87.8248 92.0678 93.1671 87.9146C98.5094 83.7614 105.083 81.5067 111.85 81.5067C118.617 81.5067 125.191 83.7614 130.533 87.9146C135.875 92.0678 139.681 97.8827 141.35 104.44H163.75C164.476 101.562 165.622 98.8057 167.15 96.2605L127.45 56.5605C121.071 60.3522 113.526 61.6823 106.235 60.3005C98.9443 58.9187 92.4094 54.9203 87.8602 49.0574C83.3109 43.1946 81.0609 35.8714 81.5332 28.4656C82.0056 21.0599 85.1679 14.0819 90.4252 8.8446C95.6824 3.60726 102.672 0.471508 110.08 0.0272655C117.487 -0.416977 124.802 1.86091 130.647 6.4324C136.493 11.0039 140.467 17.5539 141.821 24.8501C143.175 32.1463 141.816 39.6859 138 46.0505L177.69 85.7505C182.31 82.9877 187.58 81.4995 192.962 81.4375C198.345 81.3755 203.648 82.742 208.33 85.3976C213.012 88.0532 216.907 91.9029 219.616 96.5544C222.326 101.206 223.753 106.492 223.753 111.875C223.753 117.258 222.326 122.545 219.616 127.197C216.907 131.848 213.012 135.698 208.33 138.353C203.648 141.009 198.345 142.375 192.962 142.313C187.58 142.251 182.31 140.763 177.69 138L138 177.7C141.808 184.071 143.155 191.614 141.79 198.91C140.424 206.205 136.44 212.75 130.585 217.313C124.731 221.875 117.412 224.141 110.004 223.683C102.596 223.226 95.6103 220.077 90.3621 214.828C85.1139 209.58 81.9647 202.595 81.5072 195.187C81.0497 187.779 83.3154 180.459 87.878 174.605C92.4405 168.751 98.9853 164.766 106.281 163.401C113.576 162.035 121.119 163.383 127.49 167.19L167.19 127.49C165.664 124.941 164.518 122.182 163.79 119.3H141.39C139.721 125.858 135.915 131.673 130.573 135.826C125.231 139.98 118.657 142.234 111.89 142.234C105.123 142.234 98.5494 139.98 93.2071 135.826C87.8648 131.673 84.0587 125.858 82.39 119.3H60C58.1878 126.495 53.8086 132.78 47.6863 136.971C41.5641 141.163 34.1211 142.972 26.7579 142.059C19.3947 141.146 12.6191 137.574 7.70605 132.014C2.79302 126.454 0.0813599 119.29 0.0813599 111.87C0.0813599 104.451 2.79302 97.2871 7.70605 91.7272C12.6191 86.1673 19.3947 82.5947 26.7579 81.6817C34.1211 80.7686 41.5641 82.5781 47.6863 86.7696C53.8086 90.9611 58.1878 97.2456 60 104.44H82.35ZM100.86 204.32C103.407 206.868 106.759 208.453 110.345 208.806C113.93 209.159 117.527 208.258 120.522 206.256C123.517 204.254 125.725 201.276 126.771 197.828C127.816 194.38 127.633 190.677 126.253 187.349C124.874 184.021 122.383 181.274 119.205 179.577C116.027 177.88 112.359 177.337 108.826 178.042C105.293 178.746 102.113 180.654 99.8291 183.44C97.5451 186.226 96.2979 189.718 96.3 193.32C96.2985 195.364 96.7006 197.388 97.4831 199.275C98.2656 201.163 99.4132 202.877 100.86 204.32ZM204.32 122.88C206.868 120.333 208.453 116.981 208.806 113.396C209.159 109.811 208.258 106.214 206.256 103.219C204.254 100.223 201.275 98.0151 197.827 96.97C194.38 95.9249 190.676 96.1077 187.348 97.4873C184.02 98.8669 181.274 101.358 179.577 104.536C177.879 107.714 177.337 111.382 178.041 114.915C178.746 118.448 180.653 121.627 183.439 123.911C186.226 126.195 189.717 127.443 193.32 127.44C195.364 127.443 197.388 127.042 199.275 126.259C201.163 125.476 202.878 124.328 204.32 122.88ZM122.88 19.4205C120.333 16.8729 116.981 15.2876 113.395 14.9347C109.81 14.5817 106.213 15.483 103.218 17.4849C100.223 19.4868 98.0146 22.4654 96.9696 25.9131C95.9245 29.3608 96.1073 33.0642 97.4869 36.3922C98.8665 39.7202 101.358 42.4668 104.535 44.1639C107.713 45.861 111.381 46.4036 114.914 45.6992C118.447 44.9949 121.627 43.0871 123.911 40.301C126.195 37.515 127.442 34.0231 127.44 30.4205C127.44 28.3772 127.038 26.3539 126.255 24.4664C125.473 22.5788 124.326 20.8642 122.88 19.4205ZM19.42 100.86C16.8725 103.408 15.2872 106.76 14.9342 110.345C14.5813 113.93 15.4826 117.527 17.4844 120.522C19.4863 123.518 22.4649 125.726 25.9127 126.771C29.3604 127.816 33.0638 127.633 36.3918 126.254C39.7198 124.874 42.4664 122.383 44.1635 119.205C45.8606 116.027 46.4032 112.359 45.6988 108.826C44.9944 105.293 43.0866 102.114 40.3006 99.8296C37.5145 97.5455 34.0227 96.2983 30.42 96.3005C26.2938 96.3018 22.337 97.9421 19.42 100.86ZM100.86 100.86C98.3125 103.408 96.7272 106.76 96.3742 110.345C96.0213 113.93 96.9226 117.527 98.9244 120.522C100.926 123.518 103.905 125.726 107.353 126.771C110.8 127.816 114.504 127.633 117.832 126.254C121.16 124.874 123.906 122.383 125.604 119.205C127.301 116.027 127.843 112.359 127.139 108.826C126.434 105.293 124.527 102.114 121.741 99.8296C118.955 97.5455 115.463 96.2983 111.86 96.3005C109.817 96.299 107.793 96.701 105.905 97.4835C104.018 98.2661 102.303 99.4136 100.86 100.86Z\" fill=\"#00AEEF\"/>\n",
              "    </g>\n",
              "    <defs>\n",
              "        <clipPath id=\"clip0_4338_178347\">\n",
              "            <rect width=\"566.93\" height=\"223.75\" fill=\"white\"/>\n",
              "        </clipPath>\n",
              "    </defs>\n",
              "  </svg>\n",
              "</div>\n",
              "\n",
              "        <table class=\"jp-RenderedHTMLCommon\" style=\"border-collapse: collapse;color: var(--jp-ui-font-color1);font-size: var(--jp-ui-font-size1);\">\n",
              "    <tr>\n",
              "        <td style=\"text-align: left\"><b>Python version:</b></td>\n",
              "        <td style=\"text-align: left\"><b>3.10.12</b></td>\n",
              "    </tr>\n",
              "    <tr>\n",
              "        <td style=\"text-align: left\"><b>Ray version:</b></td>\n",
              "        <td style=\"text-align: left\"><b>2.7.1</b></td>\n",
              "    </tr>\n",
              "    \n",
              "</table>\n",
              "\n",
              "    </div>\n",
              "</div>\n"
            ]
          },
          "metadata": {},
          "execution_count": 41
        }
      ]
    },
    {
      "cell_type": "markdown",
      "source": [
        "# Data processing\n",
        "\n",
        "For the homework, you should download the dataset with the provided link. The provided dataset has already partitioned the data by clients."
      ],
      "metadata": {
        "id": "iei4V4NqecXN"
      }
    },
    {
      "cell_type": "code",
      "source": [
        "NUM_CLIENT = 100\n",
        "\n",
        "def partition_data():\n",
        "    # Preprocessing\n",
        "    ...\n",
        "\n",
        "    return partitions, testset\n"
      ],
      "metadata": {
        "id": "tX6W7XNBgK39"
      },
      "execution_count": null,
      "outputs": []
    },
    {
      "cell_type": "markdown",
      "source": [
        "# Define model"
      ],
      "metadata": {
        "id": "9QsMoAlIdUXS"
      }
    },
    {
      "cell_type": "code",
      "source": [
        "def get_model():\n",
        "    model = tf.keras.models.Sequential(\n",
        "        [\n",
        "            tf.keras.layers.Flatten(input_shape=(28, 28)),\n",
        "            tf.keras.layers.Dense(64, activation=\"relu\"),\n",
        "            tf.keras.layers.Dense(10, activation=\"softmax\"),\n",
        "        ]\n",
        "    )\n",
        "    model.compile(\"adam\", \"sparse_categorical_crossentropy\", metrics=[\"accuracy\"])\n",
        "    return model"
      ],
      "metadata": {
        "id": "v_3GtRbLdXdJ"
      },
      "execution_count": null,
      "outputs": []
    },
    {
      "cell_type": "markdown",
      "source": [
        "# Client class"
      ],
      "metadata": {
        "id": "P0uQDZh8cnye"
      }
    },
    {
      "cell_type": "code",
      "source": [
        "@ray.remote(num_cpus=1, num_gpus=0)\n",
        "class Client:\n",
        "    def __init__(self, local_data):\n",
        "        # Create model\n",
        "        self.model = get_model()\n",
        "\n",
        "        # Set data\n",
        "        x_local, y_local = local_data\n",
        "\n",
        "        # TODO: Split 80% of the client's data for training, 20% for validation\n",
        "        ...\n",
        "\n",
        "        return\n",
        "\n",
        "    def train(self, global_weights):\n",
        "        # TODO: Perform E epochs of training using the local traininig data\n",
        "        ...\n",
        "\n",
        "\n",
        "\n",
        "    def evaluate(self):\n",
        "        # TODO: Use the updated model,\n",
        "        #       compute the loss and accuracy on the local train and validation data\n",
        "        ...\n"
      ],
      "metadata": {
        "id": "YZPVsY32bnsx"
      },
      "execution_count": null,
      "outputs": []
    },
    {
      "cell_type": "code",
      "source": [
        "# Evaluation on held-out test data\n",
        "\n",
        "def test(test_data, weights):\n",
        "    model = get_model()  # Construct the model\n",
        "    model.set_weights(weights)  # Set model weights with the latest parameters\n",
        "\n",
        "    # TODO: Get test accuracy\n",
        "    ...\n",
        "\n",
        "    return test_accuracy"
      ],
      "metadata": {
        "id": "YkWSKIPEdL9T"
      },
      "execution_count": null,
      "outputs": []
    },
    {
      "cell_type": "markdown",
      "source": [
        "# Aggregated metrics and losses\n",
        "Aggregate client metrics and losses for (federated) evaluation metrics."
      ],
      "metadata": {
        "id": "LqKqf9DncThX"
      }
    },
    {
      "cell_type": "code",
      "source": [
        "def weighted_average(client_results):\n",
        "    # TODO: Aggregate client losses or accuracies by taking a weighted average.\n",
        "    #       Weights are proportional to the number of samples at each client\n",
        "    ...\n",
        "\n",
        "    return aggregated_value"
      ],
      "metadata": {
        "id": "t7pCKBdkcSre"
      },
      "execution_count": null,
      "outputs": []
    },
    {
      "cell_type": "markdown",
      "source": [
        "# Aggregation of client updates"
      ],
      "metadata": {
        "id": "XLhqm2yrcWqO"
      }
    },
    {
      "cell_type": "code",
      "source": [
        "def fedAvg(client_weights):\n",
        "    # TODO: Implement FedAvg\n",
        "    ...\n",
        "\n",
        "    return avg_weights"
      ],
      "metadata": {
        "id": "Il99CRkdp2De"
      },
      "execution_count": null,
      "outputs": []
    },
    {
      "cell_type": "markdown",
      "source": [
        "# Launch the learning"
      ],
      "metadata": {
        "id": "XiE7SFyDcbbf"
      }
    },
    {
      "cell_type": "code",
      "source": [
        "# Initialize the global model weights\n",
        "global_model = get_model()\n",
        "\n",
        "# Get data\n",
        "data_by_clients, test_data = partition_data()\n",
        "\n",
        "total_rounds = 100\n",
        "\n",
        "C = 0.1   # Only a fraction of C of clients participate in the local training per round\n",
        "E = 10     # Number of epochs for each local training\n",
        "\n",
        "for round in range(total_rounds):\n",
        "    # Step 1\n",
        "    # TODO: Sample C fraction of clients\n",
        "    # TODO: Get the local data for the selected clients\n",
        "    sampled_clients_data = ...\n",
        "\n",
        "    # Create Client instances for selected clients and assign local data\n",
        "    clients = [Client.remote(data) for data in sampled_clients_data]\n",
        "\n",
        "    # Step 2: Perform local training and evaluaton on the clients\n",
        "    client_weights = ray.get([client.train.remote(global_model.get_weights()) for client in clients])\n",
        "    client_results = ray.get([client.evaluate.remote() for client in clients])\n",
        "\n",
        "    # Step 3\n",
        "    # TODO: Aggregate the losses and metrics, keep track of the metrics\n",
        "    weighted_average(client_results)\n",
        "\n",
        "    # Step 4\n",
        "    # TODO: Aggregate the client updates\n",
        "    weighted_avg_weights = fedAvg(client_weights)\n",
        "\n",
        "    # Step 5\n",
        "    # Update the global model\n",
        "    global_model.set_weights(weighted_avg_weights)\n",
        "\n",
        "\n",
        "# Evaluate on test data after training\n",
        "test(test_data, global_model.get_weights())"
      ],
      "metadata": {
        "id": "FXjUmN7Xb_cd"
      },
      "execution_count": null,
      "outputs": []
    },
    {
      "cell_type": "markdown",
      "source": [
        "# Create plots"
      ],
      "metadata": {
        "id": "wUjl71CziT-K"
      }
    },
    {
      "cell_type": "code",
      "source": [],
      "metadata": {
        "id": "uANcNWDNm_j-"
      },
      "execution_count": null,
      "outputs": []
    }
  ]
}