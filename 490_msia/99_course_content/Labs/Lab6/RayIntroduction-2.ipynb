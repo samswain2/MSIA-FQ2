{
  "nbformat": 4,
  "nbformat_minor": 0,
  "metadata": {
    "colab": {
      "provenance": []
    },
    "kernelspec": {
      "name": "python3",
      "display_name": "Python 3"
    },
    "language_info": {
      "name": "python"
    }
  },
  "cells": [
    {
      "cell_type": "code",
      "execution_count": 11,
      "metadata": {
        "id": "q_UL-3D5UnB0",
        "colab": {
          "base_uri": "https://localhost:8080/"
        },
        "outputId": "096595ef-eb96-4191-8332-125fa90daa0a"
      },
      "outputs": [
        {
          "output_type": "stream",
          "name": "stdout",
          "text": [
            "Requirement already satisfied: ray==2.7.1 in /usr/local/lib/python3.10/dist-packages (2.7.1)\n",
            "Requirement already satisfied: click>=7.0 in /usr/local/lib/python3.10/dist-packages (from ray==2.7.1) (8.1.7)\n",
            "Requirement already satisfied: filelock in /usr/local/lib/python3.10/dist-packages (from ray==2.7.1) (3.12.4)\n",
            "Requirement already satisfied: jsonschema in /usr/local/lib/python3.10/dist-packages (from ray==2.7.1) (4.19.1)\n",
            "Requirement already satisfied: msgpack<2.0.0,>=1.0.0 in /usr/local/lib/python3.10/dist-packages (from ray==2.7.1) (1.0.7)\n",
            "Requirement already satisfied: packaging in /usr/local/lib/python3.10/dist-packages (from ray==2.7.1) (23.2)\n",
            "Requirement already satisfied: protobuf!=3.19.5,>=3.15.3 in /usr/local/lib/python3.10/dist-packages (from ray==2.7.1) (3.20.3)\n",
            "Requirement already satisfied: pyyaml in /usr/local/lib/python3.10/dist-packages (from ray==2.7.1) (6.0.1)\n",
            "Requirement already satisfied: aiosignal in /usr/local/lib/python3.10/dist-packages (from ray==2.7.1) (1.3.1)\n",
            "Requirement already satisfied: frozenlist in /usr/local/lib/python3.10/dist-packages (from ray==2.7.1) (1.4.0)\n",
            "Requirement already satisfied: requests in /usr/local/lib/python3.10/dist-packages (from ray==2.7.1) (2.31.0)\n",
            "Requirement already satisfied: numpy>=1.19.3 in /usr/local/lib/python3.10/dist-packages (from ray==2.7.1) (1.23.5)\n",
            "Requirement already satisfied: attrs>=22.2.0 in /usr/local/lib/python3.10/dist-packages (from jsonschema->ray==2.7.1) (23.1.0)\n",
            "Requirement already satisfied: jsonschema-specifications>=2023.03.6 in /usr/local/lib/python3.10/dist-packages (from jsonschema->ray==2.7.1) (2023.7.1)\n",
            "Requirement already satisfied: referencing>=0.28.4 in /usr/local/lib/python3.10/dist-packages (from jsonschema->ray==2.7.1) (0.30.2)\n",
            "Requirement already satisfied: rpds-py>=0.7.1 in /usr/local/lib/python3.10/dist-packages (from jsonschema->ray==2.7.1) (0.10.6)\n",
            "Requirement already satisfied: charset-normalizer<4,>=2 in /usr/local/lib/python3.10/dist-packages (from requests->ray==2.7.1) (3.3.1)\n",
            "Requirement already satisfied: idna<4,>=2.5 in /usr/local/lib/python3.10/dist-packages (from requests->ray==2.7.1) (3.4)\n",
            "Requirement already satisfied: urllib3<3,>=1.21.1 in /usr/local/lib/python3.10/dist-packages (from requests->ray==2.7.1) (2.0.7)\n",
            "Requirement already satisfied: certifi>=2017.4.17 in /usr/local/lib/python3.10/dist-packages (from requests->ray==2.7.1) (2023.7.22)\n"
          ]
        }
      ],
      "source": [
        "!pip install ray==2.7.1"
      ]
    },
    {
      "cell_type": "code",
      "source": [
        "import ray"
      ],
      "metadata": {
        "id": "ObuBW8EBU1mj"
      },
      "execution_count": 12,
      "outputs": []
    },
    {
      "cell_type": "code",
      "source": [
        "ray.init()"
      ],
      "metadata": {
        "colab": {
          "base_uri": "https://localhost:8080/",
          "height": 76
        },
        "id": "0QXMdmNOU7Eg",
        "outputId": "ce1818bb-3cb3-4073-ee71-b9152dfb4df7"
      },
      "execution_count": 13,
      "outputs": [
        {
          "output_type": "stream",
          "name": "stderr",
          "text": [
            "2023-11-02 21:04:02,659\tINFO worker.py:1642 -- Started a local Ray instance.\n"
          ]
        },
        {
          "output_type": "execute_result",
          "data": {
            "text/plain": [
              "RayContext(dashboard_url='', python_version='3.10.12', ray_version='2.7.1', ray_commit='9f07c12615958c3af3760604f6dcacc4b3758a47', protocol_version=None)"
            ],
            "text/html": [
              "<div class=\"lm-Widget p-Widget lm-Panel p-Panel jp-Cell-outputWrapper\">\n",
              "    <div style=\"margin-left: 50px;display: flex;flex-direction: row;align-items: center\">\n",
              "        <div class=\"jp-RenderedHTMLCommon\" style=\"display: flex; flex-direction: row;\">\n",
              "  <svg viewBox=\"0 0 567 224\" fill=\"none\" xmlns=\"http://www.w3.org/2000/svg\" style=\"height: 3em;\">\n",
              "    <g clip-path=\"url(#clip0_4338_178347)\">\n",
              "        <path d=\"M341.29 165.561H355.29L330.13 129.051C345.63 123.991 354.21 112.051 354.21 94.2307C354.21 71.3707 338.72 58.1807 311.88 58.1807H271V165.561H283.27V131.661H311.8C314.25 131.661 316.71 131.501 319.01 131.351L341.25 165.561H341.29ZM283.29 119.851V70.0007H311.82C331.3 70.0007 342.34 78.2907 342.34 94.5507C342.34 111.271 331.34 119.861 311.82 119.861L283.29 119.851ZM451.4 138.411L463.4 165.561H476.74L428.74 58.1807H416L367.83 165.561H380.83L392.83 138.411H451.4ZM446.19 126.601H398L422 72.1407L446.24 126.601H446.19ZM526.11 128.741L566.91 58.1807H554.35L519.99 114.181L485.17 58.1807H472.44L514.01 129.181V165.541H526.13V128.741H526.11Z\" fill=\"var(--jp-ui-font-color0)\"/>\n",
              "        <path d=\"M82.35 104.44C84.0187 97.8827 87.8248 92.0678 93.1671 87.9146C98.5094 83.7614 105.083 81.5067 111.85 81.5067C118.617 81.5067 125.191 83.7614 130.533 87.9146C135.875 92.0678 139.681 97.8827 141.35 104.44H163.75C164.476 101.562 165.622 98.8057 167.15 96.2605L127.45 56.5605C121.071 60.3522 113.526 61.6823 106.235 60.3005C98.9443 58.9187 92.4094 54.9203 87.8602 49.0574C83.3109 43.1946 81.0609 35.8714 81.5332 28.4656C82.0056 21.0599 85.1679 14.0819 90.4252 8.8446C95.6824 3.60726 102.672 0.471508 110.08 0.0272655C117.487 -0.416977 124.802 1.86091 130.647 6.4324C136.493 11.0039 140.467 17.5539 141.821 24.8501C143.175 32.1463 141.816 39.6859 138 46.0505L177.69 85.7505C182.31 82.9877 187.58 81.4995 192.962 81.4375C198.345 81.3755 203.648 82.742 208.33 85.3976C213.012 88.0532 216.907 91.9029 219.616 96.5544C222.326 101.206 223.753 106.492 223.753 111.875C223.753 117.258 222.326 122.545 219.616 127.197C216.907 131.848 213.012 135.698 208.33 138.353C203.648 141.009 198.345 142.375 192.962 142.313C187.58 142.251 182.31 140.763 177.69 138L138 177.7C141.808 184.071 143.155 191.614 141.79 198.91C140.424 206.205 136.44 212.75 130.585 217.313C124.731 221.875 117.412 224.141 110.004 223.683C102.596 223.226 95.6103 220.077 90.3621 214.828C85.1139 209.58 81.9647 202.595 81.5072 195.187C81.0497 187.779 83.3154 180.459 87.878 174.605C92.4405 168.751 98.9853 164.766 106.281 163.401C113.576 162.035 121.119 163.383 127.49 167.19L167.19 127.49C165.664 124.941 164.518 122.182 163.79 119.3H141.39C139.721 125.858 135.915 131.673 130.573 135.826C125.231 139.98 118.657 142.234 111.89 142.234C105.123 142.234 98.5494 139.98 93.2071 135.826C87.8648 131.673 84.0587 125.858 82.39 119.3H60C58.1878 126.495 53.8086 132.78 47.6863 136.971C41.5641 141.163 34.1211 142.972 26.7579 142.059C19.3947 141.146 12.6191 137.574 7.70605 132.014C2.79302 126.454 0.0813599 119.29 0.0813599 111.87C0.0813599 104.451 2.79302 97.2871 7.70605 91.7272C12.6191 86.1673 19.3947 82.5947 26.7579 81.6817C34.1211 80.7686 41.5641 82.5781 47.6863 86.7696C53.8086 90.9611 58.1878 97.2456 60 104.44H82.35ZM100.86 204.32C103.407 206.868 106.759 208.453 110.345 208.806C113.93 209.159 117.527 208.258 120.522 206.256C123.517 204.254 125.725 201.276 126.771 197.828C127.816 194.38 127.633 190.677 126.253 187.349C124.874 184.021 122.383 181.274 119.205 179.577C116.027 177.88 112.359 177.337 108.826 178.042C105.293 178.746 102.113 180.654 99.8291 183.44C97.5451 186.226 96.2979 189.718 96.3 193.32C96.2985 195.364 96.7006 197.388 97.4831 199.275C98.2656 201.163 99.4132 202.877 100.86 204.32ZM204.32 122.88C206.868 120.333 208.453 116.981 208.806 113.396C209.159 109.811 208.258 106.214 206.256 103.219C204.254 100.223 201.275 98.0151 197.827 96.97C194.38 95.9249 190.676 96.1077 187.348 97.4873C184.02 98.8669 181.274 101.358 179.577 104.536C177.879 107.714 177.337 111.382 178.041 114.915C178.746 118.448 180.653 121.627 183.439 123.911C186.226 126.195 189.717 127.443 193.32 127.44C195.364 127.443 197.388 127.042 199.275 126.259C201.163 125.476 202.878 124.328 204.32 122.88ZM122.88 19.4205C120.333 16.8729 116.981 15.2876 113.395 14.9347C109.81 14.5817 106.213 15.483 103.218 17.4849C100.223 19.4868 98.0146 22.4654 96.9696 25.9131C95.9245 29.3608 96.1073 33.0642 97.4869 36.3922C98.8665 39.7202 101.358 42.4668 104.535 44.1639C107.713 45.861 111.381 46.4036 114.914 45.6992C118.447 44.9949 121.627 43.0871 123.911 40.301C126.195 37.515 127.442 34.0231 127.44 30.4205C127.44 28.3772 127.038 26.3539 126.255 24.4664C125.473 22.5788 124.326 20.8642 122.88 19.4205ZM19.42 100.86C16.8725 103.408 15.2872 106.76 14.9342 110.345C14.5813 113.93 15.4826 117.527 17.4844 120.522C19.4863 123.518 22.4649 125.726 25.9127 126.771C29.3604 127.816 33.0638 127.633 36.3918 126.254C39.7198 124.874 42.4664 122.383 44.1635 119.205C45.8606 116.027 46.4032 112.359 45.6988 108.826C44.9944 105.293 43.0866 102.114 40.3006 99.8296C37.5145 97.5455 34.0227 96.2983 30.42 96.3005C26.2938 96.3018 22.337 97.9421 19.42 100.86ZM100.86 100.86C98.3125 103.408 96.7272 106.76 96.3742 110.345C96.0213 113.93 96.9226 117.527 98.9244 120.522C100.926 123.518 103.905 125.726 107.353 126.771C110.8 127.816 114.504 127.633 117.832 126.254C121.16 124.874 123.906 122.383 125.604 119.205C127.301 116.027 127.843 112.359 127.139 108.826C126.434 105.293 124.527 102.114 121.741 99.8296C118.955 97.5455 115.463 96.2983 111.86 96.3005C109.817 96.299 107.793 96.701 105.905 97.4835C104.018 98.2661 102.303 99.4136 100.86 100.86Z\" fill=\"#00AEEF\"/>\n",
              "    </g>\n",
              "    <defs>\n",
              "        <clipPath id=\"clip0_4338_178347\">\n",
              "            <rect width=\"566.93\" height=\"223.75\" fill=\"white\"/>\n",
              "        </clipPath>\n",
              "    </defs>\n",
              "  </svg>\n",
              "</div>\n",
              "\n",
              "        <table class=\"jp-RenderedHTMLCommon\" style=\"border-collapse: collapse;color: var(--jp-ui-font-color1);font-size: var(--jp-ui-font-size1);\">\n",
              "    <tr>\n",
              "        <td style=\"text-align: left\"><b>Python version:</b></td>\n",
              "        <td style=\"text-align: left\"><b>3.10.12</b></td>\n",
              "    </tr>\n",
              "    <tr>\n",
              "        <td style=\"text-align: left\"><b>Ray version:</b></td>\n",
              "        <td style=\"text-align: left\"><b>2.7.1</b></td>\n",
              "    </tr>\n",
              "    \n",
              "</table>\n",
              "\n",
              "    </div>\n",
              "</div>\n"
            ]
          },
          "metadata": {},
          "execution_count": 13
        }
      ]
    },
    {
      "cell_type": "code",
      "source": [
        "ray.shutdown()"
      ],
      "metadata": {
        "id": "W2-LpbiuXU-D"
      },
      "execution_count": 14,
      "outputs": []
    },
    {
      "cell_type": "markdown",
      "source": [
        "# Parallel Tasks"
      ],
      "metadata": {
        "id": "Bnp6T_8mX0z0"
      }
    },
    {
      "cell_type": "code",
      "source": [
        "import os\n",
        "import time\n",
        "import ray\n",
        "\n",
        "# Normal Python\n",
        "def fibonacci_local(sequence_size):\n",
        "    fibonacci = []\n",
        "    for i in range(0, sequence_size):\n",
        "        if i < 2:\n",
        "            fibonacci.append(i)\n",
        "            continue\n",
        "        fibonacci.append(fibonacci[i-1]+fibonacci[i-2])\n",
        "    return sequence_size\n",
        "\n",
        "# Ray task\n",
        "@ray.remote\n",
        "def fibonacci_distributed(sequence_size):\n",
        "    fibonacci = []\n",
        "    for i in range(0, sequence_size):\n",
        "        if i < 2:\n",
        "            fibonacci.append(i)\n",
        "            continue\n",
        "        fibonacci.append(fibonacci[i-1]+fibonacci[i-2])\n",
        "    return sequence_size"
      ],
      "metadata": {
        "id": "y7tSweftU76U"
      },
      "execution_count": 15,
      "outputs": []
    },
    {
      "cell_type": "code",
      "source": [
        "os.cpu_count()"
      ],
      "metadata": {
        "colab": {
          "base_uri": "https://localhost:8080/"
        },
        "id": "lvkzPRz_VJ6G",
        "outputId": "702bd979-cc7b-4d6d-b8c9-ad1ec779d486"
      },
      "execution_count": 16,
      "outputs": [
        {
          "output_type": "execute_result",
          "data": {
            "text/plain": [
              "2"
            ]
          },
          "metadata": {},
          "execution_count": 16
        }
      ]
    },
    {
      "cell_type": "code",
      "source": [
        "# Normal Python\n",
        "def run_local(sequence_size):\n",
        "    start_time = time.time()\n",
        "    results = [fibonacci_local(sequence_size) for _ in range(os.cpu_count())]\n",
        "    duration = time.time() - start_time\n",
        "    print('Sequence size: {}, Local execution time: {}'.format(sequence_size, duration))\n",
        "\n",
        "# Ray\n",
        "def run_remote(sequence_size):\n",
        "    # Starting Ray\n",
        "    ray.init()\n",
        "    start_time = time.time()\n",
        "    results = ray.get([fibonacci_distributed.remote(sequence_size) for _ in range(os.cpu_count())])\n",
        "    duration = time.time() - start_time\n",
        "    print('Sequence size: {}, Remote execution time: {}'.format(sequence_size, duration))\n"
      ],
      "metadata": {
        "id": "R6oqbQp6VSmv"
      },
      "execution_count": 17,
      "outputs": []
    },
    {
      "cell_type": "code",
      "source": [
        "run_local(100000)\n",
        "run_remote(100000)"
      ],
      "metadata": {
        "id": "BE6RA1QvVvF-"
      },
      "execution_count": null,
      "outputs": []
    },
    {
      "cell_type": "code",
      "source": [],
      "metadata": {
        "id": "KY5QEgXRXrG_"
      },
      "execution_count": null,
      "outputs": []
    },
    {
      "cell_type": "markdown",
      "source": [
        "# Ray Actors\n",
        "You can create instances of Python classes as remote objects, or \"actors\"."
      ],
      "metadata": {
        "id": "rZIELZcVXxXq"
      }
    },
    {
      "cell_type": "markdown",
      "source": [
        "Let's look at a public dataset known as the Global Surface Summary of the Day (GSOD). The database maintains data from over 9,000 stations of daily summary information from these stations from 1929 to 2020.\n",
        "\n",
        "The task is to compute how many readings from 1980 and 2020 were 100 degrees or greater and determine if 2020 had more extreme temperatures than 1980.\n",
        "\n",
        "In order to implement a fair comparison, only stations that existed in both 1980 and 2020 should be considered. So, the logic of this experiment looks like this:\n",
        "\n",
        "Load 1980 data.\n",
        "Load 2020 data.\n",
        "Get a list of stations that existed in 1980.\n",
        "Get a list of stations that existed in 2020.\n",
        "Determine the intersection of stations.\n",
        "Get the number of readings that were 100 degrees or greater from the intersection of stations during 1980.\n",
        "Get the number of readings that were 100 degrees or greater from the intersection of stations during 2020.\n",
        "Print the results.\n",
        "\n",
        "1. Load 1980 data.\n",
        "2. Load 2020 data.\n",
        "3. Get a list of stations that existed in 1980.\n",
        "4. Get a list of stations that existed in 2020.\n",
        "5. Determine the intersection of stations.\n",
        "6. Get the number of readings that were 100 degrees or greater from the intersection of stations during 1980.\n",
        "7. Get the number of readings that were 100 degrees or greater from the intersection of stations during 2020.\n",
        "8. Print the results."
      ],
      "metadata": {
        "id": "HtrR6QGpYWFK"
      }
    },
    {
      "cell_type": "markdown",
      "source": [
        "Download data here\n",
        "\n",
        "https://www.ncei.noaa.gov/data/global-summary-of-the-day/archive/1980.tar.gz\n",
        "\n",
        "https://www.ncei.noaa.gov/data/global-summary-of-the-day/archive/2020.tar.gz"
      ],
      "metadata": {
        "id": "0fJrNtKc2NKg"
      }
    },
    {
      "cell_type": "code",
      "source": [
        "from collections import namedtuple\n",
        "import csv\n",
        "import tarfile\n",
        "import time\n",
        "\n",
        "import ray\n",
        "\n",
        "@ray.remote\n",
        "class GSODActor():\n",
        "\n",
        "    def __init__(self, year, high_temp):\n",
        "        self.high_temp = float(high_temp)\n",
        "        self.high_temp_count = None\n",
        "        self.rows = []\n",
        "        self.stations = None\n",
        "        self.year = year\n",
        "\n",
        "    def get_row_count(self):\n",
        "        return len(self.rows)\n",
        "\n",
        "    def get_high_temp_count(self):\n",
        "        if self.high_temp_count is None:\n",
        "            filtered = [l for l in self.rows if float(l.TEMP) >= self.high_temp]\n",
        "            self.high_temp_count = len(filtered)\n",
        "        return self.high_temp_count\n",
        "\n",
        "    def get_station_count(self):\n",
        "        return len(self.stations)\n",
        "\n",
        "    def get_stations(self):\n",
        "        return self.stations\n",
        "\n",
        "    def get_high_temp_count(self, stations):\n",
        "        filtered_rows = [l for l in self.rows if float(l.TEMP) >= self.high_temp and l.STATION in stations]\n",
        "        return len(filtered_rows)\n",
        "\n",
        "    def load_data(self):\n",
        "        file_name = self.year + '.tar.gz'\n",
        "        row = namedtuple('Row', ('STATION', 'DATE', 'LATITUDE', 'LONGITUDE', 'ELEVATION', 'NAME', 'TEMP', 'TEMP_ATTRIBUTES', 'DEWP',\n",
        "                                 'DEWP_ATTRIBUTES', 'SLP', 'SLP_ATTRIBUTES', 'STP', 'STP_ATTRIBUTES', 'VISIB', 'VISIB_ATTRIBUTES',\n",
        "                                 'WDSP', 'WDSP_ATTRIBUTES', 'MXSPD',\n",
        "                                 'GUST', 'MAX', 'MAX_ATTRIBUTES', 'MIN', 'MIN_ATTRIBUTES', 'PRCP',\n",
        "                                 'PRCP_ATTRIBUTES', 'SNDP', 'FRSHTT'))\n",
        "\n",
        "        tar = tarfile.open(file_name, 'r:gz')\n",
        "        for member in tar.getmembers():\n",
        "            member_handle = tar.extractfile(member)\n",
        "            byte_data = member_handle.read()\n",
        "            decoded_string = byte_data.decode()\n",
        "            lines = decoded_string.splitlines()\n",
        "            reader = csv.reader(lines, delimiter=',')\n",
        "\n",
        "            # Get all the rows in the member. Skip the header.\n",
        "            _ = next(reader)\n",
        "            file_rows = [row(*l) for l in reader]\n",
        "            self.rows += file_rows\n",
        "\n",
        "        self.stations = {l.STATION for l in self.rows}"
      ],
      "metadata": {
        "id": "VaSuIa0VWPPJ"
      },
      "execution_count": null,
      "outputs": []
    },
    {
      "cell_type": "markdown",
      "source": [
        "## Parallel logic"
      ],
      "metadata": {
        "id": "rybdWBq7hOkq"
      }
    },
    {
      "cell_type": "code",
      "source": [
        "# Code assumes you have the 1980.tar.gz and 2020.tar.gz files in your current working directory.\n",
        "def compare_years(year1, year2, high_temp):\n",
        "\n",
        "    # if you know that you need fewer than the default number of workers,\n",
        "    # you can modify the num_cpus parameter\n",
        "    ray.init(num_cpus=2)\n",
        "\n",
        "    # Create actor processes\n",
        "    gsod_y1 = GSODActor.remote(year1, high_temp)\n",
        "    gsod_y2 = GSODActor.remote(year2, high_temp)\n",
        "\n",
        "    ray.get([gsod_y1.load_data.remote(), gsod_y2.load_data.remote()])\n",
        "\n",
        "    y1_stations, y2_stations = ray.get([gsod_y1.get_stations.remote(),\n",
        "               \t                    gsod_y2.get_stations.remote()])\n",
        "\n",
        "    intersection = set.intersection(y1_stations, y2_stations)\n",
        "\n",
        "    y1_count, y2_count = ray.get([gsod_y1.get_high_temp_count.remote(intersection),\n",
        "                                  gsod_y2.get_high_temp_count.remote(intersection)])\n",
        "\n",
        "    print('Number of stations in common: {}'.format(len(intersection)))\n",
        "    print('{} - High temp count for common stations: {}'.format(year1, y1_count))\n",
        "    print('{} - High temp count for common stations: {}'.format(year2, y2_count))\n",
        "\n",
        "#Running the code below will output which year had more extreme temperatures\n",
        "compare_years('1980', '2020', 100)"
      ],
      "metadata": {
        "id": "TDgf3qTnhQip"
      },
      "execution_count": null,
      "outputs": []
    },
    {
      "cell_type": "markdown",
      "source": [
        "# Distributed Training"
      ],
      "metadata": {
        "id": "VxVS3PIjfaNi"
      }
    },
    {
      "cell_type": "code",
      "source": [
        "from ray.train.torch import TorchTrainer\n",
        "from ray.train import ScalingConfig, Checkpoint\n",
        "\n",
        "import torch\n",
        "from torchvision.models import resnet18\n",
        "from torchvision.datasets import FashionMNIST\n",
        "from torchvision.transforms import ToTensor, Normalize, Compose\n",
        "from torch.utils.data import DataLoader\n",
        "from torch.optim import Adam\n",
        "from torch.nn import CrossEntropyLoss\n",
        "\n",
        "checkpoint_dir = '.'\n",
        "\n",
        "def train_func(config):\n",
        "    # Model\n",
        "    model = resnet18(num_classes=10)\n",
        "    model.conv1 = torch.nn.Conv2d(1, 64, kernel_size=(7, 7), stride=(2, 2), padding=(3, 3), bias=False)\n",
        "\n",
        "    # Prepare model by ray\n",
        "    model = ray.train.torch.prepare_model(model)\n",
        "\n",
        "    criterion = CrossEntropyLoss()\n",
        "    optimizer = Adam(model.parameters(), lr=0.001)\n",
        "\n",
        "    # Data\n",
        "    transform = Compose([ToTensor(), Normalize((0.5,), (0.5,))])\n",
        "    train_data = FashionMNIST(root='./data', train=True, download=True, transform=transform)\n",
        "    train_loader = DataLoader(train_data, batch_size=128, shuffle=True)\n",
        "\n",
        "    # Prepare dataloader by ray\n",
        "    train_loader = ray.train.torch.prepare_data_loader(train_loader)\n",
        "\n",
        "    # Training\n",
        "    for epoch in range(2):\n",
        "        print(f'epoch {epoch}')\n",
        "        for images, labels in train_loader:\n",
        "            outputs = model(images)\n",
        "            loss = criterion(outputs, labels)\n",
        "            optimizer.zero_grad()\n",
        "            loss.backward()\n",
        "            optimizer.step()\n",
        "\n",
        "        checkpoint_path = checkpoint_dir + \"/model.checkpoint\"\n",
        "        torch.save(model.state_dict(), checkpoint_path)\n",
        "        # Report metrics and checkpoint.\n",
        "        ray.train.report({\"loss\": loss.item()}, checkpoint=Checkpoint.from_directory(checkpoint_dir))"
      ],
      "metadata": {
        "id": "JoZaso6_fQvn"
      },
      "execution_count": null,
      "outputs": []
    },
    {
      "cell_type": "code",
      "source": [
        "scaling_config = ScalingConfig(num_workers=2, use_gpu=False)\n",
        "trainer = TorchTrainer(train_func, scaling_config=scaling_config)\n",
        "result = trainer.fit()"
      ],
      "metadata": {
        "id": "6H6Gwm_LgPtf"
      },
      "execution_count": null,
      "outputs": []
    },
    {
      "cell_type": "code",
      "source": [
        "print(result.metrics[\"loss\"])"
      ],
      "metadata": {
        "id": "opCw7k75hD1A"
      },
      "execution_count": null,
      "outputs": []
    }
  ]
}