{
 "cells": [
  {
   "cell_type": "markdown",
   "metadata": {},
   "source": [
    "# iLykei Lecture Series\n",
    "# Text Analytics       \n",
    "# Word Embeddings\n",
    "\n",
    "\n",
    "## Yuri Balasanov, &copy; iLykei 2019-2023\n",
    "\n",
    "This notebook is based on Chapter 8 of Keras Deep Learning Cookbook, Rajeep Dua and Manpreet Singh Ghotra, 2018 Packt Publishing    \n",
    "It also uses the text:   \n",
    "Deep Learning for Natural Language Processing, © 2019 Jason Brownlee.   \n",
    "See also the [blog by Jason Brownlee](https://machinelearningmastery.com/about/)"
   ]
  },
  {
   "cell_type": "markdown",
   "metadata": {},
   "source": [
    "# Introduction to word embeddings   \n",
    "\n",
    "Word embeddings are a type of word representations that allows words with similar meaning to have a similar representation. They form a distributed representation for text on the space of numeric vectors that is perhaps one of the key breakthroughs for performance of deep learning methods in recent years.    \n",
    "\n",
    "One of the benefits of using dense and low-dimensional vectors is computational: the majority of neural network toolkits do not play well with very high-dimensional, sparse vectors. On the other side, the main benefit of the dense representations is generalization\n",
    "power: if there is a reason to believe that some features may provide similar clues, it is worthwhile to provide a representation, however multidimensional, that is able to capture these similarities.\n",
    "\n",
    "Word embeddings are in fact a class of techniques where individual words are represented as real-valued vectors in a predefined vector space. Each word is mapped to one vector and the vector values are learned in a way that resembles a neural network, and hence the technique is often lumped into the field of deep learning.\n",
    "\n",
    "Even though, embeddings often result in very high dimensions of representation vectors these dimensions are still lower than, possibly, thousands or millions of dimensions required for sparse word representations, such as a one hot encoding.   \n",
    "\n",
    "The distributed representation is learned based on the usage of words. This allows words that are used in similar ways to result in having similar representations, naturally capturing their meaning. **This is different from representation in a bag-of-words models where words are tagged based on frequencies or similar measures, rather than similarities in words meaning based on the context**.   \n",
    "\n",
    "There is deeper linguistic theory behind the approach, namely the distributional hypothesis by Zellig Harris that could be summarized as:    \n",
    "\"**words that have similar context will have similar meanings**\".   \n",
    "\n",
    "Word embedding methods learn a real-valued vector representation for a predefined fixed sized vocabulary from a corpus of text. The learning process is either supervised, based on classification, or is an unsupervised process, using document statistics.   \n",
    "\n",
    "# Word2Vec\n",
    "\n",
    "Word2Vec is one algorithm for learning a word embedding from a text corpus.    \n",
    "It was developed by Tomas Mikolov, et al. at Google in 2013 as a response to make the neural-network-based training of the embedding more efficient and since then has become the de facto standard for developing pre-trained word embedding.   \n",
    "\n",
    "Word2Vec models require a lot of text, e.g. the entire Wikipedia corpus. Nevertheless, demonstrate the principles using a small in-memory example of text.   \n",
    "\n",
    "Two approaches to learning used in Word2Vec are:     \n",
    "\n",
    "- Continuous Bag-of-Words, or CBOW model, which learns the embedding by predicting the current word based on its context   \n",
    "- Continuous Skip-Gram Model, which learns by predicting the surrounding words given a current word.\n",
    "\n",
    "## Gensim   \n",
    "\n",
    "Library Gensim provides the Word2Vec class for working with a Word2Vec models. Learning a word embedding from text involves loading and organizing the text into sentences and providing them to the constructor of a new Word2Vec() instance.   \n",
    "\n",
    "Specifically, each sentence must be tokenized, i.e. divided into words and prepared (e.g.  pre-filtered and converted to a preferred case).    \n",
    "The sentences could be text loaded into memory, or an iterator that progressively loads text, required for very large text corpora. There are many parameters on this constructor; a few most important of them are:    \n",
    "- `size`: (default 100) The number of dimensions of the embedding, e.g. the length of the dense vector to represent each token (word)   \n",
    "- `window`: (default 5) The maximum distance between a target word and words around the target word    \n",
    "- `min_count`: (default 5) The minimum count of words to consider when training the model; words with an occurrence less than this count will be ignored    \n",
    "- `workers`: (default 3) The number of threads to use while training   \n",
    "- `sg`: (default 0) The method of learning, which is either CBOW (0) or Continuous Skip Gram (1).   \n",
    "\n",
    "The defaults are often good enough when just getting started. If several cores are available it is recommended to increase number of workers to match the number of cores. \n",
    "\n",
    "After the model is trained, it is accessible via the `wv` attribute.    \n",
    "For example, print the learned vocabulary of tokens (words) as follows:   \n",
    "\n",
    "`words = list(model.wv.vocab)`    \n",
    "`print(words)`    \n",
    "\n",
    "The model can be reviewed using:\n",
    "`print(model['word'])`    \n",
    "\n",
    "Finally, a trained model can then be saved to file by calling the function `save_word2vec_format()` on the word vector model. By default, the model is saved in a binary format to save space. For example:   \n",
    "`model.wv.save_word2vec_format('model.bin')`    \n",
    "\n",
    "Beginners can save the learned model in ASCII format and review the contents. This can be done by setting `binary=False` when calling the `save_word2vec_format()` function, for example:      \n",
    "`model.wv.save_word2vec_format( ' model.txt ' , binary=False)`   \n",
    "\n",
    "The saved model can then be loaded again by calling the `Word2Vec.load()` function. For example:       \n",
    "`model = Word2Vec.load( ' model.bin ' )`    \n",
    "\n",
    "Here is a worked example. Rather than loading a large text document or corpus from file, create a small, in-memory list of pre-tokenized sentences from Romeo's monologue.     \n",
    "The model is trained with the minimum count for words set to 1, so that no words are ignored.     \n",
    "\n",
    "After the model is learned, summarize, print the vocabulary, then print a single vector for the word “love”.    \n",
    "Finally, the model is saved to a file in binary format, loaded,\n",
    "and then summarized."
   ]
  },
  {
   "cell_type": "code",
   "execution_count": 1,
   "metadata": {},
   "outputs": [],
   "source": [
    "from gensim.models import Word2Vec\n",
    "sentences = [['love', 'is', 'a', 'smoke', 'raised', 'with', 'the', 'fume', 'of', 'sighs'],\n",
    "             ['being', 'purged', 'a', 'fire', 'sparkling', 'in', 'lovers', 'eyes'],\n",
    "             ['being', 'vexed', 'a', 'sea', 'nourished', 'with', 'lovers', 'tears'],\n",
    "             ['what', 'is', 'it', 'else', '?', 'a', 'madness', 'most', 'discreet'],\n",
    "             ['a', 'choking', 'gall', 'and', 'a', 'preserving', 'sweet']]"
   ]
  },
  {
   "cell_type": "markdown",
   "metadata": {},
   "source": [
    "Gensim `Word2Vec` model can be trained on the given corpus of documents. As a result vectors of the given length will be created for each word in the corpus.    \n",
    "The method has syntax:   \n",
    "`Word2Vec(sent, window=5, min_count=5, size= 100, workers=3, sg = 0)`"
   ]
  },
  {
   "cell_type": "code",
   "execution_count": 2,
   "metadata": {},
   "outputs": [],
   "source": [
    "# train model\n",
    "model = Word2Vec(sentences, min_count=1)"
   ]
  },
  {
   "cell_type": "code",
   "execution_count": 3,
   "metadata": {},
   "outputs": [
    {
     "name": "stdout",
     "output_type": "stream",
     "text": [
      "Word2Vec<vocab=33, vector_size=100, alpha=0.025>\n",
      "['a', 'lovers', 'is', 'with', 'being', 'sweet', 'smoke', 'raised', 'the', 'fume', 'of', 'sighs', 'purged', 'fire', 'sparkling', 'in', 'eyes', 'preserving', 'vexed', 'sea', 'nourished', 'tears', 'what', 'it', 'else', '?', 'madness', 'most', 'discreet', 'choking', 'gall', 'and', 'love']\n"
     ]
    }
   ],
   "source": [
    "# summarize the loaded model\n",
    "print(model)\n",
    "# summarize vocabulary\n",
    "words = list(model.wv.key_to_index)\n",
    "print(words)"
   ]
  },
  {
   "cell_type": "markdown",
   "metadata": {},
   "source": [
    "Parameter `alpha` is the learning rate.   \n",
    "Check the dimension of the vector for one of the words."
   ]
  },
  {
   "cell_type": "code",
   "execution_count": 4,
   "metadata": {},
   "outputs": [
    {
     "name": "stdout",
     "output_type": "stream",
     "text": [
      "Vector for token \"love\": \n",
      "Shape: (100,) \n",
      "Vector:\n",
      " [ 6.4158854e-03 -8.9518158e-03 -7.3439488e-03 -1.7504806e-03\n",
      "  1.6984275e-03 -1.0345354e-03 -5.2026184e-03  6.5809321e-03\n",
      "  8.7819025e-03 -7.4124685e-03  9.8058553e-03  7.3639862e-03\n",
      " -7.4612605e-03 -1.8980185e-03  4.2513441e-03  7.0611471e-03\n",
      " -3.6642421e-03 -6.9740829e-03  4.7241068e-03 -9.0405112e-03\n",
      " -5.8483244e-03 -1.2816929e-03  5.4834695e-03 -5.6874342e-03\n",
      "  4.7849976e-03 -4.3369120e-04  2.6673891e-03  6.4025028e-03\n",
      "  1.4178640e-03  7.7068470e-03 -3.2075596e-04 -8.2649831e-03\n",
      "  9.1791386e-03 -4.8598563e-03  4.7215577e-03 -3.9028609e-03\n",
      " -7.3274672e-03 -6.5131541e-03  4.6759099e-03 -6.6220079e-04\n",
      "  1.4589089e-03 -8.9277672e-03 -5.1470171e-03 -6.0554314e-03\n",
      "  8.4137525e-03 -8.6962022e-03  5.0229500e-03 -8.6090731e-04\n",
      "  1.8985354e-04  8.8011874e-03 -3.5875789e-03 -6.9385916e-03\n",
      "  7.6354988e-04  7.7432278e-03  9.1222581e-03 -3.6853473e-03\n",
      "  2.7329260e-03  4.9417261e-03 -5.2917502e-03  6.8528838e-03\n",
      " -6.4535281e-03  2.1000148e-03  4.5883041e-03  4.3861144e-03\n",
      " -4.6676607e-03  2.6431938e-03  7.3075998e-03  8.6137177e-03\n",
      " -9.5130755e-03  5.5765584e-03  4.9685417e-03 -1.5925291e-03\n",
      "  9.1889100e-03 -4.1810335e-03 -1.7491434e-03 -6.8665408e-03\n",
      " -3.7761526e-03  2.4098941e-04 -3.2723448e-03 -5.4189232e-03\n",
      "  6.5684724e-03 -5.3051603e-03 -6.3222586e-03  7.6409536e-03\n",
      "  9.6511003e-03  3.9938851e-03  2.5597310e-05  7.8760600e-04\n",
      " -9.6286502e-04  6.8624397e-03 -6.2520774e-03  5.0803361e-04\n",
      "  4.2931302e-03 -2.1111628e-03  8.9487899e-04  3.7133389e-03\n",
      "  9.7085135e-03  2.1750596e-03  9.5005948e-03 -5.8288029e-03]\n",
      "Word2Vec<vocab=33, vector_size=100, alpha=0.025>\n"
     ]
    }
   ],
   "source": [
    "# access vector for one word\n",
    "print('Vector for token \"love\": \\nShape:',\n",
    "      model.wv['love'].shape,\n",
    "      \"\\nVector:\\n\",\n",
    "     model.wv['love'])\n",
    "\n",
    "# save model\n",
    "model.save('model.bin')\n",
    "# load model\n",
    "new_model = Word2Vec.load('model.bin')\n",
    "print(new_model)"
   ]
  },
  {
   "cell_type": "code",
   "execution_count": 5,
   "metadata": {},
   "outputs": [],
   "source": [
    "%matplotlib inline\n",
    "from sklearn.decomposition import PCA\n",
    "from matplotlib import pyplot"
   ]
  },
  {
   "cell_type": "code",
   "execution_count": 6,
   "metadata": {},
   "outputs": [
    {
     "data": {
      "image/png": "[encoded data removed]",
      "text/plain": [
       "<Figure size 640x480 with 1 Axes>"
      ]
     },
     "metadata": {},
     "output_type": "display_data"
    }
   ],
   "source": [
    "# fit a 2d PCA model to the vectors\n",
    "X = model.wv[model.wv.key_to_index]\n",
    "\n",
    "pca = PCA(n_components=2)\n",
    "result = pca.fit_transform(X)\n",
    "# create a scatter plot of the projection\n",
    "pyplot.scatter(result[:, 0], result[:, 1])\n",
    "words = list(model.wv.key_to_index)\n",
    "for i, word in enumerate(words):\n",
    "    pyplot.annotate(word, xy=(result[i, 0], result[i, 1]))\n",
    "pyplot.show()"
   ]
  },
  {
   "cell_type": "markdown",
   "metadata": {},
   "source": [
    "## Pre-trained embeddings\n",
    "\n",
    "Training special word vectors may be the best approach for a given NLP problem. But it can take a lot of computing resources, and perhaps some expertise.     \n",
    "\n",
    "An alternative is to simply use an existing pre-trained word embedding. Along with the paper and code for Word2Vec, Google also published a pre-trained Word2Vec model on the Word2Vec Google Code Project.    \n",
    "\n",
    "A pre-trained model is a file containing tokens and their associated word vectors. The pre-trained Google Word2Vec model was trained on Google news data (about 100 billion words); it contains 3 million words and phrases and was fit using 300-dimensional word vectors. It is a 1.53 Gigabyte file. You can download it from here:    \n",
    "[GoogleNews-vectors-negative300.bin.gz](https://drive.google.com/file/d/0B7XkCwpI5KDYNlNUTTlSS21pQmM/edit?usp=sharing).        \n",
    "Unzipped, the binary file (GoogleNews-vectors-negative300.bin) is 3.4 Gigabytes.     \n",
    "The Gensim library provides tools to load this file by calling the `KeyedVectors.load_word2vec_format()` function to load this model into memory.    \n",
    "\n",
    "Another option is GloVe.  \n",
    "The Global Vectors for Word Representation, or GloVe, algorithm is an extension to the Word2Vec method for efficiently learning word vectors, developed by Pennington, et al. at Stanford.    \n",
    "Classical vector space model representations of words were developed using matrix factorization techniques such as Latent Semantic Analysis (LSA) that do a good job of using global text statistics but are not as good as the learned methods like Word2Vec at capturing meaning and demonstrating it on tasks like calculating analogies.    "
   ]
  },
  {
   "cell_type": "markdown",
   "metadata": {},
   "source": [
    "`from gensim.scripts.glove2word2vec import glove2word2vec`    \n",
    "\n",
    "Convert glove to `word2vec` format:   \n",
    "\n",
    "`glove_input_file = 'glove.6B.100d.txt'`       \n",
    "`word2vec_output_file = 'glove.6B.100d.txt.word2vec'`       \n",
    "`glove2word2vec(glove_input_file, word2vec_output_file)`        \n",
    "\n",
    "Load the converted model:    \n",
    "\n",
    "`filename = 'glove.6B.100d.txt.word2vec'`    \n",
    "`model = KeyedVectors.load_word2vec_format(filename, binary=False)`       \n",
    "\n",
    "Calculate: `(king - man) + woman = ?`     \n",
    "\n",
    "`result = model.most_similar(positive=['woman', 'king'], negative=['man'], topn=1)`    \n",
    "`print(result)`    "
   ]
  },
  {
   "cell_type": "markdown",
   "metadata": {},
   "source": [
    "The third option is FastText.    \n",
    "Below use the pretrained FastText model with [embedding dimension 300](https://fasttext.cc/docs/en/english-vectors.html). "
   ]
  },
  {
   "cell_type": "code",
   "execution_count": 7,
   "metadata": {},
   "outputs": [],
   "source": [
    "from pathlib import Path\n",
    "import os\n",
    "emb_path=Path(os.getcwd()).parent.parent/\"Embeddings\""
   ]
  },
  {
   "cell_type": "code",
   "execution_count": 8,
   "metadata": {},
   "outputs": [
    {
     "name": "stdout",
     "output_type": "stream",
     "text": [
      "/home/yuri/Documents/NLP/Embeddings\n"
     ]
    }
   ],
   "source": [
    "print(emb_path)"
   ]
  },
  {
   "cell_type": "code",
   "execution_count": 9,
   "metadata": {},
   "outputs": [
    {
     "name": "stdout",
     "output_type": "stream",
     "text": [
      "[('queen', 0.738545835018158)]\n"
     ]
    }
   ],
   "source": [
    "from gensim.models import KeyedVectors\n",
    "\n",
    "model = KeyedVectors.load_word2vec_format(emb_path/'crawl-300d-2M.vec')\n",
    "\n",
    "# calculate: (king - man) + woman = ?\n",
    "result_1 = model.most_similar(positive=['woman', 'king'], negative=['man'], topn=1)\n",
    "print(result_1)"
   ]
  },
  {
   "cell_type": "markdown",
   "metadata": {},
   "source": [
    "Check the embedding space dimension."
   ]
  },
  {
   "cell_type": "code",
   "execution_count": 10,
   "metadata": {},
   "outputs": [
    {
     "data": {
      "text/plain": [
       "(300,)"
      ]
     },
     "execution_count": 10,
     "metadata": {},
     "output_type": "execute_result"
    }
   ],
   "source": [
    "model[\"king\"].shape"
   ]
  },
  {
   "cell_type": "markdown",
   "metadata": {},
   "source": [
    "Here is another nice example:"
   ]
  },
  {
   "cell_type": "code",
   "execution_count": 11,
   "metadata": {},
   "outputs": [
    {
     "name": "stdout",
     "output_type": "stream",
     "text": [
      "[('entrepeneur', 0.697232723236084), ('entreprenuer', 0.6770118474960327), ('mompreneur', 0.6741642355918884), ('businesswoman', 0.6718159914016724), ('momtrepreneur', 0.6638749241828918)]\n"
     ]
    }
   ],
   "source": [
    "result_2 = model.most_similar(positive=['entrepreneur','mother'], negative=['father'], topn=5)\n",
    "print(result_2)"
   ]
  },
  {
   "cell_type": "markdown",
   "metadata": {},
   "source": [
    "Any NLP model trained on large amount of text, like Wikipedia, may reflect any stereotypes and biases of the current society contained in the tran data.  \n",
    "Here is one example: \"doctor\" + \"mother\" - \"father\" results in the first choice \"nurse\" with confidence almost 70%."
   ]
  },
  {
   "cell_type": "code",
   "execution_count": 12,
   "metadata": {},
   "outputs": [
    {
     "name": "stdout",
     "output_type": "stream",
     "text": [
      "[('nurse', 0.6805988550186157), ('doctors', 0.6673180460929871), ('physician', 0.6519721746444702), ('gynecologist', 0.6482012271881104), ('docotor', 0.6292949914932251)]\n"
     ]
    }
   ],
   "source": [
    "result_3 = model.most_similar(positive=['doctor','mother'], negative=['father'], topn=5)\n",
    "print(result_3)"
   ]
  },
  {
   "cell_type": "markdown",
   "metadata": {},
   "source": [
    "Compare this with the score of clearly independent concepts."
   ]
  },
  {
   "cell_type": "code",
   "execution_count": 13,
   "metadata": {},
   "outputs": [
    {
     "name": "stdout",
     "output_type": "stream",
     "text": [
      "[('reading', 0.45657142996788025), ('re-read', 0.4526975452899933), ('reread', 0.4334571957588196), ('written', 0.4051706790924072), ('read.That', 0.3973703384399414)]\n"
     ]
    }
   ],
   "source": [
    "result_1 = model.most_similar(positive=['read'], negative=['swim'], topn=5)\n",
    "print(result_1)"
   ]
  },
  {
   "cell_type": "markdown",
   "metadata": {},
   "source": [
    "# Embedding layer in Keras"
   ]
  },
  {
   "cell_type": "code",
   "execution_count": 14,
   "metadata": {},
   "outputs": [
    {
     "name": "stderr",
     "output_type": "stream",
     "text": [
      "2023-08-06 21:22:57.598697: I tensorflow/core/platform/cpu_feature_guard.cc:193] This TensorFlow binary is optimized with oneAPI Deep Neural Network Library (oneDNN) to use the following CPU instructions in performance-critical operations:  AVX2 AVX_VNNI FMA\n",
      "To enable them in other operations, rebuild TensorFlow with the appropriate compiler flags.\n",
      "2023-08-06 21:22:57.704602: I tensorflow/core/util/port.cc:104] oneDNN custom operations are on. You may see slightly different numerical results due to floating-point round-off errors from different computation orders. To turn them off, set the environment variable `TF_ENABLE_ONEDNN_OPTS=0`.\n",
      "2023-08-06 21:22:57.707467: W tensorflow/compiler/xla/stream_executor/platform/default/dso_loader.cc:64] Could not load dynamic library 'libcudart.so.11.0'; dlerror: libcudart.so.11.0: cannot open shared object file: No such file or directory\n",
      "2023-08-06 21:22:57.707480: I tensorflow/compiler/xla/stream_executor/cuda/cudart_stub.cc:29] Ignore above cudart dlerror if you do not have a GPU set up on your machine.\n",
      "2023-08-06 21:22:58.338507: W tensorflow/compiler/xla/stream_executor/platform/default/dso_loader.cc:64] Could not load dynamic library 'libnvinfer.so.7'; dlerror: libnvinfer.so.7: cannot open shared object file: No such file or directory\n",
      "2023-08-06 21:22:58.338558: W tensorflow/compiler/xla/stream_executor/platform/default/dso_loader.cc:64] Could not load dynamic library 'libnvinfer_plugin.so.7'; dlerror: libnvinfer_plugin.so.7: cannot open shared object file: No such file or directory\n",
      "2023-08-06 21:22:58.338565: W tensorflow/compiler/tf2tensorrt/utils/py_utils.cc:38] TF-TRT Warning: Cannot dlopen some TensorRT libraries. If you would like to use Nvidia GPU with TensorRT, please make sure the missing libraries mentioned above are installed properly.\n"
     ]
    }
   ],
   "source": [
    "from numpy import array\n",
    "from tensorflow.keras.preprocessing.text import one_hot\n",
    "from tensorflow.keras.preprocessing.sequence import pad_sequences\n",
    "from tensorflow.keras.models import Sequential\n",
    "from tensorflow.keras.layers import Dense\n",
    "from tensorflow.keras.layers import Flatten\n",
    "#from tensorflow.keras.layers.embeddings import Embedding\n",
    "from tensorflow.keras.layers import Embedding"
   ]
  },
  {
   "cell_type": "markdown",
   "metadata": {},
   "source": [
    "Instead of using pre-trained embeddings like **Word2Vec** or **GloVe**, a slower, but more tailored to a particular text approach is provided by the embedding layer in Keras.    \n",
    "\n",
    "## Example   \n",
    "\n",
    "Create a set of documents with labels showing sentiment."
   ]
  },
  {
   "cell_type": "code",
   "execution_count": 15,
   "metadata": {},
   "outputs": [],
   "source": [
    "# define documents\n",
    "documents = ['Well done!',\n",
    "        'Good work',\n",
    "        'Great effort',\n",
    "        'nice work',\n",
    "        'Excellent!',\n",
    "        'Weak',\n",
    "        'Poor effort!',\n",
    "        'not good',\n",
    "        'poor work',\n",
    "        'Could have done better.']\n",
    "\n",
    "# define class labels\n",
    "labels = array([1,1,1,1,1,0,0,0,0,0])"
   ]
  },
  {
   "cell_type": "markdown",
   "metadata": {},
   "source": [
    "Embedding layer requires words represented by integers. Use function `one_hot()` to tokenize documents. This function, actually, instead of one-hot encoding does `hashing_trick()` which converts text into a sequence of fixed-sized integers or hashing space. "
   ]
  },
  {
   "cell_type": "code",
   "execution_count": 16,
   "metadata": {},
   "outputs": [
    {
     "name": "stdout",
     "output_type": "stream",
     "text": [
      "[[31, 19], [36, 7], [43, 27], [24, 7], [21], [45], [33, 27], [21, 36], [33, 7], [49, 13, 19, 37]]\n"
     ]
    }
   ],
   "source": [
    "vocab_size = 50\n",
    "encodeDocuments = [one_hot(doc, vocab_size) for doc in documents]\n",
    "print(encodeDocuments)"
   ]
  },
  {
   "cell_type": "markdown",
   "metadata": {},
   "source": [
    "Pad the texts to give them equal lengths."
   ]
  },
  {
   "cell_type": "code",
   "execution_count": 17,
   "metadata": {},
   "outputs": [
    {
     "name": "stdout",
     "output_type": "stream",
     "text": [
      "[[31 19  0  0]\n",
      " [36  7  0  0]\n",
      " [43 27  0  0]\n",
      " [24  7  0  0]\n",
      " [21  0  0  0]\n",
      " [45  0  0  0]\n",
      " [33 27  0  0]\n",
      " [21 36  0  0]\n",
      " [33  7  0  0]\n",
      " [49 13 19 37]]\n"
     ]
    }
   ],
   "source": [
    "max_length = 4\n",
    "paddedDocuments = pad_sequences(encodeDocuments, maxlen=max_length, padding='post')\n",
    "print(paddedDocuments)"
   ]
  },
  {
   "cell_type": "markdown",
   "metadata": {},
   "source": [
    "Create a model with `Embedding` as the first layer of the model.\n",
    "\n",
    "This layer can be trainable and learn word embeddings as part of model, or it can contain pre-trained embeddings.\n",
    "\n",
    "Arguments of the layer are:\n",
    "\n",
    "- `input_dim`: size of the vocabulary\n",
    "- `output_dim`: dimension of the vector space in which words are embedded\n",
    "- `input_length`: length of input sequences.\n",
    "\n",
    "The output from the layer is 4 8-dimensional vectors, one per word in the document.\n",
    "\n",
    "The model is a binary classifier predicting the sentiment.     \n",
    "\n",
    "## Trainable embeddings   \n",
    "\n",
    "Create a model with trainable embeddings."
   ]
  },
  {
   "cell_type": "code",
   "execution_count": 18,
   "metadata": {},
   "outputs": [
    {
     "name": "stdout",
     "output_type": "stream",
     "text": [
      "Model: \"sequential\"\n",
      "_________________________________________________________________\n",
      " Layer (type)                Output Shape              Param #   \n",
      "=================================================================\n",
      " embedding (Embedding)       (None, 4, 8)              400       \n",
      "                                                                 \n",
      " flatten (Flatten)           (None, 32)                0         \n",
      "                                                                 \n",
      " dense (Dense)               (None, 1)                 33        \n",
      "                                                                 \n",
      "=================================================================\n",
      "Total params: 433\n",
      "Trainable params: 433\n",
      "Non-trainable params: 0\n",
      "_________________________________________________________________\n",
      "None\n"
     ]
    },
    {
     "name": "stderr",
     "output_type": "stream",
     "text": [
      "2023-08-06 21:22:59.032844: W tensorflow/compiler/xla/stream_executor/platform/default/dso_loader.cc:64] Could not load dynamic library 'libcuda.so.1'; dlerror: libcuda.so.1: cannot open shared object file: No such file or directory\n",
      "2023-08-06 21:22:59.032864: W tensorflow/compiler/xla/stream_executor/cuda/cuda_driver.cc:265] failed call to cuInit: UNKNOWN ERROR (303)\n",
      "2023-08-06 21:22:59.032885: I tensorflow/compiler/xla/stream_executor/cuda/cuda_diagnostics.cc:156] kernel driver does not appear to be running on this host (yuri-XPS-9320): /proc/driver/nvidia/version does not exist\n",
      "2023-08-06 21:22:59.033086: I tensorflow/core/platform/cpu_feature_guard.cc:193] This TensorFlow binary is optimized with oneAPI Deep Neural Network Library (oneDNN) to use the following CPU instructions in performance-critical operations:  AVX2 AVX_VNNI FMA\n",
      "To enable them in other operations, rebuild TensorFlow with the appropriate compiler flags.\n"
     ]
    }
   ],
   "source": [
    "model = Sequential()\n",
    "model.add(Embedding(input_dim=vocab_size, output_dim=8, input_length=max_length))\n",
    "model.add(Flatten())\n",
    "model.add(Dense(1, activation='sigmoid'))\n",
    "model.compile(optimizer='adam', loss='binary_crossentropy', metrics=['acc'])\n",
    "print(model.summary())"
   ]
  },
  {
   "cell_type": "code",
   "execution_count": 19,
   "metadata": {},
   "outputs": [
    {
     "data": {
      "text/plain": [
       "<keras.callbacks.History at 0x7fdd18405e40>"
      ]
     },
     "execution_count": 19,
     "metadata": {},
     "output_type": "execute_result"
    }
   ],
   "source": [
    "model.fit(paddedDocuments, labels, epochs=50, verbose=0)"
   ]
  },
  {
   "cell_type": "markdown",
   "metadata": {},
   "source": [
    "Evaluate the model on training set: it is too small to split it into train and test."
   ]
  },
  {
   "cell_type": "code",
   "execution_count": 20,
   "metadata": {},
   "outputs": [
    {
     "name": "stdout",
     "output_type": "stream",
     "text": [
      "Accuracy: 89.999998\n"
     ]
    }
   ],
   "source": [
    "loss, accuracy = model.evaluate(paddedDocuments, labels, verbose=0)\n",
    "print('Accuracy: %f' % (accuracy*100))"
   ]
  },
  {
   "cell_type": "markdown",
   "metadata": {},
   "source": [
    "## Using pre-trained embeddings    \n",
    "\n",
    "Replace the embedding layer with non-trainable layer containing fixed embeddings from GloVe. "
   ]
  },
  {
   "cell_type": "code",
   "execution_count": 21,
   "metadata": {},
   "outputs": [],
   "source": [
    "from numpy import asarray, zeros\n",
    "from tensorflow.keras.preprocessing.text import Tokenizer"
   ]
  },
  {
   "cell_type": "markdown",
   "metadata": {},
   "source": [
    "Within Keras there is a more sophisticated API provided by the class `Tokenizer`. This class prepares larger NLP projects for deep learning modeling.    \n",
    "The fitted `Tokenizer` returns 4 attributes:\n",
    "\n",
    "- word_count: A dictionary mapping of words and their occurrence counts when the Tokenizer was fit\n",
    "- word_docs: A dictionary mapping of words and the number of documents that reach appears in\n",
    "- word_index: A dictionary of words and their uniquely assigned integers\n",
    "- document_count: A dictionary mapping and the number of documents they appear in calculated during the fit.   \n",
    "\n",
    "After fitting `Tokenizer` to training data, it can be used to encode documents in both\n",
    "train and test datasets.    \n",
    "The function `texts_to_matrix()` can be used to create one vector per document. The length of the vectors is the total size of the vocabulary.    \n",
    "This function is common for text encoding for standard bag-of-words models. It works in several modes.     \n",
    "The available modes include:    \n",
    "\n",
    "- binary: Whether or not each word is present in the document. This is the default\n",
    "- count: The count of each word in the document\n",
    "- tfidf: The Text Frequency-Inverse DocumentFrequency (TF-IDF) scoring for each word in the document\n",
    "- freq: The frequency of each word as a ratio of words within each document\n",
    "\n",
    "`Tokenizer` can be used to convert texts into numbers."
   ]
  },
  {
   "cell_type": "code",
   "execution_count": 22,
   "metadata": {},
   "outputs": [
    {
     "name": "stdout",
     "output_type": "stream",
     "text": [
      "[[6, 2], [3, 1], [7, 4], [8, 1], [9], [10], [5, 4], [11, 3], [5, 1], [12, 13, 2, 14]]\n"
     ]
    }
   ],
   "source": [
    "# use tokenizer and pad\n",
    "tokenizer = Tokenizer()\n",
    "tokenizer.fit_on_texts(documents)\n",
    "vocab_size = len(tokenizer.word_index) + 1\n",
    "encodeDocuments = tokenizer.texts_to_sequences(documents)\n",
    "print(encodeDocuments)\n"
   ]
  },
  {
   "cell_type": "markdown",
   "metadata": {},
   "source": [
    "To make all sentences with the same length pad them. "
   ]
  },
  {
   "cell_type": "code",
   "execution_count": 23,
   "metadata": {},
   "outputs": [
    {
     "name": "stdout",
     "output_type": "stream",
     "text": [
      "[[ 6  2  0  0]\n",
      " [ 3  1  0  0]\n",
      " [ 7  4  0  0]\n",
      " [ 8  1  0  0]\n",
      " [ 9  0  0  0]\n",
      " [10  0  0  0]\n",
      " [ 5  4  0  0]\n",
      " [11  3  0  0]\n",
      " [ 5  1  0  0]\n",
      " [12 13  2 14]]\n"
     ]
    }
   ],
   "source": [
    "max_length = 4\n",
    "paddedDocuments = pad_sequences(encodeDocuments, maxlen=max_length, padding='post')\n",
    "print(paddedDocuments)"
   ]
  },
  {
   "cell_type": "markdown",
   "metadata": {},
   "source": [
    "Download from [**Global Vectors for Words Representation**](https://nlp.stanford.edu/projects/glove/) the smallest file `glove.6B.zip` and extract file with vectors of dimension 100 from the archive: `glove.6B.100d.txt`. "
   ]
  },
  {
   "cell_type": "code",
   "execution_count": 24,
   "metadata": {},
   "outputs": [
    {
     "name": "stdout",
     "output_type": "stream",
     "text": [
      "400000\n"
     ]
    }
   ],
   "source": [
    "# load glove model\n",
    "inMemoryGlove = dict()\n",
    "f = open(emb_path/'glove.6B.100d.txt')\n",
    "for line in f:\n",
    "    values = line.split()\n",
    "    word = values[0]\n",
    "    coefficients = asarray(values[1:], dtype='float32')\n",
    "    inMemoryGlove[word] = coefficients\n",
    "f.close()\n",
    "print(len(inMemoryGlove))"
   ]
  },
  {
   "cell_type": "code",
   "execution_count": 25,
   "metadata": {},
   "outputs": [
    {
     "name": "stdout",
     "output_type": "stream",
     "text": [
      "First element:  the\n",
      "Vector for \"the\": \n",
      " [-0.038194 -0.24487   0.72812  -0.39961   0.083172  0.043953 -0.39141\n",
      "  0.3344   -0.57545   0.087459  0.28787  -0.06731   0.30906  -0.26384\n",
      " -0.13231  -0.20757   0.33395  -0.33848  -0.31743  -0.48336   0.1464\n",
      " -0.37304   0.34577   0.052041  0.44946  -0.46971   0.02628  -0.54155\n",
      " -0.15518  -0.14107  -0.039722  0.28277   0.14393   0.23464  -0.31021\n",
      "  0.086173  0.20397   0.52624   0.17164  -0.082378 -0.71787  -0.41531\n",
      "  0.20335  -0.12763   0.41367   0.55187   0.57908  -0.33477  -0.36559\n",
      " -0.54857  -0.062892  0.26584   0.30205   0.99775  -0.80481  -3.0243\n",
      "  0.01254  -0.36942   2.2167    0.72201  -0.24978   0.92136   0.034514\n",
      "  0.46745   1.1079   -0.19358  -0.074575  0.23353  -0.052062 -0.22044\n",
      "  0.057162 -0.15806  -0.30798  -0.41625   0.37972   0.15006  -0.53212\n",
      " -0.2055   -1.2526    0.071624  0.70565   0.49744  -0.42063   0.26148\n",
      " -1.538    -0.30223  -0.073438 -0.28312   0.37104  -0.25217   0.016215\n",
      " -0.017099 -0.38984   0.87424  -0.72569  -0.51058  -0.52028  -0.1459\n",
      "  0.8278    0.27062 ]\n"
     ]
    }
   ],
   "source": [
    "print('First element: ',list(inMemoryGlove.keys())[0])\n",
    "print('Vector for \"the\": \\n',list(inMemoryGlove.values())[0])"
   ]
  },
  {
   "cell_type": "markdown",
   "metadata": {},
   "source": [
    "Create a matrix of embeddings of all words in the corpus. Then load this matrix as weights of the layer Embedding and make it non-trainable."
   ]
  },
  {
   "cell_type": "code",
   "execution_count": 26,
   "metadata": {},
   "outputs": [
    {
     "name": "stdout",
     "output_type": "stream",
     "text": [
      "Model: \"sequential_1\"\n",
      "_________________________________________________________________\n",
      " Layer (type)                Output Shape              Param #   \n",
      "=================================================================\n",
      " embedding_1 (Embedding)     (None, 4, 100)            1500      \n",
      "                                                                 \n",
      " flatten_1 (Flatten)         (None, 400)               0         \n",
      "                                                                 \n",
      " dense_1 (Dense)             (None, 1)                 401       \n",
      "                                                                 \n",
      "=================================================================\n",
      "Total params: 1,901\n",
      "Trainable params: 401\n",
      "Non-trainable params: 1,500\n",
      "_________________________________________________________________\n",
      "None\n"
     ]
    }
   ],
   "source": [
    "# create coefficient matrix for training data\n",
    "trainingToEmbeddings = zeros((vocab_size, 100))\n",
    "for word, i in tokenizer.word_index.items():\n",
    "    gloveVector = inMemoryGlove.get(word)\n",
    "    if gloveVector is not None:\n",
    "        trainingToEmbeddings[i] = gloveVector\n",
    "\n",
    "model = Sequential()\n",
    "model.add(Embedding(vocab_size, 100, weights=[trainingToEmbeddings], \n",
    "                    input_length=max_length, trainable=False))\n",
    "model.add(Flatten())\n",
    "model.add(Dense(1, activation='sigmoid'))\n",
    "model.compile(optimizer='adam', loss='binary_crossentropy', metrics=['acc'])\n",
    "print(model.summary())"
   ]
  },
  {
   "cell_type": "markdown",
   "metadata": {},
   "source": [
    "Fit and validate the model."
   ]
  },
  {
   "cell_type": "code",
   "execution_count": 29,
   "metadata": {},
   "outputs": [
    {
     "data": {
      "text/plain": [
       "<keras.callbacks.History at 0x7fde003d1720>"
      ]
     },
     "execution_count": 29,
     "metadata": {},
     "output_type": "execute_result"
    }
   ],
   "source": [
    "model.fit(paddedDocuments, labels, epochs=50, verbose=0)"
   ]
  },
  {
   "cell_type": "code",
   "execution_count": 30,
   "metadata": {},
   "outputs": [
    {
     "name": "stdout",
     "output_type": "stream",
     "text": [
      "Accuracy: 100.000000\n"
     ]
    }
   ],
   "source": [
    "loss, accuracy = model.evaluate(paddedDocuments, labels, verbose=0)\n",
    "print('Accuracy: %f' % (accuracy * 100))"
   ]
  }
 ],
 "metadata": {
  "kernelspec": {
   "display_name": "Python 3 (ipykernel)",
   "language": "python",
   "name": "python3"
  },
  "language_info": {
   "codemirror_mode": {
    "name": "ipython",
    "version": 3
   },
   "file_extension": ".py",
   "mimetype": "text/x-python",
   "name": "python",
   "nbconvert_exporter": "python",
   "pygments_lexer": "ipython3",
   "version": "3.10.12"
  }
 },
 "nbformat": 4,
 "nbformat_minor": 2
}