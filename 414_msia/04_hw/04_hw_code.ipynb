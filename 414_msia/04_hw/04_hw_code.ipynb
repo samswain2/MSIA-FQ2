{
 "cells": [
  {
   "cell_type": "code",
   "execution_count": 2,
   "metadata": {},
   "outputs": [],
   "source": [
    "%matplotlib inline\n",
    "import numpy as np\n",
    "import pandas as pd\n",
    "import pickle\n",
    "from sklearn.preprocessing import LabelEncoder\n",
    "from sklearn.model_selection import train_test_split\n",
    "import os\n",
    "from pathlib import Path\n",
    "from sklearn.feature_extraction.text import CountVectorizer\n",
    "\n",
    "from tensorflow.keras.preprocessing.text import text_to_word_sequence, Tokenizer\n",
    "from tensorflow.keras.preprocessing.sequence import pad_sequences\n",
    "from tensorflow.keras.layers import Embedding\n",
    "from tensorflow.keras.layers import Dense,Embedding,Input,Dropout,Conv1D\n",
    "from tensorflow.keras.layers import SpatialDropout1D, Flatten,LSTM\n",
    "from tensorflow.keras.models import Model\n",
    "from tensorflow.keras.optimizers import Adam\n",
    "from tensorflow.keras.layers import BatchNormalization\n",
    "from tensorflow.keras.callbacks import EarlyStopping, ModelCheckpoint, TensorBoard\n",
    "from sklearn.metrics import roc_auc_score\n",
    "from tensorflow.keras.utils import plot_model"
   ]
  },
  {
   "cell_type": "code",
   "execution_count": 3,
   "metadata": {},
   "outputs": [],
   "source": [
    "# Load your Numpy arrays\n",
    "FS_labels = np.load('./data/FS_labels.npy', allow_pickle=True)\n",
    "FS_test = np.load('./data/FS_test.npy', allow_pickle=True)\n",
    "FS_train = np.load('./data/FS_train.npy', allow_pickle=True)"
   ]
  },
  {
   "cell_type": "code",
   "execution_count": 4,
   "metadata": {},
   "outputs": [],
   "source": [
    "# Create the training DataFrame\n",
    "train_df = pd.DataFrame(FS_train, columns=[\"text\"])\n",
    "train_df['label'] = FS_labels\n",
    "\n",
    "# Create the test DataFrame\n",
    "test_df = pd.DataFrame(FS_test, columns=[\"text\"])"
   ]
  },
  {
   "cell_type": "code",
   "execution_count": 5,
   "metadata": {},
   "outputs": [],
   "source": [
    "# Create embedding index from file in .txt format. First line contains \n",
    "# dictionary size and embedding dim. Fields are space separated\n",
    "def get_embeddings(file_name):\n",
    "    embeddings_index = {}\n",
    "    with open(file_name, encoding=\"utf8\") as f:\n",
    "        for line in f:\n",
    "            values = line.rstrip().split(' ')\n",
    "            if len(values) > 2:\n",
    "                embeddings_index[values[0]] = np.asarray(values[1:], dtype=\"float32\")\n",
    "    return embeddings_index\n",
    "embeddings_path = \"./crawl-300d-2M.vec\"\n",
    "embeddings_index = get_embeddings(embeddings_path)"
   ]
  },
  {
   "cell_type": "code",
   "execution_count": 6,
   "metadata": {},
   "outputs": [],
   "source": [
    "import string\n",
    "trans_table = str.maketrans({key: ' ' for key in string.digits + '\\r\\n' +\n",
    "                             string.punctuation.replace(\"\\'\",'')})\n",
    "def preprocess(text):\n",
    "    return ' '.join(text.lower().translate(trans_table).split(' '))"
   ]
  },
  {
   "cell_type": "code",
   "execution_count": 28,
   "metadata": {},
   "outputs": [
    {
     "name": "stdout",
     "output_type": "stream",
     "text": [
      "Creating the vocabulary of words occurred more than 5\n",
      "27005 top words\n"
     ]
    }
   ],
   "source": [
    "### PROCESS TRAINING DATA\n",
    "\n",
    "from sklearn.feature_extraction.text import CountVectorizer\n",
    "\n",
    "UNKNOWN_PROXY = 'unknown'\n",
    "MIN_WORD_OCCURRENCE = 5\n",
    "\n",
    "train_df['description'] = train_df.text.apply(preprocess)\n",
    "print(\"Creating the vocabulary of words occurred more than\", MIN_WORD_OCCURRENCE)\n",
    "\n",
    "vectorizer = CountVectorizer(lowercase=False, token_pattern=\"\\S+\", \n",
    "                             min_df=MIN_WORD_OCCURRENCE)\n",
    "vectorizer.fit(train_df.description)\n",
    "\n",
    "top_words = set(vectorizer.vocabulary_.keys())\n",
    "top_words.add(UNKNOWN_PROXY)\n",
    "print(len(top_words),'top words')\n",
    "\n",
    "\n",
    "### APPLY TO TEST DATA\n",
    "test_df['description'] = test_df.text.apply(preprocess)"
   ]
  },
  {
   "cell_type": "code",
   "execution_count": 29,
   "metadata": {},
   "outputs": [
    {
     "name": "stdout",
     "output_type": "stream",
     "text": [
      "First 10 out of \"top_words\": \n",
      " ['bush', 'toronto', 'crazy', 'pawn', 'rais', 'pahathmoab', 'unreal', 'uncomfortably', 'greece', 'limit']\n",
      "\n",
      "Is \"unknown\" in top_words? \n",
      " True\n"
     ]
    }
   ],
   "source": [
    "print('First 10 out of \"top_words\": \\n',list(top_words)[:10])\n",
    "print('\\nIs \"unknown\" in top_words? \\n','unknown' in top_words)"
   ]
  },
  {
   "cell_type": "code",
   "execution_count": 30,
   "metadata": {},
   "outputs": [],
   "source": [
    "def filter_unknown(text, vocabulary, proxy):\n",
    "    return ' '. \\\n",
    "join([w if w in vocabulary else proxy for w in text.split(' ')])"
   ]
  },
  {
   "cell_type": "code",
   "execution_count": 31,
   "metadata": {},
   "outputs": [],
   "source": [
    "train_df['description'] = train_df.description.apply(filter_unknown,\n",
    "                args=(set(embeddings_index.keys() & top_words), \\\n",
    "                      UNKNOWN_PROXY))\n",
    "\n",
    "test_df['description'] = test_df.description.apply(filter_unknown,\n",
    "                args=(set(embeddings_index.keys() & top_words), \\\n",
    "                      UNKNOWN_PROXY))"
   ]
  },
  {
   "cell_type": "code",
   "execution_count": 32,
   "metadata": {},
   "outputs": [
    {
     "name": "stdout",
     "output_type": "stream",
     "text": [
      "<keras.preprocessing.text.Tokenizer object at 0x00000295B3B82320>\n"
     ]
    }
   ],
   "source": [
    "tokenizer = Tokenizer(filters=\"\")\n",
    "tokenizer.fit_on_texts(train_df.description)\n",
    "print(tokenizer)"
   ]
  },
  {
   "cell_type": "code",
   "execution_count": 33,
   "metadata": {},
   "outputs": [
    {
     "name": "stdout",
     "output_type": "stream",
     "text": [
      "25195\n"
     ]
    },
    {
     "data": {
      "text/plain": [
       "[('unknown', 1),\n",
       " ('the', 2),\n",
       " ('and', 3),\n",
       " ('of', 4),\n",
       " ('to', 5),\n",
       " ('a', 6),\n",
       " ('in', 7),\n",
       " ('that', 8),\n",
       " ('he', 9),\n",
       " ('i', 10),\n",
       " ('it', 11),\n",
       " ('for', 12),\n",
       " ('his', 13),\n",
       " ('was', 14),\n",
       " ('is', 15),\n",
       " ('with', 16)]"
      ]
     },
     "execution_count": 33,
     "metadata": {},
     "output_type": "execute_result"
    }
   ],
   "source": [
    "word_index = tokenizer.word_index\n",
    "print(len(word_index))\n",
    "list(word_index.items())[:16]"
   ]
  },
  {
   "cell_type": "code",
   "execution_count": 34,
   "metadata": {},
   "outputs": [
    {
     "name": "stdout",
     "output_type": "stream",
     "text": [
      "\n",
      "First 2 sequences in `seq`:  [[1, 1, 1, 1, 1, 1, 1, 57, 50, 17, 10984, 7, 2, 161, 1, 57, 50, 17, 4011, 1, 57, 50, 17, 11749, 1, 41, 16393, 1, 8912, 1, 41, 19723, 1, 1, 57, 42, 747, 11750, 35, 7, 2, 456, 4, 42, 161, 1, 1, 1807, 1886, 41, 1807, 5296, 50, 17, 1, 1, 1, 1, 1, 1, 1, 1, 1, 63, 59, 1501, 41, 59, 5060, 9595, 36, 17, 98, 4, 79, 60, 1, 41, 4, 23, 71, 105, 142, 1, 51, 112, 47, 36, 103, 13, 128, 1886, 3, 13, 128, 3242, 1, 3, 36, 821, 246, 13, 248, 7, 32, 108, 1, 1, 1, 1, 1, 1, 1, 1, 1, 63, 236, 62, 33, 257, 71, 2942, 169, 1, 3, 2038, 1, 3, 3687, 49, 112, 60, 305, 49, 23, 13, 620, 1, 291, 203, 62, 2326, 1, 1, 1, 1, 12, 62, 86, 2326, 2, 1263, 4, 2, 140, 4, 109, 1, 1, 1, 1, 1, 1, 1, 1, 1, 1, 8, 24, 94, 377, 75, 1, 5, 489, 7, 71, 620, 1, 46, 143, 18, 24, 405, 7, 2, 161, 34, 62, 6079, 49, 90, 484, 1], [1, 1, 1, 1, 1, 1, 1, 3, 10, 48, 175, 6, 2327, 217, 37, 5, 319, 1, 1, 3, 38, 961, 25, 1, 1, 3, 1, 1, 1, 1, 3, 1, 1]]\n",
      "\n",
      "Shape of `data`:  (180000, 50)\n",
      "\n",
      "First prepared text in `data`: [    1     1     1     1     1     1     1    57    50    17 10984     7\n",
      "     2   161     1    57    50    17  4011     1    57    50    17 11749\n",
      "     1    41 16393     1  8912     1    41 19723     1     1    57    42\n",
      "   747 11750    35     7     2   456     4    42   161     1     1  1807\n",
      "  1886    41]\n"
     ]
    }
   ],
   "source": [
    "MAX_SEQUENCE_LENGTH = 50\n",
    "seq = tokenizer.texts_to_sequences(train_df.description)\n",
    "data = pad_sequences(seq,maxlen=MAX_SEQUENCE_LENGTH,padding='post',\n",
    "                     truncating='post')\n",
    "with open('./text_data.pkl','wb') as f: pickle.dump(data, f, -1)\n",
    "\n",
    "seq_test = tokenizer.texts_to_sequences(test_df.description)\n",
    "data_test = pad_sequences(seq_test,maxlen=MAX_SEQUENCE_LENGTH,padding='post', truncating='post')\n",
    "with open('./text_test_data.pkl','wb') as f: pickle.dump(data, f, -1)\n",
    "\n",
    "print('\\nFirst 2 sequences in `seq`: ',seq[:2])\n",
    "print('\\nShape of `data`: ',data.shape)\n",
    "print('\\nFirst prepared text in `data`:',data[0])"
   ]
  },
  {
   "cell_type": "code",
   "execution_count": 35,
   "metadata": {},
   "outputs": [
    {
     "name": "stdout",
     "output_type": "stream",
     "text": [
      "word_1\n",
      "word_2\n",
      "word_3\n",
      "enough\n",
      "enough\n"
     ]
    }
   ],
   "source": [
    "mlist=['word_1','word_2','word_3']\n",
    "moveIter=iter(mlist)\n",
    "print(next(moveIter,'enough'))\n",
    "print(next(moveIter,'enough'))\n",
    "print(next(moveIter,'enough'))\n",
    "print(next(moveIter,'enough'))\n",
    "print(next(moveIter,'enough'))"
   ]
  },
  {
   "cell_type": "code",
   "execution_count": 36,
   "metadata": {},
   "outputs": [
    {
     "data": {
      "text/plain": [
       "300"
      ]
     },
     "execution_count": 36,
     "metadata": {},
     "output_type": "execute_result"
    }
   ],
   "source": [
    "embeddings_dim = len(next(iter(embeddings_index.values())))\n",
    "embeddings_dim"
   ]
  },
  {
   "cell_type": "code",
   "execution_count": 38,
   "metadata": {},
   "outputs": [],
   "source": [
    "# Create embedding matrix\n",
    "def get_embedding_matrix(word_index,embeddings_index):\n",
    "    nb_words = len(word_index) + 1 # +1 since min(word_index.values())=1\n",
    "    embedding_matrix = np.zeros((nb_words,embeddings_dim))\n",
    "    unknown = 0\n",
    "    for word, i in word_index.items():\n",
    "        embedding_vector = embeddings_index.get(word)\n",
    "        if embedding_vector is None: unknown += 1\n",
    "        else: embedding_matrix[i] = embedding_vector\n",
    "    return embedding_matrix, unknown"
   ]
  },
  {
   "cell_type": "code",
   "execution_count": 39,
   "metadata": {},
   "outputs": [
    {
     "name": "stdout",
     "output_type": "stream",
     "text": [
      "0 unknown words\n"
     ]
    }
   ],
   "source": [
    "# Create embedding_layer and save it.\n",
    "def make_save_emb_layer(word_index,embeddings_index,layer_file_name):\n",
    "    embedding_matrix,unknown = get_embedding_matrix(word_index,embeddings_index)\n",
    "    embedding_layer = Embedding(embedding_matrix.shape[0],embedding_matrix.shape[1],\n",
    "                                weights=[embedding_matrix],trainable=False)\n",
    "    with open(layer_file_name,'wb') as f: \n",
    "        pickle.dump(embedding_layer, f, -1)\n",
    "    return unknown\n",
    "\n",
    "EMBEDDING_LAYER_FILE = './text_embed_layer.pkl'\n",
    "print(make_save_emb_layer(word_index,embeddings_index,EMBEDDING_LAYER_FILE),\n",
    "      'unknown words')"
   ]
  },
  {
   "cell_type": "code",
   "execution_count": 50,
   "metadata": {},
   "outputs": [],
   "source": [
    "from tensorflow.keras.layers import GlobalAveragePooling1D, GlobalMaxPooling1D, concatenate\n",
    "\n",
    "def get_more_complex_model():\n",
    "    input_layer = Input(shape=(MAX_SEQUENCE_LENGTH,))\n",
    "    x = embedding_layer(input_layer)\n",
    "    x = SpatialDropout1D(0.5)(x)\n",
    "    \n",
    "    # Stack multiple LSTM layers\n",
    "    x = LSTM(50, return_sequences=True)(x)\n",
    "    x = LSTM(50, return_sequences=True)(x)\n",
    "    \n",
    "    avg_pool = GlobalAveragePooling1D()(x)\n",
    "    max_pool = GlobalMaxPooling1D()(x)\n",
    "    conc = concatenate([avg_pool, max_pool])\n",
    "    \n",
    "    x = BatchNormalization()(conc)\n",
    "    x = Dropout(0.5)(x)  # Increased dropout rate\n",
    "    \n",
    "    # Multiple dense layers\n",
    "    x = Dense(100, activation=\"relu\")(x)\n",
    "    x = Dropout(0.5)(x)\n",
    "    x = Dense(50, activation=\"relu\")(x)\n",
    "    \n",
    "    output_layer = Dense(1, activation=\"sigmoid\")(x)\n",
    "    \n",
    "    model = Model(inputs=input_layer, outputs=output_layer)\n",
    "    model.compile(loss=\"binary_crossentropy\", optimizer='RMSprop')  # Changed optimizer\n",
    "    return model\n"
   ]
  },
  {
   "cell_type": "code",
   "execution_count": 61,
   "metadata": {},
   "outputs": [],
   "source": [
    "from tensorflow.keras.regularizers import l2\n",
    "\n",
    "def get_regularized_model():\n",
    "    input_layer = Input(shape=(MAX_SEQUENCE_LENGTH,))\n",
    "    x = embedding_layer(input_layer)\n",
    "    x = SpatialDropout1D(0.2)(x)\n",
    "    \n",
    "    # Adding L2 regularization to LSTM layers\n",
    "    x = LSTM(50, return_sequences=True, kernel_regularizer=l2(0.001))(x)\n",
    "    x = LSTM(50, return_sequences=True, kernel_regularizer=l2(0.001))(x)\n",
    "    \n",
    "    avg_pool = GlobalAveragePooling1D()(x)\n",
    "    max_pool = GlobalMaxPooling1D()(x)\n",
    "    conc = concatenate([avg_pool, max_pool])\n",
    "    \n",
    "    x = BatchNormalization()(conc)\n",
    "    x = Dropout(0.2)(x)\n",
    "    \n",
    "    # Adding L2 regularization to Dense layers\n",
    "    x = Dense(100, activation=\"relu\", kernel_regularizer=l2(0.001))(x)\n",
    "    x = Dropout(0.2)(x)\n",
    "    x = Dense(50, activation=\"relu\", kernel_regularizer=l2(0.001))(x)\n",
    "    \n",
    "    output_layer = Dense(1, activation=\"sigmoid\")(x)\n",
    "    \n",
    "    model = Model(inputs=input_layer, outputs=output_layer)\n",
    "    model.compile(loss=\"binary_crossentropy\", optimizer='RMSprop')\n",
    "    return model\n"
   ]
  },
  {
   "cell_type": "code",
   "execution_count": 18,
   "metadata": {},
   "outputs": [],
   "source": [
    "# def get_model():\n",
    "#     input_layer = Input(shape=(MAX_SEQUENCE_LENGTH,))\n",
    "#     x = embedding_layer(input_layer)\n",
    "#     x = SpatialDropout1D(0.5)(x)\n",
    "#     x = LSTM(10, return_sequences=True)(x)\n",
    "#     x = Conv1D(5, kernel_size=2, padding=\"valid\")(x)\n",
    "#     x = Flatten()(x)\n",
    "#     x = BatchNormalization()(x)\n",
    "#     x = Dropout(.2)(x)\n",
    "#     output_layer = Dense(1, activation=\"sigmoid\")(x)\n",
    "#     model = Model(inputs=input_layer, outputs=output_layer)\n",
    "#     model.compile(loss=\"binary_crossentropy\", optimizer=Adam())\n",
    "#     return model"
   ]
  },
  {
   "cell_type": "code",
   "execution_count": 41,
   "metadata": {},
   "outputs": [
    {
     "data": {
      "text/plain": [
       "(180000, 50)"
      ]
     },
     "execution_count": 41,
     "metadata": {},
     "output_type": "execute_result"
    }
   ],
   "source": [
    "data.shape"
   ]
  },
  {
   "cell_type": "code",
   "execution_count": 20,
   "metadata": {},
   "outputs": [],
   "source": [
    "labels_array = np.array(train_df['label'])\n",
    "\n",
    "with open(EMBEDDING_LAYER_FILE, 'rb') as f: \n",
    "    embedding_layer = pickle.load(f)\n",
    "\n",
    "with open('./text_data.pkl', 'rb') as f: \n",
    "    data = pickle.load(f)\n",
    "\n",
    "# Removed stratify parameter for a random split\n",
    "X_train, X_test, y_train, y_test = train_test_split(data, labels_array, test_size=0.2, random_state=0)"
   ]
  },
  {
   "cell_type": "code",
   "execution_count": 62,
   "metadata": {},
   "outputs": [
    {
     "name": "stdout",
     "output_type": "stream",
     "text": [
      "Model: \"model_7\"\n",
      "__________________________________________________________________________________________________\n",
      " Layer (type)                   Output Shape         Param #     Connected to                     \n",
      "==================================================================================================\n",
      " input_8 (InputLayer)           [(None, 50)]         0           []                               \n",
      "                                                                                                  \n",
      " embedding (Embedding)          (None, 50, 300)      7558800     ['input_8[0][0]']                \n",
      "                                                                                                  \n",
      " spatial_dropout1d_7 (SpatialDr  (None, 50, 300)     0           ['embedding[7][0]']              \n",
      " opout1D)                                                                                         \n",
      "                                                                                                  \n",
      " lstm_10 (LSTM)                 (None, 50, 50)       70200       ['spatial_dropout1d_7[0][0]']    \n",
      "                                                                                                  \n",
      " lstm_11 (LSTM)                 (None, 50, 50)       20200       ['lstm_10[0][0]']                \n",
      "                                                                                                  \n",
      " global_average_pooling1d_3 (Gl  (None, 50)          0           ['lstm_11[0][0]']                \n",
      " obalAveragePooling1D)                                                                            \n",
      "                                                                                                  \n",
      " global_max_pooling1d_3 (Global  (None, 50)          0           ['lstm_11[0][0]']                \n",
      " MaxPooling1D)                                                                                    \n",
      "                                                                                                  \n",
      " concatenate_3 (Concatenate)    (None, 100)          0           ['global_average_pooling1d_3[0][0\n",
      "                                                                 ]',                              \n",
      "                                                                  'global_max_pooling1d_3[0][0]'] \n",
      "                                                                                                  \n",
      " batch_normalization_7 (BatchNo  (None, 100)         400         ['concatenate_3[0][0]']          \n",
      " rmalization)                                                                                     \n",
      "                                                                                                  \n",
      " dropout_10 (Dropout)           (None, 100)          0           ['batch_normalization_7[0][0]']  \n",
      "                                                                                                  \n",
      " dense_13 (Dense)               (None, 100)          10100       ['dropout_10[0][0]']             \n",
      "                                                                                                  \n",
      " dropout_11 (Dropout)           (None, 100)          0           ['dense_13[0][0]']               \n",
      "                                                                                                  \n",
      " dense_14 (Dense)               (None, 50)           5050        ['dropout_11[0][0]']             \n",
      "                                                                                                  \n",
      " dense_15 (Dense)               (None, 1)            51          ['dense_14[0][0]']               \n",
      "                                                                                                  \n",
      "==================================================================================================\n",
      "Total params: 7,664,801\n",
      "Trainable params: 105,801\n",
      "Non-trainable params: 7,559,000\n",
      "__________________________________________________________________________________________________\n",
      "None\n",
      "You must install pydot (`pip install pydot`) and install graphviz (see instructions at https://graphviz.gitlab.io/download/) for plot_model to work.\n"
     ]
    }
   ],
   "source": [
    "best_model_path = 'best_model_WOW.h5'\n",
    "BATCH_SIZE = 512\n",
    "\n",
    "early_stopping = EarlyStopping(patience=2)\n",
    "model_checkpoint = ModelCheckpoint(best_model_path,\n",
    "                                   save_best_only=True, save_weights_only=True)\n",
    "model = get_regularized_model()\n",
    "print(model.summary())\n",
    "plot_model(model, to_file='wine_reviews.png',show_shapes=True,show_layer_names=True)"
   ]
  },
  {
   "cell_type": "code",
   "execution_count": 63,
   "metadata": {},
   "outputs": [
    {
     "name": "stdout",
     "output_type": "stream",
     "text": [
      "Epoch 1/100\n",
      "282/282 - 11s - loss: 0.8280 - val_loss: 0.8235 - 11s/epoch - 39ms/step\n",
      "Epoch 2/100\n",
      "282/282 - 6s - loss: 0.6555 - val_loss: 0.7430 - 6s/epoch - 22ms/step\n",
      "Epoch 3/100\n",
      "282/282 - 6s - loss: 0.6122 - val_loss: 0.6292 - 6s/epoch - 21ms/step\n",
      "Epoch 4/100\n",
      "282/282 - 6s - loss: 0.5931 - val_loss: 0.6072 - 6s/epoch - 21ms/step\n",
      "Epoch 5/100\n",
      "282/282 - 6s - loss: 0.5837 - val_loss: 0.5765 - 6s/epoch - 21ms/step\n",
      "Epoch 6/100\n",
      "282/282 - 6s - loss: 0.5761 - val_loss: 0.5741 - 6s/epoch - 21ms/step\n",
      "Epoch 7/100\n",
      "282/282 - 6s - loss: 0.5714 - val_loss: 0.5878 - 6s/epoch - 21ms/step\n",
      "Epoch 8/100\n",
      "282/282 - 6s - loss: 0.5682 - val_loss: 0.5709 - 6s/epoch - 21ms/step\n",
      "Epoch 9/100\n",
      "282/282 - 6s - loss: 0.5639 - val_loss: 0.5613 - 6s/epoch - 21ms/step\n",
      "Epoch 10/100\n",
      "282/282 - 6s - loss: 0.5622 - val_loss: 0.5940 - 6s/epoch - 21ms/step\n",
      "Epoch 11/100\n",
      "282/282 - 6s - loss: 0.5585 - val_loss: 0.5612 - 6s/epoch - 21ms/step\n",
      "Epoch 12/100\n",
      "282/282 - 6s - loss: 0.5570 - val_loss: 0.5729 - 6s/epoch - 21ms/step\n",
      "Epoch 13/100\n",
      "282/282 - 6s - loss: 0.5540 - val_loss: 0.5562 - 6s/epoch - 21ms/step\n",
      "Epoch 14/100\n",
      "282/282 - 6s - loss: 0.5530 - val_loss: 0.5626 - 6s/epoch - 21ms/step\n",
      "Epoch 15/100\n",
      "282/282 - 6s - loss: 0.5515 - val_loss: 0.5639 - 6s/epoch - 21ms/step\n",
      "Epoch 16/100\n",
      "282/282 - 6s - loss: 0.5490 - val_loss: 0.5534 - 6s/epoch - 22ms/step\n",
      "Epoch 17/100\n",
      "282/282 - 6s - loss: 0.5477 - val_loss: 0.5634 - 6s/epoch - 22ms/step\n",
      "Epoch 18/100\n",
      "282/282 - 6s - loss: 0.5453 - val_loss: 0.5525 - 6s/epoch - 20ms/step\n",
      "Epoch 19/100\n",
      "282/282 - 6s - loss: 0.5453 - val_loss: 0.5458 - 6s/epoch - 21ms/step\n",
      "Epoch 20/100\n",
      "282/282 - 6s - loss: 0.5434 - val_loss: 0.5509 - 6s/epoch - 20ms/step\n",
      "Epoch 21/100\n",
      "282/282 - 6s - loss: 0.5412 - val_loss: 0.5415 - 6s/epoch - 20ms/step\n",
      "Epoch 22/100\n",
      "282/282 - 6s - loss: 0.5406 - val_loss: 0.5363 - 6s/epoch - 20ms/step\n",
      "Epoch 23/100\n",
      "282/282 - 6s - loss: 0.5396 - val_loss: 0.5559 - 6s/epoch - 20ms/step\n",
      "Epoch 24/100\n",
      "282/282 - 6s - loss: 0.5390 - val_loss: 0.5300 - 6s/epoch - 20ms/step\n",
      "Epoch 25/100\n",
      "282/282 - 6s - loss: 0.5370 - val_loss: 0.5475 - 6s/epoch - 22ms/step\n",
      "Epoch 26/100\n",
      "282/282 - 6s - loss: 0.5363 - val_loss: 0.5469 - 6s/epoch - 22ms/step\n",
      "Epoch 27/100\n",
      "282/282 - 7s - loss: 0.5343 - val_loss: 0.5437 - 7s/epoch - 25ms/step\n",
      "Epoch 28/100\n",
      "282/282 - 6s - loss: 0.5329 - val_loss: 0.5486 - 6s/epoch - 22ms/step\n",
      "Epoch 29/100\n",
      "282/282 - 8s - loss: 0.5332 - val_loss: 0.5871 - 8s/epoch - 28ms/step\n",
      "Epoch 30/100\n",
      "282/282 - 9s - loss: 0.5319 - val_loss: 0.5540 - 9s/epoch - 31ms/step\n",
      "Epoch 31/100\n",
      "282/282 - 9s - loss: 0.5299 - val_loss: 0.5419 - 9s/epoch - 32ms/step\n",
      "Epoch 32/100\n",
      "282/282 - 9s - loss: 0.5303 - val_loss: 0.5349 - 9s/epoch - 31ms/step\n",
      "Epoch 33/100\n",
      "282/282 - 9s - loss: 0.5298 - val_loss: 0.5416 - 9s/epoch - 32ms/step\n",
      "Epoch 34/100\n",
      "282/282 - 9s - loss: 0.5283 - val_loss: 0.5510 - 9s/epoch - 31ms/step\n",
      "Epoch 35/100\n",
      "282/282 - 9s - loss: 0.5272 - val_loss: 0.5415 - 9s/epoch - 31ms/step\n",
      "Epoch 36/100\n",
      "282/282 - 9s - loss: 0.5263 - val_loss: 0.5431 - 9s/epoch - 30ms/step\n",
      "Epoch 37/100\n",
      "282/282 - 9s - loss: 0.5261 - val_loss: 0.5377 - 9s/epoch - 31ms/step\n",
      "Epoch 38/100\n",
      "282/282 - 8s - loss: 0.5248 - val_loss: 0.5492 - 8s/epoch - 29ms/step\n",
      "Epoch 39/100\n",
      "282/282 - 9s - loss: 0.5246 - val_loss: 0.5460 - 9s/epoch - 31ms/step\n",
      "Epoch 40/100\n",
      "282/282 - 9s - loss: 0.5230 - val_loss: 0.5377 - 9s/epoch - 31ms/step\n",
      "Epoch 41/100\n",
      "282/282 - 9s - loss: 0.5221 - val_loss: 0.5281 - 9s/epoch - 31ms/step\n",
      "Epoch 42/100\n",
      "282/282 - 9s - loss: 0.5213 - val_loss: 0.5467 - 9s/epoch - 30ms/step\n",
      "Epoch 43/100\n",
      "282/282 - 9s - loss: 0.5213 - val_loss: 0.5314 - 9s/epoch - 31ms/step\n",
      "Epoch 44/100\n",
      "282/282 - 8s - loss: 0.5204 - val_loss: 0.5491 - 8s/epoch - 29ms/step\n",
      "Epoch 45/100\n",
      "282/282 - 8s - loss: 0.5190 - val_loss: 0.5360 - 8s/epoch - 27ms/step\n",
      "Epoch 46/100\n",
      "282/282 - 8s - loss: 0.5188 - val_loss: 0.5277 - 8s/epoch - 30ms/step\n",
      "Epoch 47/100\n",
      "282/282 - 8s - loss: 0.5175 - val_loss: 0.5341 - 8s/epoch - 27ms/step\n",
      "Epoch 48/100\n",
      "282/282 - 7s - loss: 0.5165 - val_loss: 0.5265 - 7s/epoch - 26ms/step\n",
      "Epoch 49/100\n",
      "282/282 - 8s - loss: 0.5172 - val_loss: 0.5415 - 8s/epoch - 27ms/step\n",
      "Epoch 50/100\n",
      "282/282 - 8s - loss: 0.5150 - val_loss: 0.5493 - 8s/epoch - 27ms/step\n",
      "Epoch 51/100\n",
      "282/282 - 8s - loss: 0.5153 - val_loss: 0.5249 - 8s/epoch - 27ms/step\n",
      "Epoch 52/100\n",
      "282/282 - 6s - loss: 0.5151 - val_loss: 0.5584 - 6s/epoch - 22ms/step\n",
      "Epoch 53/100\n",
      "282/282 - 5s - loss: 0.5139 - val_loss: 0.5744 - 5s/epoch - 19ms/step\n",
      "Epoch 54/100\n",
      "282/282 - 5s - loss: 0.5136 - val_loss: 0.5398 - 5s/epoch - 19ms/step\n",
      "Epoch 55/100\n",
      "282/282 - 6s - loss: 0.5129 - val_loss: 0.5418 - 6s/epoch - 20ms/step\n",
      "Epoch 56/100\n",
      "282/282 - 6s - loss: 0.5119 - val_loss: 0.5185 - 6s/epoch - 20ms/step\n",
      "Epoch 57/100\n",
      "282/282 - 6s - loss: 0.5113 - val_loss: 0.5288 - 6s/epoch - 20ms/step\n",
      "Epoch 58/100\n",
      "282/282 - 6s - loss: 0.5103 - val_loss: 0.5356 - 6s/epoch - 20ms/step\n",
      "Epoch 59/100\n",
      "282/282 - 6s - loss: 0.5098 - val_loss: 0.5729 - 6s/epoch - 20ms/step\n",
      "Epoch 60/100\n",
      "282/282 - 6s - loss: 0.5094 - val_loss: 0.5315 - 6s/epoch - 20ms/step\n",
      "Epoch 61/100\n",
      "282/282 - 6s - loss: 0.5091 - val_loss: 0.5204 - 6s/epoch - 21ms/step\n",
      "Epoch 62/100\n",
      "282/282 - 6s - loss: 0.5087 - val_loss: 0.5325 - 6s/epoch - 21ms/step\n",
      "Epoch 63/100\n",
      "282/282 - 6s - loss: 0.5081 - val_loss: 0.5168 - 6s/epoch - 21ms/step\n",
      "Epoch 64/100\n",
      "282/282 - 5s - loss: 0.5072 - val_loss: 0.5597 - 5s/epoch - 19ms/step\n",
      "Epoch 65/100\n",
      "282/282 - 5s - loss: 0.5078 - val_loss: 0.5528 - 5s/epoch - 19ms/step\n",
      "Epoch 66/100\n",
      "282/282 - 6s - loss: 0.5064 - val_loss: 0.5151 - 6s/epoch - 20ms/step\n",
      "Epoch 67/100\n",
      "282/282 - 6s - loss: 0.5057 - val_loss: 0.5371 - 6s/epoch - 20ms/step\n",
      "Epoch 68/100\n",
      "282/282 - 6s - loss: 0.5050 - val_loss: 0.5377 - 6s/epoch - 20ms/step\n",
      "Epoch 69/100\n",
      "282/282 - 5s - loss: 0.5046 - val_loss: 0.5219 - 5s/epoch - 19ms/step\n",
      "Epoch 70/100\n",
      "282/282 - 6s - loss: 0.5037 - val_loss: 0.5414 - 6s/epoch - 20ms/step\n",
      "Epoch 71/100\n",
      "282/282 - 5s - loss: 0.5034 - val_loss: 0.5182 - 5s/epoch - 19ms/step\n",
      "Epoch 72/100\n",
      "282/282 - 7s - loss: 0.5017 - val_loss: 0.5232 - 7s/epoch - 23ms/step\n",
      "Epoch 73/100\n",
      "282/282 - 7s - loss: 0.5021 - val_loss: 0.5112 - 7s/epoch - 24ms/step\n",
      "Epoch 74/100\n",
      "282/282 - 5s - loss: 0.5026 - val_loss: 0.5326 - 5s/epoch - 19ms/step\n",
      "Epoch 75/100\n",
      "282/282 - 6s - loss: 0.5017 - val_loss: 0.5313 - 6s/epoch - 20ms/step\n",
      "Epoch 76/100\n",
      "282/282 - 5s - loss: 0.5014 - val_loss: 0.5480 - 5s/epoch - 19ms/step\n",
      "Epoch 77/100\n",
      "282/282 - 5s - loss: 0.4995 - val_loss: 0.5327 - 5s/epoch - 19ms/step\n",
      "Epoch 78/100\n",
      "282/282 - 5s - loss: 0.4995 - val_loss: 0.5456 - 5s/epoch - 19ms/step\n",
      "Epoch 79/100\n",
      "282/282 - 5s - loss: 0.4997 - val_loss: 0.5125 - 5s/epoch - 19ms/step\n",
      "Epoch 80/100\n",
      "282/282 - 6s - loss: 0.4985 - val_loss: 0.5419 - 6s/epoch - 21ms/step\n",
      "Epoch 81/100\n",
      "282/282 - 7s - loss: 0.4991 - val_loss: 0.5396 - 7s/epoch - 24ms/step\n",
      "Epoch 82/100\n",
      "282/282 - 7s - loss: 0.4976 - val_loss: 0.5263 - 7s/epoch - 26ms/step\n",
      "Epoch 83/100\n",
      "282/282 - 7s - loss: 0.4984 - val_loss: 0.5219 - 7s/epoch - 26ms/step\n",
      "Epoch 84/100\n",
      "282/282 - 6s - loss: 0.4951 - val_loss: 0.5314 - 6s/epoch - 20ms/step\n",
      "Epoch 85/100\n",
      "282/282 - 5s - loss: 0.4954 - val_loss: 0.5203 - 5s/epoch - 19ms/step\n",
      "Epoch 86/100\n",
      "282/282 - 6s - loss: 0.4953 - val_loss: 0.5192 - 6s/epoch - 20ms/step\n",
      "Epoch 87/100\n",
      "282/282 - 6s - loss: 0.4950 - val_loss: 0.5225 - 6s/epoch - 20ms/step\n",
      "Epoch 88/100\n",
      "282/282 - 5s - loss: 0.4953 - val_loss: 0.5254 - 5s/epoch - 19ms/step\n",
      "Epoch 89/100\n",
      "282/282 - 5s - loss: 0.4953 - val_loss: 0.5268 - 5s/epoch - 19ms/step\n",
      "Epoch 90/100\n",
      "282/282 - 5s - loss: 0.4945 - val_loss: 0.5250 - 5s/epoch - 19ms/step\n",
      "Epoch 91/100\n",
      "282/282 - 6s - loss: 0.4935 - val_loss: 0.5179 - 6s/epoch - 22ms/step\n",
      "Epoch 92/100\n",
      "282/282 - 7s - loss: 0.4934 - val_loss: 0.5161 - 7s/epoch - 26ms/step\n",
      "Epoch 93/100\n",
      "282/282 - 6s - loss: 0.4931 - val_loss: 0.5334 - 6s/epoch - 22ms/step\n",
      "Epoch 94/100\n",
      "282/282 - 5s - loss: 0.4923 - val_loss: 0.5201 - 5s/epoch - 19ms/step\n",
      "Epoch 95/100\n",
      "282/282 - 5s - loss: 0.4913 - val_loss: 0.5281 - 5s/epoch - 19ms/step\n",
      "Epoch 96/100\n",
      "282/282 - 5s - loss: 0.4906 - val_loss: 0.5162 - 5s/epoch - 19ms/step\n",
      "Epoch 97/100\n",
      "282/282 - 5s - loss: 0.4901 - val_loss: 0.5349 - 5s/epoch - 19ms/step\n",
      "Epoch 98/100\n",
      "282/282 - 5s - loss: 0.4894 - val_loss: 0.5170 - 5s/epoch - 19ms/step\n",
      "Epoch 99/100\n",
      "282/282 - 5s - loss: 0.4907 - val_loss: 0.5183 - 5s/epoch - 19ms/step\n",
      "Epoch 100/100\n",
      "282/282 - 5s - loss: 0.4897 - val_loss: 0.5203 - 5s/epoch - 19ms/step\n",
      "validation AUC 0.840791611813334\n"
     ]
    }
   ],
   "source": [
    "hist = model.fit(X_train, y_train,validation_data=(X_test, y_test),\n",
    "                 epochs=100, batch_size=BATCH_SIZE, shuffle=True, verbose=2,\n",
    "                 callbacks=[model_checkpoint])\n",
    "model.load_weights(best_model_path)\n",
    "test_pred = model.predict(X_test, batch_size=BATCH_SIZE, verbose=0)\n",
    "print('validation AUC',roc_auc_score(y_test, test_pred))"
   ]
  },
  {
   "cell_type": "code",
   "execution_count": 56,
   "metadata": {},
   "outputs": [
    {
     "data": {
      "text/plain": [
       "<matplotlib.legend.Legend at 0x295a46aef50>"
      ]
     },
     "execution_count": 56,
     "metadata": {},
     "output_type": "execute_result"
    },
    {
     "data": {
      "image/png": "[encoded data removed]",
      "text/plain": [
       "<Figure size 640x480 with 1 Axes>"
      ]
     },
     "metadata": {},
     "output_type": "display_data"
    }
   ],
   "source": [
    "import matplotlib.pyplot as plt\n",
    "plt.plot(hist.history['loss'])\n",
    "plt.plot(hist.history['val_loss'])\n",
    "plt.title('model loss')\n",
    "plt.ylabel('loss')\n",
    "plt.xlabel('epoch')\n",
    "plt.legend(['train', 'test'], loc='upper right')"
   ]
  },
  {
   "cell_type": "markdown",
   "metadata": {},
   "source": [
    "### Get submission predictions"
   ]
  },
  {
   "cell_type": "code",
   "execution_count": 57,
   "metadata": {},
   "outputs": [],
   "source": [
    "test_pred = model.predict(data_test, batch_size=BATCH_SIZE, verbose=0)"
   ]
  },
  {
   "cell_type": "code",
   "execution_count": 58,
   "metadata": {},
   "outputs": [],
   "source": [
    "# Round predictions to the nearest integer (0 or 1)\n",
    "rounded_test_pred = np.round(test_pred).astype(int)\n",
    "\n",
    "# Save the rounded predictions to a CSV file\n",
    "np.savetxt('submission.csv', rounded_test_pred, fmt='%d', delimiter=',')"
   ]
  }
 ],
 "metadata": {
  "kernelspec": {
   "display_name": ".venv",
   "language": "python",
   "name": "python3"
  },
  "language_info": {
   "codemirror_mode": {
    "name": "ipython",
    "version": 3
   },
   "file_extension": ".py",
   "mimetype": "text/x-python",
   "name": "python",
   "nbconvert_exporter": "python",
   "pygments_lexer": "ipython3",
   "version": "3.10.7"
  }
 },
 "nbformat": 4,
 "nbformat_minor": 2
}
