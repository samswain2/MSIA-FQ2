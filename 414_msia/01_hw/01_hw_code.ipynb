{
 "cells": [
  {
   "cell_type": "code",
   "execution_count": 1,
   "metadata": {},
   "outputs": [],
   "source": [
    "import re\n",
    "\n",
    "# Given text\n",
    "text = \"\"\"The quick brown fox jumps over the lazy dog. The cat is on the mat. Theology is the study of religious belief. \n",
    "Other animals also inhabit the forest. The_quick_brown_dog chases its tail. The25 students attended the lecture. \n",
    "There are many theories about the origin of the universe. The sun shines brightly in the sky. The_quick_brown_fox \n",
    "is a popular phrase. The end of the story is unexpected. The weather is getting colder. The_1234 project deadline \n",
    "is approaching. There is no doubt that the event will be a success. The team celebrated their victory. \n",
    "The_quick_brown_fox is known for its speed. The123 students scored well in the exam. The_quick_brown_dog is friendly. \n",
    "The_25th anniversary of the school is approaching. The beginning of the book is captivating. The result was beyond \n",
    "their expectations. The_theory needs further investigation.\"\"\""
   ]
  },
  {
   "cell_type": "code",
   "execution_count": 3,
   "metadata": {},
   "outputs": [],
   "source": [
    "# Regular expression to find 'the' as a whole word and case-insensitive\n",
    "regex = re.compile(r'\\b(the)\\b', re.IGNORECASE)\n",
    "\n",
    "# Find all matches\n",
    "matches = regex.findall(text)\n",
    "\n",
    "# Count the number of matches\n",
    "match_count = len(matches)\n",
    "\n",
    "# Highlight all matches by making them bold\n",
    "highlighted_text = regex.sub(r'<b>\\1</b>', text)"
   ]
  },
  {
   "cell_type": "code",
   "execution_count": 9,
   "metadata": {},
   "outputs": [],
   "source": [
    "# Create an HTML report\n",
    "html_report = f\"\"\"\n",
    "<html>\n",
    "<head>\n",
    "    <title>Regular Expression Report</title>\n",
    "</head>\n",
    "<body>\n",
    "    <h1>Regular Expression Report</h1>\n",
    "    <h2>Python Code and Regular Expression</h2>\n",
    "    <pre>\n",
    "    import re\n",
    "\n",
    "    # Given text\n",
    "    text = \"The quick brown fox jumps over the lazy dog. The cat is on the mat. Theology is the study of religious belief. \n",
    "    Other animals also inhabit the forest. The_quick_brown_dog chases its tail. The25 students attended the lecture. \n",
    "    There are many theories about the origin of the universe. The sun shines brightly in the sky. The_quick_brown_fox \n",
    "    is a popular phrase. The end of the story is unexpected. The weather is getting colder. The_1234 project deadline \n",
    "    is approaching. There is no doubt that the event will be a success. The team celebrated their victory. \n",
    "    The_quick_brown_fox is known for its speed. The123 students scored well in the exam. The_quick_brown_dog is friendly. \n",
    "    The_25th anniversary of the school is approaching. The beginning of the book is captivating. The result was beyond \n",
    "    their expectations. The_theory needs further investigation.\"\n",
    "\n",
    "    # Regular expression to find 'the' as a whole word and case-insensitive\n",
    "    regex = re.compile(r'\\\\b(the)\\\\b', re.IGNORECASE)\n",
    "\n",
    "    # Find all matches\n",
    "    matches = regex.findall(text)\n",
    "\n",
    "    # Count the number of matches\n",
    "    match_count = len(matches)\n",
    "\n",
    "    # Highlight all matches by making them bold\n",
    "    highlighted_text = regex.sub(r'<b>\\\\1</b>', text)\n",
    "    </pre>\n",
    "    \n",
    "    <h2>List of Matches</h2>\n",
    "    <p>{matches}</p>\n",
    "    \n",
    "    <h2>Count of Matches</h2>\n",
    "    <p>{match_count}</p>\n",
    "    \n",
    "    <h2>Highlighted Text</h2>\n",
    "    <p>{highlighted_text}</p>\n",
    "</body>\n",
    "</html>\n",
    "\"\"\"\n",
    "\n",
    "# Save the HTML report to a file\n",
    "with open(\"./regex_report.html\", \"w\") as f:\n",
    "    f.write(html_report)\n"
   ]
  }
 ],
 "metadata": {
  "kernelspec": {
   "display_name": "base",
   "language": "python",
   "name": "python3"
  },
  "language_info": {
   "codemirror_mode": {
    "name": "ipython",
    "version": 3
   },
   "file_extension": ".py",
   "mimetype": "text/x-python",
   "name": "python",
   "nbconvert_exporter": "python",
   "pygments_lexer": "ipython3",
   "version": "3.10.4"
  },
  "orig_nbformat": 4
 },
 "nbformat": 4,
 "nbformat_minor": 2
}
