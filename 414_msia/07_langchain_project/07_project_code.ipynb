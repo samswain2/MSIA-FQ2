{
 "cells": [
  {
   "cell_type": "code",
   "execution_count": 12,
   "metadata": {},
   "outputs": [
    {
     "ename": "ModuleNotFoundError",
     "evalue": "No module named 'pdfminer.some_other_module'",
     "output_type": "error",
     "traceback": [
      "\u001b[1;31m---------------------------------------------------------------------------\u001b[0m",
      "\u001b[1;31mModuleNotFoundError\u001b[0m                       Traceback (most recent call last)",
      "\u001b[1;32mc:\\Users\\Sam\\Desktop\\NW Work\\Fall_02 Work\\MSIA-FQ2\\414_msia\\07_langchain_project\\07_project_code.ipynb Cell 1\u001b[0m line \u001b[0;36m2\n\u001b[0;32m      <a href='vscode-notebook-cell:/c%3A/Users/Sam/Desktop/NW%20Work/Fall_02%20Work/MSIA-FQ2/414_msia/07_langchain_project/07_project_code.ipynb#W0sZmlsZQ%3D%3D?line=0'>1</a>\u001b[0m \u001b[39mfrom\u001b[39;00m \u001b[39mlangchain\u001b[39;00m\u001b[39m.\u001b[39;00m\u001b[39mdocument_loaders\u001b[39;00m \u001b[39mimport\u001b[39;00m UnstructuredPDFLoader\n\u001b[1;32m----> <a href='vscode-notebook-cell:/c%3A/Users/Sam/Desktop/NW%20Work/Fall_02%20Work/MSIA-FQ2/414_msia/07_langchain_project/07_project_code.ipynb#W0sZmlsZQ%3D%3D?line=1'>2</a>\u001b[0m \u001b[39mfrom\u001b[39;00m \u001b[39mpdfminer\u001b[39;00m\u001b[39m.\u001b[39;00m\u001b[39msome_other_module\u001b[39;00m \u001b[39mimport\u001b[39;00m open_filename\n\u001b[0;32m      <a href='vscode-notebook-cell:/c%3A/Users/Sam/Desktop/NW%20Work/Fall_02%20Work/MSIA-FQ2/414_msia/07_langchain_project/07_project_code.ipynb#W0sZmlsZQ%3D%3D?line=3'>4</a>\u001b[0m loader \u001b[39m=\u001b[39m UnstructuredPDFLoader(\u001b[39m\"\u001b[39m\u001b[39m./Generative_AI_App_Doc.pdf\u001b[39m\u001b[39m\"\u001b[39m)\n\u001b[0;32m      <a href='vscode-notebook-cell:/c%3A/Users/Sam/Desktop/NW%20Work/Fall_02%20Work/MSIA-FQ2/414_msia/07_langchain_project/07_project_code.ipynb#W0sZmlsZQ%3D%3D?line=5'>6</a>\u001b[0m data \u001b[39m=\u001b[39m loader\u001b[39m.\u001b[39mload()\n",
      "\u001b[1;31mModuleNotFoundError\u001b[0m: No module named 'pdfminer.some_other_module'"
     ]
    }
   ],
   "source": [
    "from langchain.document_loaders import UnstructuredPDFLoader\n",
    "\n",
    "loader = UnstructuredPDFLoader(\"./Generative_AI_App_Doc.pdf\")\n",
    "\n",
    "data = loader.load()\n",
    "print(data)"
   ]
  }
 ],
 "metadata": {
  "kernelspec": {
   "display_name": "Python 3",
   "language": "python",
   "name": "python3"
  },
  "language_info": {
   "codemirror_mode": {
    "name": "ipython",
    "version": 3
   },
   "file_extension": ".py",
   "mimetype": "text/x-python",
   "name": "python",
   "nbconvert_exporter": "python",
   "pygments_lexer": "ipython3",
   "version": "3.10.7"
  }
 },
 "nbformat": 4,
 "nbformat_minor": 2
}
