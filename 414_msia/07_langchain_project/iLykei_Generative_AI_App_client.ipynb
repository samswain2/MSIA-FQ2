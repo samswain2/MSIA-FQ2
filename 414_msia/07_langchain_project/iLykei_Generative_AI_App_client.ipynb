{
 "cells": [
  {
   "cell_type": "markdown",
   "id": "1ccc753c",
   "metadata": {},
   "source": [
    "# iLykei Lecture Series   \n",
    "# Generative AI App Client   \n",
    "\n",
    "### Y. Balasanov, A. Kobyshev, M. Tselishchev, &copy; iLykei 2023"
   ]
  },
  {
   "cell_type": "code",
   "execution_count": 2,
   "id": "58ec1c58-ea2e-41bd-8786-52ef23ec8a99",
   "metadata": {},
   "outputs": [],
   "source": [
    "## install necessary libs & compile proto-files\n",
    "\n",
    "#!pip install -q protobuf\n",
    "\n",
    "!protoc --python_out=./ *.proto"
   ]
  },
  {
   "cell_type": "markdown",
   "metadata": {},
   "source": [
    "### Load PDF"
   ]
  },
  {
   "cell_type": "code",
   "execution_count": 3,
   "metadata": {},
   "outputs": [],
   "source": [
    "from langchain.document_loaders import PyPDFLoader\n",
    "\n",
    "loader = PyPDFLoader(\"./Generative_AI_App_Doc.pdf\")\n",
    "\n",
    "data = loader.load()"
   ]
  },
  {
   "cell_type": "markdown",
   "metadata": {},
   "source": [
    "### Clean Document"
   ]
  },
  {
   "cell_type": "code",
   "execution_count": 6,
   "metadata": {},
   "outputs": [
    {
     "name": "stdout",
     "output_type": "stream",
     "text": [
      "page_content=\"Project Estimation and Evaluation: PancreXcel\\n1. Background\\nOverview of PancreXcel\\nPancreXcel (PX-1197) is a novel therapeutic agent designed to combat pancreatic cancer by targeting a \\nspecific cellular pathway critical to the disease's progression. This fusion protein comprises carefully \\nengineered components to elicit a precise and effective response against cancerous cells.\\nAt its core, PancreXcel consists of a fusion protein that interacts with a specific cell surface receptor \\nknown as TGF-beta (Transforming Growth Factor-beta). TGF-beta is a signaling molecule that plays a \\npivotal role in regulating cell growth, differentiation, and apoptosis. In pancreatic cancer, there is often \\nan overproduction of TGF-beta, contributing to the tumor's ability to evade the immune system and\" metadata={'source': './Generative_AI_App_Doc.pdf', 'page': 0, 'start_index': 0}\n",
      "page_content=\"promote its growth.\\nPancreXcel's engineered fusion protein contains a targeting region with a highly specific binding \\ndomain for TGF-beta, allowing it to selectively latch onto the receptors overexpressed on cancer cells. \\nThis binding event inhibits TGF-beta's usual interaction with its receptors, effectively interrupting the \\nsignaling pathway that drives cancer progression.\\nBy disrupting this pathway, PancreXcel aims to hinder cancer cell proliferation, promote apoptosis (cell\\ndeath), and facilitate an enhanced immune response against the tumor. This strategic intervention holds \\nthe promise of reducing tumor growth and improving overall patient outcomes in pancreatic cancer \\ntreatment.\" metadata={'source': './Generative_AI_App_Doc.pdf', 'page': 0, 'start_index': 798}\n",
      "page_content=\"stabilization and tumor response in patients receiving PancreXcel compared to those on placebo after \\n16 weeks of treatment. These promising outcomes underscore PancreXcel's potential as a \\ngroundbreaking therapy for pancreatic cancer.\\nAs PancreXcel progresses through these critical stages of development, its positive safety profile and \\nemerging efficacy data provide hope for patients battling pancreatic cancer and offer a promising \\naddition to the oncology treatment arsenal. Further analysis and larger patient cohorts in Phase II will \\ncontribute valuable insights into its potential as a transformative therapy.\\nTimeline\\nThe timeline for the development and approval of pharmaceuticals can vary significantly depending on\" metadata={'source': './Generative_AI_App_Doc.pdf', 'page': 3, 'start_index': 721}\n"
     ]
    }
   ],
   "source": [
    "from langchain.text_splitter import RecursiveCharacterTextSplitter\n",
    "\n",
    "text_splitter = RecursiveCharacterTextSplitter(\n",
    "    # Set a really small chunk size, just to show.\n",
    "    chunk_size = 800,\n",
    "    chunk_overlap  = 20,\n",
    "    length_function = len,\n",
    "    add_start_index = True,\n",
    ")\n",
    "\n",
    "#texts = text_splitter.create_documents([kafka_metamorphosis])\n",
    "texts = text_splitter.split_documents(data)\n",
    "print(texts[0])\n",
    "print(texts[1])\n",
    "print(texts[12])"
   ]
  },
  {
   "cell_type": "code",
   "execution_count": 7,
   "metadata": {},
   "outputs": [
    {
     "data": {
      "text/plain": [
       "[Document(page_content=\"Project Estimation and Evaluation: PancreXcel\\n1. Background\\nOverview of PancreXcel\\nPancreXcel (PX-1197) is a novel therapeutic agent designed to combat pancreatic cancer by targeting a \\nspecific cellular pathway critical to the disease's progression. This fusion protein comprises carefully \\nengineered components to elicit a precise and effective response against cancerous cells.\\nAt its core, PancreXcel consists of a fusion protein that interacts with a specific cell surface receptor \\nknown as TGF-beta (Transforming Growth Factor-beta). TGF-beta is a signaling molecule that plays a \\npivotal role in regulating cell growth, differentiation, and apoptosis. In pancreatic cancer, there is often \\nan overproduction of TGF-beta, contributing to the tumor's ability to evade the immune system and\", metadata={'source': './Generative_AI_App_Doc.pdf', 'page': 0, 'start_index': 0}),\n",
       " Document(page_content=\"promote its growth.\\nPancreXcel's engineered fusion protein contains a targeting region with a highly specific binding \\ndomain for TGF-beta, allowing it to selectively latch onto the receptors overexpressed on cancer cells. \\nThis binding event inhibits TGF-beta's usual interaction with its receptors, effectively interrupting the \\nsignaling pathway that drives cancer progression.\\nBy disrupting this pathway, PancreXcel aims to hinder cancer cell proliferation, promote apoptosis (cell\\ndeath), and facilitate an enhanced immune response against the tumor. This strategic intervention holds \\nthe promise of reducing tumor growth and improving overall patient outcomes in pancreatic cancer \\ntreatment.\", metadata={'source': './Generative_AI_App_Doc.pdf', 'page': 0, 'start_index': 798}),\n",
       " Document(page_content=\"treatment.\\nPancreXcel represents a significant advancement in the fight against this aggressive form of cancer, \\noffering a targeted therapeutic approach to disrupt the specific molecular mechanisms driving disease \\nprogression. Its innovative design seeks to minimize adverse effects on healthy tissues while \\nmaximizing its impact on pancreatic cancer cells, bringing new hope to patients and healthcare \\nprofessionals alike. Clinical trials and ongoing research continue to explore the full potential of \\nPancreXcel in the treatment of pancreatic cancer.\\nSimilar Products\\nTo understand PancreXcel's positioning in the market, it's essential to consider similar products:\\na. PancreaCure\\n•PancreaCure is an established drug with a history of usage in the pancreatic cancer treatment\", metadata={'source': './Generative_AI_App_Doc.pdf', 'page': 0, 'start_index': 1487}),\n",
       " Document(page_content='landscape. Unlike PancreXcel, which targets the TGF-beta receptor, PancreaCure focuses on \\ninhibiting the JAK-STAT (Janus kinase-signal transducer and activator of transcription) \\nsignaling pathway. This pathway plays a crucial role in regulating cell proliferation and immune\\nresponses. By binding to specific JAK and STAT proteins, PancreaCure interferes with \\nintracellular signaling, ultimately suppressing cancer cell growth.', metadata={'source': './Generative_AI_App_Doc.pdf', 'page': 0, 'start_index': 2272}),\n",
       " Document(page_content=\"•Although PancreaCure has shown promise in clinical trials, its efficacy is variable among \\npatients, and it may lead to adverse effects due to its broader impact on the immune system. The\\ndrug's history provides valuable insights into the challenges and limitations of targeting the \\nJAK-STAT pathway for pancreatic cancer treatment.\\nb. PanaTreat\\n•PanaTreat is another contender in the field of pancreatic cancer therapy, employing a distinctive \\napproach compared to PancreXcel. PanaTreat leverages the Notch signaling pathway as its \\nprimary target. Notch receptors play a critical role in cell differentiation and proliferation. \\nPanaTreat employs antibodies designed to inhibit Notch receptor interactions, thereby \\ndisrupting the signaling cascade.\", metadata={'source': './Generative_AI_App_Doc.pdf', 'page': 1, 'start_index': 0}),\n",
       " Document(page_content=\"•Clinical trials involving PanaTreat have demonstrated potential benefits in slowing tumor \\ngrowth and promoting apoptosis in pancreatic cancer cells. However, challenges related to \\ndosage optimization and patient-specific responses have been observed. PanaTreat's distinct \\nmechanism highlights the diversity in strategies for combating pancreatic cancer and \\nemphasizes the need for tailored therapies.\\nc. PanoCure\\n•PanoCure is a new entrant in the market, representing the evolving landscape of pancreatic \\ncancer treatment. PanoCure, unlike its counterparts, focuses on blocking the VEGF (Vascular \\nEndothelial Growth Factor) pathway, a critical regulator of angiogenesis—the formation of new\\nblood vessels to nourish tumors. By interfering with VEGF and its receptor interactions,\", metadata={'source': './Generative_AI_App_Doc.pdf', 'page': 1, 'start_index': 755}),\n",
       " Document(page_content=\"PanoCure aims to impede the tumor's ability to access vital nutrients and oxygen, ultimately \\nstunting its growth.\\n•Clinical trials for PanoCure have indicated potential success in reducing tumor vascularization \\nand size. However, challenges related to the development of drug resistance have been noted, \\nnecessitating ongoing research to enhance treatment outcomes. PanoCure's unique approach \\nunderscores the multifaceted nature of pancreatic cancer therapy and the importance of \\ncombination treatments.\\nIn summary, PancreXcel's distinctive targeting of the TGF-beta pathway sets it apart from similar \\nproducts like PancreaCure, PanaTreat, and PanoCure, which employ different mechanisms to combat\", metadata={'source': './Generative_AI_App_Doc.pdf', 'page': 1, 'start_index': 1543}),\n",
       " Document(page_content='pancreatic cancer. Understanding these variations in therapeutic strategies is crucial for tailoring \\ntreatment options and optimizing patient outcomes in the complex landscape of pancreatic cancer \\ntherapy.\\n2. Timeline Analysis\\nGeneral Stages of Development\\n•Pre-clinical research\\n•Phase I clinical trials', metadata={'source': './Generative_AI_App_Doc.pdf', 'page': 1, 'start_index': 2248}),\n",
       " Document(page_content='•Phase II clinical trials\\n•Phase III clinical trials\\n•Regulatory submission\\n•FDA review\\n•Commercial launch\\nCurrent Status\\nPancreXcel is currently advancing through the crucial stages of clinical development, with promising \\nresults in its journey to combat pancreatic cancer.\\nPre-clinical Research\\nIn the pre-clinical research phase, PancreXcel underwent extensive laboratory and animal testing. This \\nphase aimed to establish its safety, efficacy, and mechanism of action. The pre-clinical studies involved \\na range of in vitro and in vivo experiments, including cell culture assays and murine xenograft models.\\nPhase of Development:  Pre-clinical\\nTrial Type: In vitro and in vivo studies\\nNumber of Patients:  N/A (Animal and cell-based studies)', metadata={'source': './Generative_AI_App_Doc.pdf', 'page': 2, 'start_index': 0}),\n",
       " Document(page_content=\"Results: Pre-clinical research demonstrated PancreXcel's remarkable potential in inhibiting TGF-beta \\nreceptor signaling, resulting in a significant reduction in pancreatic tumor growth in murine models. \\nThe therapy showed excellent safety profiles, with no observed adverse effects in animal subjects. \\nThese promising results paved the way for the progression to clinical trials.\\nPhase I Clinical Trials\\nPhase I clinical trials represent the first step in evaluating PancreXcel's safety and dosage in human \\nsubjects. These trials typically involve a small number of patients and focus on establishing the drug's \\ntolerance and safety profile.\\nPhase of Development:  Phase I\\nTrial Type: Randomized, double-blind, placebo-controlled\\nNumber of Patients:  60 patients\", metadata={'source': './Generative_AI_App_Doc.pdf', 'page': 2, 'start_index': 747}),\n",
       " Document(page_content='Results: The Phase I clinical trials were conducted with rigorous scientific methodology, following \\nrandomized, double-blind, and placebo-controlled designs. Patients receiving PancreXcel exhibited \\nexcellent tolerance to the treatment, with no severe adverse effects reported. Dosages ranged from 50 \\nmg/day to 200 mg/day, with no significant dose-dependent adverse events. Importantly, PancreXcel \\ndemonstrated early signs of efficacy, with some patients experiencing a reduction in tumor size and \\nimproved overall well-being. These promising safety and preliminary efficacy results laid a solid \\nfoundation for further development.', metadata={'source': './Generative_AI_App_Doc.pdf', 'page': 2, 'start_index': 1515}),\n",
       " Document(page_content='Phase II Clinical Trials (Current Stage)\\nPancreXcel is currently in Phase II clinical trials, which represent a critical juncture in evaluating its \\nefficacy and safety in a larger patient population.\\nPhase of Development:  Phase II\\nTrial Type: Randomized, double-blind, placebo-controlled\\nNumber of Patients:  250 patients\\nResults: While the Phase II clinical trials are ongoing, early data analysis indicates encouraging \\noutcomes. PancreXcel continues to exhibit a favorable safety profile, with patients experiencing \\nminimal adverse effects. The dosing regimen, refined based on Phase I findings, ranges from 150 \\nmg/day to 300 mg/day. Preliminary results suggest a statistically significant improvement in disease', metadata={'source': './Generative_AI_App_Doc.pdf', 'page': 3, 'start_index': 0}),\n",
       " Document(page_content=\"stabilization and tumor response in patients receiving PancreXcel compared to those on placebo after \\n16 weeks of treatment. These promising outcomes underscore PancreXcel's potential as a \\ngroundbreaking therapy for pancreatic cancer.\\nAs PancreXcel progresses through these critical stages of development, its positive safety profile and \\nemerging efficacy data provide hope for patients battling pancreatic cancer and offer a promising \\naddition to the oncology treatment arsenal. Further analysis and larger patient cohorts in Phase II will \\ncontribute valuable insights into its potential as a transformative therapy.\\nTimeline\\nThe timeline for the development and approval of pharmaceuticals can vary significantly depending on\", metadata={'source': './Generative_AI_App_Doc.pdf', 'page': 3, 'start_index': 721}),\n",
       " Document(page_content=\"numerous factors, including the drug's type, disease severity, and regulatory requirements. To provide a\\nmore accurate estimate of PancreXcel's timeline, we have gathered data from various sources and \\nestablished the following timeline:\\n•Average Duration for Drug Approval and Development:  The average duration for drug \\napproval and development is approximately 5.8 years. However, this figure is generalized and \\nmay not reflect the specific circumstances of PancreXcel.\\n•PancreXcel's Phase II Clinical Trials:  PancreXcel is currently in Phase II clinical trials, which\\nare divided into several periods. The screening phase spans 4 weeks, followed by two treatment \\nstages. Stage 1 encompasses 24 weeks, during which participants are randomly assigned to\", metadata={'source': './Generative_AI_App_Doc.pdf', 'page': 3, 'start_index': 1454}),\n",
       " Document(page_content='receive either PancreXcel or a placebo intravenously. In Stage 2, participants switch treatments \\n(the placebo patients receive treatment, and the treated patients receive placebo) for 16 weeks. \\nSubsequently, a follow-up stage of at least 12 weeks is required. Altogether, Phase II clinical \\ntrials for PancreXcel span approximately 56 weeks or 13 months.\\n•Phase III Clinical Trials:  Upon successful completion of Phase II, PancreXcel will advance to \\nPhase III clinical trials, which are estimated to last approximately 2.5 years.\\n•Application Preparation:  The process of preparing the FDA application is expected to take \\napproximately 2 months.', metadata={'source': './Generative_AI_App_Doc.pdf', 'page': 3, 'start_index': 2215}),\n",
       " Document(page_content=\"•FDA Review and Approval:  After submission, the FDA review and approval process is \\nestimated to require around 10 months.\\n•Total Estimated Development and Approval Time:  The total estimated time for PancreXcel's \\ndevelopment and FDA approval is approximately between 4.5 and 5 years.\\nRegulatory Strategy\\nThe regulatory strategy for PancreXcel is a meticulously planned and structured process that extends \\nbeyond the completion of clinical trials. It involves the submission of a comprehensive New Drug \\nApplication (NDA) to the FDA, which is a critical step in gaining approval for this innovative \\npancreatic cancer therapy.\\n1. Safety and Effectiveness Evaluation:  The foremost objective of the NDA is to provide the FDA\", metadata={'source': './Generative_AI_App_Doc.pdf', 'page': 4, 'start_index': 0}),\n",
       " Document(page_content=\"with a detailed understanding of PancreXcel's safety and effectiveness in its proposed uses. This entails\\ncompiling extensive data from clinical trials, preclinical research, and pharmacological studies to \\ndemonstrate that the drug effectively targets the TGF-beta receptor pathway while maintaining an \\nacceptable safety profile.\\n2. Benefit-Risk Assessment:  The NDA also facilitates a rigorous benefit-risk assessment, ensuring that\\nthe potential benefits of PancreXcel clearly outweigh the associated risks. This assessment is essential \\nto make informed decisions regarding patient safety and treatment efficacy.\\n3. Labeling Appropriateness:  PancreXcel's proposed labeling must be meticulously crafted to provide\", metadata={'source': './Generative_AI_App_Doc.pdf', 'page': 4, 'start_index': 728}),\n",
       " Document(page_content=\"healthcare professionals and patients with accurate, concise, and relevant information. This includes \\ndosing instructions, potential side effects, and any special considerations.\\n4. Quality Assurance:  To assure the FDA that PancreXcel maintains consistent quality, the NDA \\nencompasses comprehensive information on the methods used in manufacturing, as well as the controls\\nimplemented to safeguard the drug's identity, strength, quality, and purity.\\n5. Clinical Evaluation Report (CER):  The NDA includes a Clinical Evaluation Report summarizing \\nall clinical trial findings. It outlines the primary outcomes of each trial and provides insights into how \\nand if these outcomes were achieved. This section forms a critical part of the submission, offering a\", metadata={'source': './Generative_AI_App_Doc.pdf', 'page': 4, 'start_index': 1447}),\n",
       " Document(page_content=\"comprehensive overview of PancreXcel's performance.\\n6. Target Product Profile (TPP):  The TPP is an integral component of the NDA, serving to identify \\nkey characteristics of PancreXcel. It outlines essential information required for optimal drug labeling, \\nensuring that healthcare professionals and patients have a clear understanding of its intended use and \\nbenefits.\\n7. Supplementary Data:  Beyond clinical trial results, the NDA may also include additional data \\nrelated to product development, manufacturing processes, and real-world usage. These supplementary \\ndetails further enhance the package, bolstering the overall approval success rate.\\nIn summary, PancreXcel's regulatory strategy is a meticulously planned and comprehensive process\", metadata={'source': './Generative_AI_App_Doc.pdf', 'page': 4, 'start_index': 2208}),\n",
       " Document(page_content=\"that goes beyond clinical trials. It aims to provide the FDA with a robust body of evidence to make \\ninformed decisions regarding the drug's safety, effectiveness, labeling, and overall quality. This\", metadata={'source': './Generative_AI_App_Doc.pdf', 'page': 4, 'start_index': 2958}),\n",
       " Document(page_content=\"strategic approach reflects our commitment to bringing this promising therapy to patients in need while\\nensuring the highest standards of patient safety and drug efficacy.\\n3. Market Analysis\\nMarket Size Calculation\\nThe global burden of pancreatic cancer is significant, with approximately 495,000 new cases diagnosed\\nannually. Given the gravity of the disease, the global market for pancreatic cancer treatments is \\nsubstantial, estimated at approximately $7.5 billion.\\nPancreXcel aims to capture a meaningful share of this market, with aspirations to secure a 10% market \\nshare. This ambitious goal translates into a target revenue of $750 million. This market analysis \\nunderscores PancreXcel's potential to make a substantial impact not only in improving patient\", metadata={'source': './Generative_AI_App_Doc.pdf', 'page': 5, 'start_index': 0}),\n",
       " Document(page_content=\"outcomes but also in contributing significantly to the pancreatic cancer treatment market.\\nCompetitive Analysis\\nUtilizing an order-of-entry product preference model, PancreXcel currently holds a 7% share of the \\npancreatic cancer treatment market. However, PancreXcel's potential to reshape the landscape is \\nsubstantial. With its unique mechanism of action and promising clinical trial data, there's an \\nopportunity to shift to a best-in-class product preference model. In this scenario, PancreXcel could \\ncapture a significantly larger market share, estimated at 31.4%.\\nThis shift is predicated on PancreXcel's superior differentiation and higher efficacy compared to \\nexisting treatments. The competitive analysis underscores the transformative potential of PancreXcel to\", metadata={'source': './Generative_AI_App_Doc.pdf', 'page': 5, 'start_index': 767}),\n",
       " Document(page_content='become a leading player in the global pancreatic cancer treatment market, offering renewed hope to \\npatients and healthcare providers worldwide.\\n4. Price Analysis\\nPricing Trends\\nPricing for pancreatic cancer drugs typically ranges from $50,000 to $150,000 per patient per year. \\nOver the past decade, pricing trends in the pharmaceutical industry have witnessed noteworthy shifts. \\nOne notable factor is the consistent increase in spending on treatments globally. On average, global \\nspending on treatments has seen an annual growth rate of approximately 5%, reflecting the rising \\ndemand for innovative therapies.\\nThis upward trajectory in healthcare expenditure underscores the willingness to invest in effective', metadata={'source': './Generative_AI_App_Doc.pdf', 'page': 5, 'start_index': 1542}),\n",
       " Document(page_content='treatments. PancreXcel, positioned as a groundbreaking therapy for pancreatic cancer, aligns with this \\ntrend. While pricing trends indicate an upward trajectory, PancreXcel is committed to offering \\ncompetitive and accessible pricing that ensures affordability while delivering unparalleled value to \\npatients and healthcare systems globally. This approach aims to strike a balance between sustainability \\nand patient-centric affordability.', metadata={'source': './Generative_AI_App_Doc.pdf', 'page': 5, 'start_index': 2258}),\n",
       " Document(page_content=\"Reference Pricing\\nPricing evaluation considers not only a drug's efficacy but also its positioning relative to existing \\ntreatments. In the realm of pancreatic cancer drugs, patients typically bear costs ranging from $5,000 to\\n$7,000 per month, translating to approximately $60,000 to $84,000 annually.\\nAs PancreXcel pioneers this market, it enjoys the opportunity to establish a premium pricing precedent.\\nPancreXcel's innovative approach and potential to redefine treatment paradigms can warrant a premium\\nprice range of $3,000 to $5,000 per week, equivalent to an annual cost of $150,000 to $250,000. This \\nstrategy aligns with PancreXcel's commitment to deliver superior value while ensuring sustainable \\naccess to this groundbreaking therapy.\\n5. Cost Analysis\", metadata={'source': './Generative_AI_App_Doc.pdf', 'page': 6, 'start_index': 0}),\n",
       " Document(page_content=\"5. Cost Analysis\\nDevelopment costs for PancreXcel are estimated at $500 million, including research, clinical trials, \\nregulatory filings, and manufacturing setup. Ongoing production costs will be determined based on \\ndemand and market competition.\\n6. Risk Analysis\\nPhase Transition\\nTransitioning from preclinical to clinical phases can be challenging. Robust preclinical data and a well-\\ndesigned IND application are crucial to success.\\nPhase transition rate analyzes the progression of drug development through various clinical phases. By \\nextrapolating data from company reports to PancreXcel, an innovative pancreatic cancer therapy, we \\nobserve an overall success rate of 15.1%. While this figure might seem modest, it's essential to\", metadata={'source': './Generative_AI_App_Doc.pdf', 'page': 6, 'start_index': 748}),\n",
       " Document(page_content=\"contextualize it within PancreXcel's current phase status, which is Phase II clinical trials.\\nIn this context, we primarily focus on the transition from Phase II to Phase III and from Phase III to \\nFDA approval. With respective success rates of 45.7% and 63.7%, PancreXcel's overall success rate \\nincreases significantly to approximately 29%.\\nNotably, PancreXcel stands out as the only Phase II drug reported to meet primary endpoints in both \\npatient populations. This achievement underscores its potential for success as it progresses to Phase III \\nand eventual FDA approval. The promising clinical data and successful Phase II outcomes position \\nPancreXcel favorably for the subsequent phases, reducing certain transition risks and enhancing its \\nprospects for market entry.\\nFunding Risks\", metadata={'source': './Generative_AI_App_Doc.pdf', 'page': 6, 'start_index': 1488}),\n",
       " Document(page_content='Funding Risks\\nSecuring adequate funding throughout development is critical. We will explore a mix of venture \\ncapital, partnerships, and grants. \\nClinical trials represent a substantial financial commitment, with an average cost of approximately $4 \\nmillion for Phase I, $13 million for Phase II, and $20 million for Phase III trials across therapeutic \\nareas. Moreover, the journey from drug discovery to market entry is reported to exceed $2.5 billion.', metadata={'source': './Generative_AI_App_Doc.pdf', 'page': 6, 'start_index': 2266}),\n",
       " Document(page_content=\"This cost-intensive process presents inherent funding risks, particularly in the presence of competing \\ndrug development projects.\\nFor PancreXcel, the primary funding risk revolves around the existence of similar products in \\ndevelopment. Competing products can lead to legal complexities, marketing challenges, and \\ntranslational hurdles that may discourage investors and sponsors. Additionally, a change in \\nmanagement within the developer company, signaling a shift in priorities, poses a potential funding \\nrisk.\\nFurthermore, any unexpected delays in phase transitions or internal evaluations indicating diminishing \\nviability could trigger funding cuts. Despite these risks, the developer's unwavering commitment to\", metadata={'source': './Generative_AI_App_Doc.pdf', 'page': 7, 'start_index': 0}),\n",
       " Document(page_content=\"PancreXcel's development and their passionate support for the project mitigate some of these financial \\nuncertainties.\\nIn summary, funding risks for PancreXcel, while significant, are inherent to the drug development \\nprocess and are consistent with industry norms. The developer's dedication and strategic planning aim \\nto navigate these challenges and secure the necessary resources for PancreXcel's advancement.\\nFDA Drug Approval Rate\\nWe acknowledge the inherent risks associated with FDA approvals. Continuous communication with \\nregulatory agencies will mitigate these risks.\\nThe FDA approval process is pivotal for any drug in clinical trials, determining its ultimate success. \\nPancreXcel's current position in Phase II of clinical trials means that its path to FDA approval hinges\", metadata={'source': './Generative_AI_App_Doc.pdf', 'page': 7, 'start_index': 722}),\n",
       " Document(page_content='on the outcomes of Phase II, Phase III, and the New Drug Application (NDA)/Biologics License \\nApplication (BLA) approval stages.\\nFor autoimmune drugs, historical data indicates an approximate success rate of 46% from Phase II to \\nPhase III and 64% from Phase III to approval. When combined, these probabilities yield an overall \\nsuccess rate of about 29% from the current phase to eventual approval.\\nHowever, it is essential to note that PancreXcel stands as an innovative therapy, addressing a unique \\npathway for pancreatic cancer treatment, and faces limited active competition. These factors, along \\nwith promising clinical trial data, instill optimism despite the statistically lower anticipated success', metadata={'source': './Generative_AI_App_Doc.pdf', 'page': 7, 'start_index': 1512}),\n",
       " Document(page_content=\"rate. PancreXcel's innovative approach and clinical achievements position it as a hopeful candidate for \\nFDA approval and subsequent market entry, offering new possibilities for patients combating \\npancreatic cancer.\\nCompetitors Entering the Market\\nThe landscape of pancreatic cancer treatment currently features three competitive drugs: PancreaCure, \\nPanaTreat, and PanoCure. Among these, PancreaCure, developed by CuroBio, is an active competitor \\nhaving completed phases 1 and 2.\\nHowever, a noteworthy factor is CuroBio's parallel development of another drug, PancreoGuard, which\\nis currently in phase 3 clinical trials. The success of PancreoGuard could shift CuroBio's focus towards \\nthis promising therapy, potentially reducing their commitment to PancreaCure. Such a strategic shift\", metadata={'source': './Generative_AI_App_Doc.pdf', 'page': 7, 'start_index': 2222}),\n",
       " Document(page_content=\"would likely benefit PancreXcel by potentially reducing competition and offering greater funding \\nopportunities.\\nWhile competition is a significant risk, the evolving dynamics of competing drug development projects\\ncan influence the funding and market entry prospects for PancreXcel, potentially favoring its position \\nin the pancreatic cancer treatment market.\\nRisk Management\\nRisk assessment is a critical component of PancreXcel's development strategy, encompassing risks \\nassociated with Phase transition, Funding, FDA approval, and Competitors entering the market. These \\nrisks are evaluated based on their potential impact, categorized as High, Medium, or Low, and are \\naccompanied by appropriate risk management measures:\\n1. Phase Transition Risk:\\n•Level: Medium\", metadata={'source': './Generative_AI_App_Doc.pdf', 'page': 8, 'start_index': 0}),\n",
       " Document(page_content='•Level: Medium\\n•Risk Event Trigger:  Delays or failures in transitioning between clinical phases.\\n•Mitigating Response:  Implement stringent project management and monitoring to ensure \\nadherence to timelines and milestones. Diversify resources and streamline processes to facilitate\\nsmoother phase transitions. Maintain robust communication channels with clinical trial \\ninvestigators to proactively address any challenges.\\n2. Funding Risk:\\n•Level: High\\n•Risk Event Trigger:  Insufficient funding leading to resource constraints or discontinuation of \\nthe project.\\n•Mitigating Response:  Continuously diversify funding sources, including partnerships, grants, \\nand investor relations, to mitigate the risk of over-reliance on a single source. Maintain a', metadata={'source': './Generative_AI_App_Doc.pdf', 'page': 8, 'start_index': 755}),\n",
       " Document(page_content=\"flexible budget that allows for unexpected contingencies. Explore opportunities for cost-sharing\\nand collaborations with other research initiatives.\\n3. FDA Approval Risk:\\n•Level: High\\n•Risk Event Trigger:  Failure to meet FDA approval criteria, leading to regulatory setbacks.\\n•Mitigating Response:  Conduct ongoing, transparent communication with regulatory authorities\\nto align expectations and requirements. Implement rigorous quality control and compliance \\nmeasures throughout the drug development process. Leverage the FDA's Breakthrough Therapy\\nDesignation, if applicable, to expedite the approval process and enhance the likelihood of \\nsuccess.\\n4. Competitors Entering the Market Risk:\\n•Level: Medium\\n•Risk Event Trigger:  Increased competition due to the entry of similar drugs.\", metadata={'source': './Generative_AI_App_Doc.pdf', 'page': 8, 'start_index': 1511}),\n",
       " Document(page_content=\"•Mitigating Response:  Continuously monitor the competitive landscape and adapt strategies \\naccordingly. Emphasize PancreXcel's unique selling points and clinical advantages to maintain \\na competitive edge. Explore collaboration opportunities or licensing agreements that can \\nenhance PancreXcel's market position.\\nIn conclusion, effective risk measurement and management are integral to PancreXcel's development \\njourney. By categorizing risks by impact and implementing tailored mitigation responses, PancreXcel \\naims to proactively address challenges and maximize the likelihood of successful development, \\napproval, and market entry in the pancreatic cancer treatment space.\\n7. Conclusion\\nGo/No-Go Recommendation\", metadata={'source': './Generative_AI_App_Doc.pdf', 'page': 9, 'start_index': 0}),\n",
       " Document(page_content=\"After an exhaustive analysis of PancreXcel's development prospects, we present a Go/No-Go \\nrecommendation for the continued advancement of this innovative pancreatic cancer therapy.\\nRecommendation: Go\\nReasons for the Recommendation:\\n1.Positive Clinical Trial Outcomes:  PancreXcel has demonstrated promising results in Phase II \\nclinical trials, showing efficacy and a favorable safety profile. These early successes provide \\nstrong reasons to proceed to Phase III.\\n2.Unique Mechanism of Action:  PancreXcel's innovative approach, targeting the TGF-beta \\nreceptor pathway, offers a distinct advantage over existing treatments. This unique mechanism \\nof action sets it apart in the competitive landscape.\\n3.Market Need: The global burden of pancreatic cancer necessitates the development of more\", metadata={'source': './Generative_AI_App_Doc.pdf', 'page': 9, 'start_index': 717}),\n",
       " Document(page_content=\"effective therapies. PancreXcel addresses this unmet medical need and has the potential to \\nsignificantly improve patient outcomes.\\n4.Limited Competition:  PancreXcel currently faces limited competition in its specific pathway, \\nenhancing its market potential and reducing direct competitors' influence.\\n5.Investor Commitment:  The developer's unwavering commitment to PancreXcel's development\\nand their passion for the project ensure a dedicated and resourceful approach to overcoming \\nchallenges.\\n6.FDA Engagement:  Positive interactions and alignment with the FDA on regulatory matters \\nindicate a cooperative and informed regulatory environment.\\nWhile challenges and risks are inherent in drug development, PancreXcel's compelling clinical data,\", metadata={'source': './Generative_AI_App_Doc.pdf', 'page': 9, 'start_index': 1513}),\n",
       " Document(page_content='unique profile, and favorable market conditions strongly support the decision to proceed. The potential \\nbenefits it offers to patients and the healthcare industry underscore the importance of continuing its \\ndevelopment journey to bring this promising therapy to those in need.', metadata={'source': './Generative_AI_App_Doc.pdf', 'page': 9, 'start_index': 2264}),\n",
       " Document(page_content='Exit Strategy\\nIn evaluating potential exit strategies for PancreXcel, we recognize that the ultimate goal is not only to \\ndevelop an innovative therapy but also to ensure its broad accessibility and continued success. Several \\nexit strategies are considered, each with its own advantages and considerations:\\n1. Merger and Acquisition (M&A):\\n•Advantages: M&A can provide immediate access to substantial resources, expertise, and global\\ndistribution networks. A larger pharmaceutical company with complementary products may \\nseek to acquire PancreXcel to enhance its portfolio and enter the pancreatic cancer treatment \\nmarket.\\n•Considerations: The challenge lies in negotiating favorable terms and ensuring that', metadata={'source': './Generative_AI_App_Doc.pdf', 'page': 10, 'start_index': 0}),\n",
       " Document(page_content=\"PancreXcel's vision and mission align with the acquiring company's goals. Maintaining the \\ndrug's integrity and affordability while maximizing market reach will be essential.\\n2. Initial Public Offering (IPO):\\n•Advantages: An IPO can provide access to significant capital from public markets. This \\napproach allows PancreXcel to maintain its independence while raising funds for further \\ndevelopment and market expansion.\\n•Considerations: Going public entails strict regulatory compliance and transparency. It also \\nsubjects the company to market fluctuations and shareholder expectations, which may impact \\nlong-term strategy and decision-making.\\n3. Alliance/Licensing:\\n•Advantages: Forming strategic alliances or licensing agreements with established\", metadata={'source': './Generative_AI_App_Doc.pdf', 'page': 10, 'start_index': 712}),\n",
       " Document(page_content=\"pharmaceutical companies can provide access to their resources, including marketing, \\ndistribution channels, and regulatory expertise. This approach can help PancreXcel penetrate \\nmarkets more efficiently.\\n•Considerations: Careful negotiation and alignment of interests are crucial to ensuring that \\nPancreXcel retains control over its core mission and product pricing while benefiting from the \\npartner's strengths.\\nUltimately, the choice of exit strategy should align with PancreXcel's vision and mission, prioritizing \\npatient access to this innovative therapy while ensuring its sustainability and continued development. \\nThe decision will be made with careful consideration of the company's values, financial needs, market \\nconditions, and the best interests of patients and stakeholders.\", metadata={'source': './Generative_AI_App_Doc.pdf', 'page': 10, 'start_index': 1465}),\n",
       " Document(page_content=\"In conclusion, this project estimation and evaluation document for PancreXcel provides a \\ncomprehensive overview of the drug's development, market potential, pricing, costs, risks, and \\nrecommendations for decision-making. It serves as a vital tool for the product manager and \\nstakeholders to make informed choices about the future of PancreXcel in the pancreatic cancer \\ntreatment market.\", metadata={'source': './Generative_AI_App_Doc.pdf', 'page': 10, 'start_index': 2259})]"
      ]
     },
     "execution_count": 7,
     "metadata": {},
     "output_type": "execute_result"
    }
   ],
   "source": [
    "texts"
   ]
  },
  {
   "cell_type": "markdown",
   "id": "424cd612",
   "metadata": {},
   "source": [
    "Define the event handler responding to test questions."
   ]
  },
  {
   "cell_type": "code",
   "execution_count": 2,
   "id": "7f227f61-3820-4aa3-a02c-72622f85a22f",
   "metadata": {},
   "outputs": [],
   "source": [
    "def question_handler(question_id, question):\n",
    "    # process new question\n",
    "    print(f'{question_id})Q: {question}')\n",
    "    answer = \"I don't know\"\n",
    "    print(f'A: {answer}')\n",
    "    print()\n",
    "    return answer"
   ]
  },
  {
   "cell_type": "markdown",
   "id": "17bfe559",
   "metadata": {},
   "source": [
    "Instead of the line `answer = \"I don't know\"` insert the code denerating the answer by your app."
   ]
  },
  {
   "cell_type": "code",
   "execution_count": 3,
   "id": "ec94b331-2b43-4433-8d5a-c805f402fc4d",
   "metadata": {},
   "outputs": [
    {
     "name": "stdout",
     "output_type": "stream",
     "text": [
      "Connecting to datastream.ilykei.com:30095\n",
      "Sending login message\n",
      "Logged in successfully as  m@ts\n",
      "0)Q: What is the specific cellular pathway targeted by PancreXcel in combatting pancreatic cancer?\n",
      "A: I don't know\n",
      "\n",
      "1)Q: How does PancreXcel disrupt the TGF-beta signaling pathway in pancreatic cancer?\n",
      "A: I don't know\n",
      "\n",
      "2)Q: What is the primary goal of PancreXcel in the treatment of pancreatic cancer?\n",
      "A: I don't know\n",
      "\n",
      "3)Q: What is the primary target of PancreXcel in the treatment of pancreatic cancer?\n",
      "A: I don't know\n",
      "\n",
      "4)Q: How does PancreaCure differ from PancreXcel in terms of its mechanism of action?\n",
      "A: I don't know\n",
      "\n",
      "5)Q: What potential benefits have been observed in clinical trials involving PanaTreat?\n",
      "A: I don't know\n",
      "\n",
      "6)Q: What is the primary target of PanoCure in its approach to pancreatic cancer treatment?\n",
      "A: I don't know\n",
      "\n",
      "7)Q: What challenges are associated with PanoCure's clinical trials?\n",
      "A: I don't know\n",
      "\n",
      "8)Q: Why is it important to understand the variations in therapeutic strategies among different pancreatic cancer treatments?\n",
      "A: I don't know\n",
      "\n",
      "9)Q: What was the primary goal of the pre-clinical research phase for PancreXcel?\n",
      "A: I don't know\n",
      "\n",
      "Stream has ended, goodbye!\n",
      "Some statistics:\n",
      "penalty= 87\n",
      "Your score is 13 / 100\n",
      "Connection closed\n",
      "You sent total of 10 answer(s) to server\n"
     ]
    }
   ],
   "source": [
    "from Generative_AI_App_connection import connect\n",
    "\n",
    "with open(\"my_credentials.txt\",'r') as f:\n",
    "    lines = f.readlines()\n",
    "login, password = map(str.strip, lines)\n",
    "\n",
    "# server options\n",
    "host = 'datastream.ilykei.com' # do not change\n",
    "port = 30095   # do not change\n",
    "stream_name = 'Generative_AI_App'   # do not change\n",
    "catch_handler_errors = True  # we recommend using TRUE during the test and FALSE during workshop\n",
    "\n",
    "# make connection with your handler\n",
    "result = connect(host, port, login, password, stream_name,\n",
    "                 question_handler, catch_handler_errors)"
   ]
  },
  {
   "cell_type": "code",
   "execution_count": 4,
   "id": "b2dacec7-46fc-446e-a09f-f24205180974",
   "metadata": {},
   "outputs": [
    {
     "data": {
      "text/plain": [
       "{'problems': [], 'n_signals': 10, 'penalty': 87, 'score': 13}"
      ]
     },
     "execution_count": 4,
     "metadata": {},
     "output_type": "execute_result"
    }
   ],
   "source": [
    "# check results\n",
    "result"
   ]
  }
 ],
 "metadata": {
  "kernelspec": {
   "display_name": "Python 3 (ipykernel)",
   "language": "python",
   "name": "python3"
  },
  "language_info": {
   "codemirror_mode": {
    "name": "ipython",
    "version": 3
   },
   "file_extension": ".py",
   "mimetype": "text/x-python",
   "name": "python",
   "nbconvert_exporter": "python",
   "pygments_lexer": "ipython3",
   "version": "3.10.7"
  }
 },
 "nbformat": 4,
 "nbformat_minor": 5
}
