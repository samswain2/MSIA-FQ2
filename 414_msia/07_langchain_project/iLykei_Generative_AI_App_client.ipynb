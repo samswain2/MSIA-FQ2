{
 "cells": [
  {
   "cell_type": "markdown",
   "id": "1ccc753c",
   "metadata": {},
   "source": [
    "# iLykei Lecture Series   \n",
    "# Generative AI App Client   \n",
    "\n",
    "### Y. Balasanov, A. Kobyshev, M. Tselishchev, &copy; iLykei 2023"
   ]
  },
  {
   "cell_type": "code",
   "execution_count": 1,
   "id": "58ec1c58-ea2e-41bd-8786-52ef23ec8a99",
   "metadata": {},
   "outputs": [
    {
     "name": "stderr",
     "output_type": "stream",
     "text": [
      "c:\\Users\\nuke2\\Desktop\\NW Work\\Fall_02 Work\\MSIA-FQ2\\.venv311\\Lib\\site-packages\\pinecone\\index.py:4: TqdmWarning: IProgress not found. Please update jupyter and ipywidgets. See https://ipywidgets.readthedocs.io/en/stable/user_install.html\n",
      "  from tqdm.autonotebook import tqdm\n"
     ]
    }
   ],
   "source": [
    "# Install necessary libs & compile proto-files\n",
    "!protoc --python_out=./ *.proto\n",
    "\n",
    "from langchain.document_loaders import PyPDFLoader\n",
    "from langchain.text_splitter import RecursiveCharacterTextSplitter\n",
    "from langchain.embeddings import OpenAIEmbeddings\n",
    "from scipy.spatial.distance import cdist\n",
    "import openai\n",
    "from openai import OpenAI\n",
    "import pinecone\n",
    "import os\n",
    "import json\n",
    "import numpy as np\n",
    "import time"
   ]
  },
  {
   "cell_type": "markdown",
   "metadata": {},
   "source": [
    "### Load PDF"
   ]
  },
  {
   "cell_type": "code",
   "execution_count": 2,
   "metadata": {},
   "outputs": [],
   "source": [
    "# Load document\n",
    "loader = PyPDFLoader(\"./Generative_AI_App_Doc.pdf\")\n",
    "data = loader.load()"
   ]
  },
  {
   "cell_type": "markdown",
   "metadata": {},
   "source": [
    "### Clean Document"
   ]
  },
  {
   "cell_type": "code",
   "execution_count": 3,
   "metadata": {},
   "outputs": [],
   "source": [
    "# Split document into smaller texts\n",
    "text_splitter = RecursiveCharacterTextSplitter(\n",
    "    chunk_size=1000, \n",
    "    chunk_overlap=50,\n",
    "    length_function=len, \n",
    "    add_start_index=True\n",
    "    )\n",
    "texts = text_splitter.split_documents(data)"
   ]
  },
  {
   "cell_type": "markdown",
   "metadata": {},
   "source": [
    "### Get Embeddings"
   ]
  },
  {
   "cell_type": "code",
   "execution_count": 4,
   "metadata": {},
   "outputs": [],
   "source": [
    "# Setup OpenAI API Key\n",
    "with open(\"OPENAI_KEY.txt\",'r') as f:\n",
    "    openai_api_key = f.readline().strip()\n",
    "openai.api_key = openai_api_key\n",
    "os.environ['OPENAI_API_KEY'] = openai_api_key\n",
    "\n",
    "with open(\"my_pinecone_key.txt\", 'r') as f:\n",
    "    my_Pinecone_key = f.readline().strip()\n",
    "\n",
    "import pinecone\n",
    "pinecone.init(api_key=my_Pinecone_key, environment='gcp-starter')\n",
    "index = pinecone.Index(index_name='generative-ai-app')"
   ]
  },
  {
   "cell_type": "code",
   "execution_count": 5,
   "metadata": {},
   "outputs": [],
   "source": [
    "# Initialize Embeddings Model\n",
    "embeddings_model = OpenAIEmbeddings(disallowed_special=())"
   ]
  },
  {
   "cell_type": "markdown",
   "metadata": {},
   "source": [
    "### Upload to Pinecone"
   ]
  },
  {
   "cell_type": "code",
   "execution_count": 6,
   "metadata": {},
   "outputs": [],
   "source": [
    "from langchain.vectorstores import Pinecone\n",
    "\n",
    "# Assuming `texts` contains your document texts and `embeddings` are their corresponding embeddings\n",
    "docs_upload = Pinecone.from_documents(texts, embeddings_model, index_name='generative-ai-app')"
   ]
  },
  {
   "cell_type": "code",
   "execution_count": 7,
   "metadata": {},
   "outputs": [],
   "source": [
    "from langchain.vectorstores import Pinecone\n",
    "retriever = docs_upload.as_retriever()"
   ]
  },
  {
   "cell_type": "code",
   "execution_count": 13,
   "metadata": {},
   "outputs": [],
   "source": [
    "from langchain.chat_models import ChatOpenAI\n",
    "from langchain.chains import ConversationalRetrievalChain\n",
    "\n",
    "language_model = \"gpt-4-1106-preview\"\n",
    "model = ChatOpenAI(model_name=language_model, temperature=0.2)\n",
    "qa = ConversationalRetrievalChain.from_llm(model, retriever=retriever)"
   ]
  },
  {
   "cell_type": "markdown",
   "id": "424cd612",
   "metadata": {},
   "source": [
    "Define the event handler responding to test questions."
   ]
  },
  {
   "cell_type": "code",
   "execution_count": 14,
   "metadata": {},
   "outputs": [],
   "source": [
    "def question_handler(question_id, question):\n",
    "    chat_history = []\n",
    "    response = qa({\"question\": question, \"chat_history\": chat_history})\n",
    "    print(f\"Question: {question_id}\")\n",
    "    print(f\"Question: {question}\")\n",
    "    print(f\"Response: {response}\")\n",
    "    return response['answer']"
   ]
  },
  {
   "cell_type": "markdown",
   "id": "17bfe559",
   "metadata": {},
   "source": [
    "Instead of the line `answer = \"I don't know\"` insert the code denerating the answer by your app."
   ]
  },
  {
   "cell_type": "code",
   "execution_count": 15,
   "id": "ec94b331-2b43-4433-8d5a-c805f402fc4d",
   "metadata": {},
   "outputs": [
    {
     "name": "stdout",
     "output_type": "stream",
     "text": [
      "Connecting to datastream.ilykei.com:30095\n",
      "Sending login message\n",
      "Logged in successfully as  samuelswain2023@u.northwestern.edu\n",
      "Question: 0\n",
      "Question: What is the current stage of development for PancreXcel, and how many patients are involved in the ongoing trials?\n",
      "Response: {'question': 'What is the current stage of development for PancreXcel, and how many patients are involved in the ongoing trials?', 'chat_history': [], 'answer': 'PancreXcel is currently in Phase II clinical trials, and there are 250 patients involved in these ongoing trials.'}\n",
      "Question: 1\n",
      "Question: What information must be included in PancreXcel's proposed labeling?\n",
      "Response: {'question': \"What information must be included in PancreXcel's proposed labeling?\", 'chat_history': [], 'answer': \"PancreXcel's proposed labeling must include accurate, concise, and relevant information that will be useful for healthcare professionals and patients. Specifically, the labeling should contain:\\n\\n1. Dosing instructions: Clear guidelines on how the drug should be administered, including the dosage, frequency, and duration of treatment.\\n2. Potential side effects: A comprehensive list of possible adverse reactions or side effects that may occur while taking the drug.\\n3. Special considerations: Any warnings, precautions, or contraindications associated with the drug's use, such as specific populations who should not use the drug or situations in which the drug should be used with caution.\\n\\nThe goal of the labeling is to ensure that all parties involved have the necessary information to use PancreXcel safely and effectively.\"}\n",
      "Question: 2\n",
      "Question: What is the role of the Target Product Profile (TPP) in the NDA process?\n",
      "Response: {'question': 'What is the role of the Target Product Profile (TPP) in the NDA process?', 'chat_history': [], 'answer': \"The Target Product Profile (TPP) in the New Drug Application (NDA) process serves to identify key characteristics of the drug, in this case, PancreXcel. It outlines essential information required for optimal drug labeling, ensuring that healthcare professionals and patients have a clear understanding of its intended use and benefits. The TPP is an integral component of the NDA, as it helps to define the drug's intended market position and the specific therapeutic needs it aims to address.\"}\n",
      "Question: 3\n",
      "Question: What is the estimated development cost for PancreXcel?\n",
      "Response: {'question': 'What is the estimated development cost for PancreXcel?', 'chat_history': [], 'answer': 'The estimated development cost for PancreXcel is $500 million, which includes research, clinical trials, regulatory filings, and manufacturing setup.'}\n",
      "Question: 4\n",
      "Question: What is the overall success rate of PancreXcel in clinical development, and how does it change as it progresses from Phase II to Phase III and FDA approval?\n",
      "Response: {'question': 'What is the overall success rate of PancreXcel in clinical development, and how does it change as it progresses from Phase II to Phase III and FDA approval?', 'chat_history': [], 'answer': 'The overall success rate of PancreXcel from its current stage in Phase II clinical trials to eventual FDA approval is approximately 29%. This is based on historical data for autoimmune drugs, which indicates an approximate success rate of 46% for transitioning from Phase II to Phase III, and a 64% success rate for moving from Phase III to FDA approval. These probabilities are multiplicative, leading to the combined overall success rate of about 29% for PancreXcel to achieve approval from its current position in Phase II clinical trials.'}\n",
      "Question: 5\n",
      "Question: What achievement makes PancreXcel stand out in its Phase II development, and how does this achievement impact its prospects for Phase III and FDA approval?\n",
      "Response: {'question': 'What achievement makes PancreXcel stand out in its Phase II development, and how does this achievement impact its prospects for Phase III and FDA approval?', 'chat_history': [], 'answer': \"PancreXcel stands out in its Phase II development primarily due to its positive clinical trial outcomes. The drug has shown efficacy and a favorable safety profile in the Phase II trials, which are critical factors in determining a drug's potential for success. These early successes provide a strong foundation for proceeding to Phase III trials.\\n\\nThe achievement of demonstrating statistically significant improvement in disease stabilization and tumor response in patients receiving PancreXcel compared to those on placebo after 16 weeks of treatment is particularly noteworthy. This suggests that the drug could be a groundbreaking therapy for pancreatic cancer, addressing a significant unmet medical need.\\n\\nThe impact of these achievements on its prospects for Phase III and FDA approval is substantial. The promising results from Phase II increase the likelihood of a successful Phase III trial, where the drug's efficacy and safety will be tested in a larger patient population. Moreover, the unique mechanism of action of PancreXcel, targeting the TGF-beta receptor pathway, and the limited competition in this specific pathway enhance its market potential.\\n\\nFurthermore, the positive interactions and alignment with the FDA on regulatory matters suggest a cooperative regulatory environment, which can facilitate smoother progress through the approval process. While the historical success rate from Phase II to FDA approval for autoimmune drugs is about 29%, the compelling clinical data and unique profile of PancreXcel could potentially improve its chances of success. Continuous communication with regulatory agencies is also planned to mitigate risks associated with FDA approvals.\\n\\nOverall, the achievements in Phase II bolster PancreXcel's prospects for advancing through Phase III trials and ultimately receiving FDA approval, provided that future studies continue to yield positive results.\"}\n",
      "Question: 6\n",
      "Question: What are some specific funding risks mentioned for PancreXcel's development in the text?\n",
      "Response: {'question': \"What are some specific funding risks mentioned for PancreXcel's development in the text?\", 'chat_history': [], 'answer': \"The specific funding risks mentioned for PancreXcel's development in the text include:\\n\\n1. Competition from similar products in development, which can lead to legal complexities, marketing challenges, and translational hurdles that may discourage investors and sponsors.\\n2. A change in management within the developer company, which could signal a shift in priorities and pose a potential funding risk.\\n3. Unexpected delays in phase transitions or internal evaluations indicating diminishing viability, which could trigger funding cuts.\\n\\nDespite these risks, the developer's commitment to PancreXcel and their passionate support for the project are noted as factors that mitigate some of the financial uncertainties.\"}\n",
      "Question: 7\n",
      "Question: What factors contribute to the optimism regarding PancreXcel's potential for FDA approval despite a statistically lower anticipated success rate?\n",
      "Response: {'question': \"What factors contribute to the optimism regarding PancreXcel's potential for FDA approval despite a statistically lower anticipated success rate?\", 'chat_history': [], 'answer': \"The optimism regarding PancreXcel's potential for FDA approval, despite the statistically lower anticipated success rate, is based on several key factors:\\n\\n1. Positive Clinical Trial Outcomes: PancreXcel has shown promising results in Phase II clinical trials, with demonstrated efficacy and a favorable safety profile. These early successes suggest that the drug has a good chance of continuing to show positive results in subsequent trials.\\n\\n2. Unique Mechanism of Action: The drug's innovative approach, which targets the TGF-beta receptor pathway, differentiates it from existing treatments. This unique mechanism of action may offer advantages that are not available with current therapies.\\n\\n3. Market Need: There is a significant global burden of pancreatic cancer, and there is a need for more effective treatments. PancreXcel is designed to meet this unmet medical need, which could lead to a more favorable review by the FDA if the drug can demonstrate significant improvements in patient outcomes.\\n\\n4. Limited Competition: With limited competition in its specific therapeutic pathway, PancreXcel may face fewer barriers to market entry. This could be a factor that contributes to its potential success, as there may be less scrutiny compared to a drug entering a crowded market.\\n\\n5. Investor Commitment: The strong commitment from investors indicates confidence in the drug's development and a willingness to provide the necessary resources to overcome challenges. This support can be crucial in ensuring that the drug progresses through the necessary trials and regulatory processes.\\n\\n6. FDA Engagement: Positive interactions and alignment with the FDA suggest that the developers have a cooperative and informed regulatory strategy. This can help in anticipating and addressing potential regulatory concerns early in the process.\\n\\nOverall, these factors combine to create a sense of optimism about PancreXcel's chances of success in the FDA approval process, despite the statistical challenges inherent in drug development.\"}\n",
      "Question: 8\n",
      "Question: What is the recommendation for the development of PancreXcel's pancreatic cancer therapy, and why was it made?\n",
      "Response: {'question': \"What is the recommendation for the development of PancreXcel's pancreatic cancer therapy, and why was it made?\", 'chat_history': [], 'answer': \"The recommendation for the development of PancreXcel's pancreatic cancer therapy is to proceed to Phase III clinical trials. This recommendation is based on several key reasons:\\n\\n1. Positive Clinical Trial Outcomes: PancreXcel has shown promising results in Phase II clinical trials, demonstrating both efficacy and a favorable safety profile. These early successes provide a strong foundation for moving forward with further development.\\n\\n2. Unique Mechanism of Action: PancreXcel targets the TGF-beta receptor pathway, which is a novel approach in the treatment of pancreatic cancer. This unique mechanism of action distinguishes PancreXcel from other treatments and could offer a new avenue for therapy.\\n\\n3. Market Need: There is a significant global burden of pancreatic cancer, and there is a need for more effective therapies. PancreXcel has the potential to meet this unmet medical need and improve patient outcomes.\\n\\n4. Limited Competition: PancreXcel faces limited competition in targeting the TGF-beta pathway, which could enhance its market potential and reduce the impact of direct competitors.\\n\\n5. Investor Commitment: The developers of PancreXcel have shown a strong commitment to its development, which is crucial for the continued progress and eventual success of the therapy.\\n\\nThese reasons collectively support the recommendation to continue the development of PancreXcel as a potential new treatment for pancreatic cancer.\"}\n",
      "Question: 9\n",
      "Question: What are the reasons mentioned for recommending the advancement of PancreXcel's therapy?\n",
      "Response: {'question': \"What are the reasons mentioned for recommending the advancement of PancreXcel's therapy?\", 'chat_history': [], 'answer': \"The reasons mentioned for recommending the advancement of PancreXcel's therapy are:\\n\\n1. Positive Clinical Trial Outcomes: PancreXcel has shown promising results in Phase II clinical trials, demonstrating efficacy and a favorable safety profile, which are strong reasons to proceed to Phase III.\\n\\n2. Unique Mechanism of Action: PancreXcel targets the TGF-beta receptor pathway, offering a distinct advantage over existing treatments and setting it apart in the competitive landscape.\\n\\n3. Market Need: There is a global need for more effective therapies for pancreatic cancer, and PancreXcel addresses this unmet medical need with the potential to significantly improve patient outcomes.\\n\\n4. Limited Competition: PancreXcel faces limited competition in its specific pathway, which enhances its market potential and reduces the influence of direct competitors.\\n\\n5. Investor Commitment: The developers have shown unwavering commitment and passion for the project, ensuring a dedicated and resourceful approach to overcoming challenges.\\n\\n6. FDA Engagement: There have been positive interactions and alignment with the FDA on regulatory matters, indicating a cooperative and informed regulatory environment.\\n\\nThese factors, along with the consistent increase in global spending on treatments and PancreXcel's commitment to competitive and accessible pricing, support the decision to continue its development to bring this promising therapy to patients in need.\"}\n",
      "Stream has ended, goodbye!\n",
      "Some statistics:\n",
      "penalty= 4\n",
      "Your score is 96 / 100\n",
      "Connection closed\n",
      "You sent total of 10 answer(s) to server\n"
     ]
    }
   ],
   "source": [
    "from Generative_AI_App_connection import connect\n",
    "\n",
    "with open(\"my_credentials.txt\",'r') as f:\n",
    "    lines = f.readlines()\n",
    "login, password = map(str.strip, lines)\n",
    "\n",
    "# server options\n",
    "host = 'datastream.ilykei.com' # do not change\n",
    "port = 30095   # do not change\n",
    "stream_name = 'Generative_AI_App'   # do not change\n",
    "catch_handler_errors = True  # we recommend using TRUE during the test and FALSE during workshop\n",
    "\n",
    "# make connection with your handler\n",
    "result = connect(host, port, login, password, stream_name,\n",
    "                 question_handler, catch_handler_errors)"
   ]
  },
  {
   "cell_type": "code",
   "execution_count": 16,
   "id": "b2dacec7-46fc-446e-a09f-f24205180974",
   "metadata": {},
   "outputs": [
    {
     "data": {
      "text/plain": [
       "{'problems': [], 'n_signals': 10, 'penalty': 4, 'score': 96}"
      ]
     },
     "execution_count": 16,
     "metadata": {},
     "output_type": "execute_result"
    }
   ],
   "source": [
    "# check results\n",
    "result"
   ]
  }
 ],
 "metadata": {
  "kernelspec": {
   "display_name": "Python 3 (ipykernel)",
   "language": "python",
   "name": "python3"
  },
  "language_info": {
   "codemirror_mode": {
    "name": "ipython",
    "version": 3
   },
   "file_extension": ".py",
   "mimetype": "text/x-python",
   "name": "python",
   "nbconvert_exporter": "python",
   "pygments_lexer": "ipython3",
   "version": "3.11.3"
  }
 },
 "nbformat": 4,
 "nbformat_minor": 5
}
