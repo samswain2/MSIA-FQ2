{
 "cells": [
  {
   "cell_type": "markdown",
   "id": "1ccc753c",
   "metadata": {},
   "source": [
    "# iLykei Lecture Series   \n",
    "# Generative AI App Client   \n",
    "\n",
    "### Y. Balasanov, A. Kobyshev, M. Tselishchev, &copy; iLykei 2023"
   ]
  },
  {
   "cell_type": "code",
   "execution_count": 5,
   "id": "58ec1c58-ea2e-41bd-8786-52ef23ec8a99",
   "metadata": {},
   "outputs": [],
   "source": [
    "## install necessary libs & compile proto-files\n",
    "\n",
    "#!pip install -q protobuf\n",
    "\n",
    "!protoc --python_out=./ *.proto"
   ]
  },
  {
   "cell_type": "markdown",
   "id": "424cd612",
   "metadata": {},
   "source": [
    "Define the event handler responding to test questions."
   ]
  },
  {
   "cell_type": "code",
   "execution_count": 2,
   "id": "7f227f61-3820-4aa3-a02c-72622f85a22f",
   "metadata": {},
   "outputs": [],
   "source": [
    "def question_handler(question_id, question):\n",
    "    # process new question\n",
    "    print(f'{question_id})Q: {question}')\n",
    "    answer = \"I don't know\"\n",
    "    print(f'A: {answer}')\n",
    "    print()\n",
    "    return answer"
   ]
  },
  {
   "cell_type": "markdown",
   "id": "17bfe559",
   "metadata": {},
   "source": [
    "Instead of the line `answer = \"I don't know\"` insert the code denerating the answer by your app."
   ]
  },
  {
   "cell_type": "code",
   "execution_count": 3,
   "id": "ec94b331-2b43-4433-8d5a-c805f402fc4d",
   "metadata": {},
   "outputs": [
    {
     "name": "stdout",
     "output_type": "stream",
     "text": [
      "Connecting to datastream.ilykei.com:30095\n",
      "Sending login message\n",
      "Logged in successfully as  m@ts\n",
      "0)Q: What is the specific cellular pathway targeted by PancreXcel in combatting pancreatic cancer?\n",
      "A: I don't know\n",
      "\n",
      "1)Q: How does PancreXcel disrupt the TGF-beta signaling pathway in pancreatic cancer?\n",
      "A: I don't know\n",
      "\n",
      "2)Q: What is the primary goal of PancreXcel in the treatment of pancreatic cancer?\n",
      "A: I don't know\n",
      "\n",
      "3)Q: What is the primary target of PancreXcel in the treatment of pancreatic cancer?\n",
      "A: I don't know\n",
      "\n",
      "4)Q: How does PancreaCure differ from PancreXcel in terms of its mechanism of action?\n",
      "A: I don't know\n",
      "\n",
      "5)Q: What potential benefits have been observed in clinical trials involving PanaTreat?\n",
      "A: I don't know\n",
      "\n",
      "6)Q: What is the primary target of PanoCure in its approach to pancreatic cancer treatment?\n",
      "A: I don't know\n",
      "\n",
      "7)Q: What challenges are associated with PanoCure's clinical trials?\n",
      "A: I don't know\n",
      "\n",
      "8)Q: Why is it important to understand the variations in therapeutic strategies among different pancreatic cancer treatments?\n",
      "A: I don't know\n",
      "\n",
      "9)Q: What was the primary goal of the pre-clinical research phase for PancreXcel?\n",
      "A: I don't know\n",
      "\n",
      "Stream has ended, goodbye!\n",
      "Some statistics:\n",
      "penalty= 87\n",
      "Your score is 13 / 100\n",
      "Connection closed\n",
      "You sent total of 10 answer(s) to server\n"
     ]
    }
   ],
   "source": [
    "from Generative_AI_App_connection import connect\n",
    "\n",
    "with open(\"my_credentials.txt\",'r') as f:\n",
    "    lines = f.readlines()\n",
    "login, password = map(str.strip, lines)\n",
    "\n",
    "# server options\n",
    "host = 'datastream.ilykei.com' # do not change\n",
    "port = 30095   # do not change\n",
    "stream_name = 'Generative_AI_App'   # do not change\n",
    "catch_handler_errors = True  # we recommend using TRUE during the test and FALSE during workshop\n",
    "\n",
    "# make connection with your handler\n",
    "result = connect(host, port, login, password, stream_name,\n",
    "                 question_handler, catch_handler_errors)"
   ]
  },
  {
   "cell_type": "code",
   "execution_count": 4,
   "id": "b2dacec7-46fc-446e-a09f-f24205180974",
   "metadata": {},
   "outputs": [
    {
     "data": {
      "text/plain": [
       "{'problems': [], 'n_signals': 10, 'penalty': 87, 'score': 13}"
      ]
     },
     "execution_count": 4,
     "metadata": {},
     "output_type": "execute_result"
    }
   ],
   "source": [
    "# check results\n",
    "result"
   ]
  }
 ],
 "metadata": {
  "kernelspec": {
   "display_name": "Python 3 (ipykernel)",
   "language": "python",
   "name": "python3"
  },
  "language_info": {
   "codemirror_mode": {
    "name": "ipython",
    "version": 3
   },
   "file_extension": ".py",
   "mimetype": "text/x-python",
   "name": "python",
   "nbconvert_exporter": "python",
   "pygments_lexer": "ipython3",
   "version": "3.10.12"
  }
 },
 "nbformat": 4,
 "nbformat_minor": 5
}
